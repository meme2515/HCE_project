{
 "cells": [
  {
   "cell_type": "markdown",
   "metadata": {},
   "source": [
    "# Project 1: Demographics and Education\n",
    "## Cleaning and Exploring Data with Pandas\n",
    "## Due Date: \n",
    "## Collaboration Policy\n",
    "\n",
    "Data science is a collaborative activity. While you may talk with others about\n",
    "the project, we ask that you **write your solutions individually**. If you do\n",
    "discuss the assignments with others please **include their names** at the top\n",
    "of your notebook.\n"
   ]
  },
  {
   "cell_type": "markdown",
   "metadata": {},
   "source": [
    "**Collaborators**: *list collaborators here*"
   ]
  },
  {
   "cell_type": "markdown",
   "metadata": {},
   "source": [
    "\n",
    "## This Assignment\n",
    "\n",
    "<img src=\"Data/dscn3145-e1516139447507.jpg\" style=\"width:600px\">\n",
    "\n",
    "In recent years, the positively correlated and multifaceted relationship between educational attainment and a given person's race in the United States has been emphasized as one of the main causes of racial income gap and generational poverty. Nonetheless, despite numerous intervention efforts made by the government and the private sector, the extent of the problem has remained pervasive and convoluted to this day.\n",
    "\n",
    "In this project, you will investigate data regarding student demographics and educational attainment for public schools in the state of California. The information have been made available by the California Department of Education. The main goal for this assignment is to understand the relationship between demographics and education. We will walk through various steps of exploratory data analysis to do this, and provide comments and insights along the way to give you a sense of how we arrive at each discovery and what next steps it leads to.\n",
    "\n",
    "As we clean and explore these data, you will gain practice with:\n",
    "* Reading simple csv files\n",
    "* Working with data at different levels of granularity\n",
    "* Identifying the type of data collected, missing values, anomalies, etc.\n",
    "* Applying probability sampling techniques\n",
    "* Exploring characteristics and distributions of individual variables\n",
    "\n",
    "## Score Breakdown\n",
    "Question | Points\n",
    "--- | ---\n",
    "1a | 0\n",
    "1b | 0\n",
    "1c | 1\n",
    "2a | 1\n",
    "2b | 1\n",
    "3a | 1\n",
    "3b | 1\n",
    "3c | 1\n",
    "3d | 1\n",
    "3e | 1\n",
    "3f | 1\n",
    "4a | 1\n",
    "4b | 1\n",
    "4c | 1\n",
    "4d | 1\n",
    "4e | 1\n",
    "4f | 1\n",
    "4g | 1\n",
    "4h | 1\n",
    "4i | 1\n",
    "5a | 1\n",
    "5b | 1\n",
    "5c | 1\n",
    "5d | 1\n",
    "6a | 1\n",
    "6b | 1\n",
    "6c | 1\n",
    "6d | 1\n",
    "7a | 1\n",
    "7b | 1\n",
    "8a | 1\n",
    "8b | 1\n",
    "8c | 1\n",
    "Total | 30"
   ]
  },
  {
   "cell_type": "code",
   "execution_count": 47,
   "metadata": {},
   "outputs": [],
   "source": [
    "import pandas as pd\n",
    "import numpy as np\n",
    "import matplotlib.pyplot as plt\n",
    "import seaborn as sns\n",
    "%matplotlib inline\n",
    "sns.set()"
   ]
  },
  {
   "cell_type": "markdown",
   "metadata": {},
   "source": [
    "---\n",
    "## 1: Loading Public Schools Data\n",
    "\n",
    "We have data, but we don't have any specific questions about the data yet, so let's focus on understanding the structure of the data. This involves answering questions such as:\n",
    "\n",
    "* Is the data in a standard format or encoding?\n",
    "* Is the data organized in records?\n",
    "* What are the fields in each record?"
   ]
  },
  {
   "cell_type": "markdown",
   "metadata": {},
   "source": [
    "### Question 1a: Reading in the Files\n",
    "\n",
    "Based on the above information, let's attempt to load `pubschls.txt` and `filesenr.txt` into pandas data frames with the following names: `sch` and `dem`, respectively."
   ]
  },
  {
   "cell_type": "code",
   "execution_count": 48,
   "metadata": {},
   "outputs": [],
   "source": [
    "sch = pd.read_csv('Data/pubschls.txt', sep=\"\\t\")\n",
    "sch = sch.loc[sch['StatusType']=='Active']\n",
    "sch = sch.replace('No Data', np.NaN)\n",
    "sch = sch[['CDSCode','County','District','School','Street','City',\\\n",
    "           'Zip','State','Phone','WebSite','SOC','SOCType']]\n",
    "\n",
    "act = pd.read_excel('Data/act18.xls')\n",
    "act = act[['cds','NumTstTakr','AvgScrEng','AvgScrRead','AvgScrMath','AvgScrSci']]\n",
    "\n",
    "sch = pd.merge(sch, act, left_on='CDSCode', right_on='cds', how='left')\n",
    "sch = sch.replace('*', np.NaN)\n",
    "sch.to_csv('Data/pubschls.csv')\n",
    "\n",
    "dem = pd.read_csv('Data/filesenr.txt', sep='\\t')\n",
    "dem = dem[['CDS_CODE','ETHNIC','GENDER','ENR_TOTAL']]\n",
    "dem.to_csv('Data/demographics.csv')\n",
    "\n",
    "# sch = pd.read_csv('Data/pubschls.csv')\n",
    "# dem = pd.read_csv('Data/demographics.csv')"
   ]
  },
  {
   "cell_type": "markdown",
   "metadata": {},
   "source": [
    "Now that you've read in the files, let's try some `pd.DataFrame` methods ([docs](https://pandas.pydata.org/pandas-docs/version/0.21/generated/pandas.DataFrame.html)).\n",
    "Use the `DataFrame.head` method to show the top few lines of the `sch` and `dem` dataframes. Use `Dataframe.describe` to learn about the numeric columns."
   ]
  },
  {
   "cell_type": "code",
   "execution_count": 49,
   "metadata": {},
   "outputs": [
    {
     "name": "stdout",
     "output_type": "stream",
     "text": [
      "         CDSCode   County                            District  \\\n",
      "0  1100170000000  Alameda  Alameda County Office of Education   \n",
      "1  1100170112607  Alameda  Alameda County Office of Education   \n",
      "2  1100170123968  Alameda  Alameda County Office of Education   \n",
      "3  1100170124172  Alameda  Alameda County Office of Education   \n",
      "4  1100170125567  Alameda  Alameda County Office of Education   \n",
      "\n",
      "                                    School                        Street  \\\n",
      "0                                      NaN        313 West Winton Avenue   \n",
      "1   Envision Academy for Arts & Technology           1515 Webster Street   \n",
      "2  Community School for Creative Education  2111 International Boulevard   \n",
      "3                          Yu Ming Charter          1086 Alcatraz Avenue   \n",
      "4                 Urban Montessori Charter             5328 Brann Street   \n",
      "\n",
      "      City         Zip State           Phone  \\\n",
      "0  Hayward  94544-1136    CA  (510) 887-0152   \n",
      "1  Oakland  94612-3355    CA  (510) 596-8901   \n",
      "2  Oakland  94606-4903    CA  (510) 686-4131   \n",
      "3  Oakland  94608-1265    CA  (510) 452-2063   \n",
      "4  Oakland  94619-3312    CA  (510) 842-1181   \n",
      "\n",
      "                                       WebSite  SOC  \\\n",
      "0                                 www.acoe.org  NaN   \n",
      "1                     www.envisionacademy.org/   66   \n",
      "2  www.communityschoolforcreativeeducation.org   60   \n",
      "3                         www.yumingschool.org   60   \n",
      "4                      www.urbanmontessori.org   60   \n",
      "\n",
      "                       SOCType           cds  NumTstTakr AvgScrEng AvgScrRead  \\\n",
      "0                          NaN  1.100170e+12        16.0        20         19   \n",
      "1        High Schools (Public)  1.100170e+12        16.0        20         19   \n",
      "2  Elementary Schools (Public)           NaN         NaN       NaN        NaN   \n",
      "3  Elementary Schools (Public)           NaN         NaN       NaN        NaN   \n",
      "4  Elementary Schools (Public)           NaN         NaN       NaN        NaN   \n",
      "\n",
      "  AvgScrMath AvgScrSci  \n",
      "0         20        20  \n",
      "1         20        20  \n",
      "2        NaN       NaN  \n",
      "3        NaN       NaN  \n",
      "4        NaN       NaN  \n",
      "        CDS_CODE  ETHNIC GENDER  ENR_TOTAL\n",
      "0  6615986003495       5      F        163\n",
      "1  6615986003495       1      F          3\n",
      "2  6615986003495       9      M          2\n",
      "3  6615986003495       7      M         45\n",
      "4  6615986003495       5      M        179\n"
     ]
    }
   ],
   "source": [
    "print(sch.head())\n",
    "print(dem.head())"
   ]
  },
  {
   "cell_type": "markdown",
   "metadata": {},
   "source": [
    "The `DataFrame.describe` method can also be handy for computing summaries of various statistics of our dataframes. Try it out with each of our 3 dataframes."
   ]
  },
  {
   "cell_type": "code",
   "execution_count": 50,
   "metadata": {
    "scrolled": true
   },
   "outputs": [
    {
     "name": "stdout",
     "output_type": "stream",
     "text": [
      "            CDSCode           cds    NumTstTakr\n",
      "count  1.176000e+04  2.114000e+03   2114.000000\n",
      "mean   2.942944e+13  2.919304e+13     94.595080\n",
      "std    1.428559e+13  1.436404e+13    301.218424\n",
      "min    1.100170e+12  1.100170e+12      0.000000\n",
      "25%    1.964733e+13  1.964725e+13      6.000000\n",
      "50%    3.066670e+13  3.066621e+13     40.000000\n",
      "75%    3.868479e+13  3.868478e+13    102.750000\n",
      "max    5.872770e+13  5.872770e+13  11607.000000\n",
      "                cds     NumTstTakr\n",
      "count  2.208000e+03    2208.000000\n",
      "mean   2.915714e+13     181.385417\n",
      "std    1.444040e+13    2256.131657\n",
      "min    0.000000e+00       0.000000\n",
      "25%    1.964725e+13       6.000000\n",
      "50%    3.066597e+13      40.000000\n",
      "75%    3.868478e+13     107.000000\n",
      "max    5.872770e+13  100197.000000\n"
     ]
    }
   ],
   "source": [
    "print(sch.describe())\n",
    "print(act.describe())"
   ]
  },
  {
   "cell_type": "markdown",
   "metadata": {},
   "source": [
    "Now, we perform some sanity checks for you to verify that you loaded the data with the right structure. Run the following cells to load some basic utilities (you do not need to change these at all)\n",
    "\n",
    "First, we check the basic structure of the data frames you created:"
   ]
  },
  {
   "cell_type": "code",
   "execution_count": 51,
   "metadata": {},
   "outputs": [
    {
     "data": {
      "text/plain": [
       "Index(['CDSCode', 'County', 'District', 'School', 'Street', 'City', 'Zip',\n",
       "       'State', 'Phone', 'WebSite', 'SOC', 'SOCType', 'cds', 'NumTstTakr',\n",
       "       'AvgScrEng', 'AvgScrRead', 'AvgScrMath', 'AvgScrSci'],\n",
       "      dtype='object')"
      ]
     },
     "execution_count": 51,
     "metadata": {},
     "output_type": "execute_result"
    }
   ],
   "source": [
    "sch.columns"
   ]
  },
  {
   "cell_type": "code",
   "execution_count": 52,
   "metadata": {},
   "outputs": [],
   "source": [
    "assert all(sch.columns == ['CDSCode', 'County', 'District', 'School', 'Street', 'City', 'Zip',\n",
    "       'State', 'Phone', 'WebSite', 'SOC', 'SOCType', 'cds', 'NumTstTakr',\n",
    "       'AvgScrEng', 'AvgScrRead', 'AvgScrMath', 'AvgScrSci'])\n",
    "assert 11760 <= len(sch) <= 11760\n",
    "\n",
    "assert all(dem.columns == ['CDS_CODE', 'ETHNIC', 'GENDER', 'ENR_TOTAL'])\n",
    "assert 130220 <= len(dem) <= 130220"
   ]
  },
  {
   "cell_type": "markdown",
   "metadata": {},
   "source": [
    "Next we'll check that the statistics match what we expect. The following are hard-coded statistical summaries of the correct data."
   ]
  },
  {
   "cell_type": "code",
   "execution_count": 53,
   "metadata": {},
   "outputs": [
    {
     "name": "stdout",
     "output_type": "stream",
     "text": [
      "What we expect from your Businesses dataframe:\n"
     ]
    },
    {
     "data": {
      "text/html": [
       "<div>\n",
       "<style scoped>\n",
       "    .dataframe tbody tr th:only-of-type {\n",
       "        vertical-align: middle;\n",
       "    }\n",
       "\n",
       "    .dataframe tbody tr th {\n",
       "        vertical-align: top;\n",
       "    }\n",
       "\n",
       "    .dataframe thead th {\n",
       "        text-align: right;\n",
       "    }\n",
       "</style>\n",
       "<table border=\"1\" class=\"dataframe\">\n",
       "  <thead>\n",
       "    <tr style=\"text-align: right;\">\n",
       "      <th></th>\n",
       "      <th>CDSCode</th>\n",
       "      <th>cds</th>\n",
       "      <th>NumTstTakr</th>\n",
       "    </tr>\n",
       "  </thead>\n",
       "  <tbody>\n",
       "    <tr>\n",
       "      <th>min</th>\n",
       "      <td>1.100170e+12</td>\n",
       "      <td>1.100170e+12</td>\n",
       "      <td>0.0</td>\n",
       "    </tr>\n",
       "    <tr>\n",
       "      <th>50%</th>\n",
       "      <td>3.066670e+13</td>\n",
       "      <td>3.066621e+13</td>\n",
       "      <td>40.0</td>\n",
       "    </tr>\n",
       "    <tr>\n",
       "      <th>max</th>\n",
       "      <td>5.872770e+13</td>\n",
       "      <td>5.872770e+13</td>\n",
       "      <td>11607.0</td>\n",
       "    </tr>\n",
       "  </tbody>\n",
       "</table>\n",
       "</div>"
      ],
      "text/plain": [
       "          CDSCode           cds  NumTstTakr\n",
       "min  1.100170e+12  1.100170e+12         0.0\n",
       "50%  3.066670e+13  3.066621e+13        40.0\n",
       "max  5.872770e+13  5.872770e+13     11607.0"
      ]
     },
     "metadata": {},
     "output_type": "display_data"
    },
    {
     "name": "stdout",
     "output_type": "stream",
     "text": [
      "What we expect from your Inspections dataframe:\n"
     ]
    },
    {
     "data": {
      "text/html": [
       "<div>\n",
       "<style scoped>\n",
       "    .dataframe tbody tr th:only-of-type {\n",
       "        vertical-align: middle;\n",
       "    }\n",
       "\n",
       "    .dataframe tbody tr th {\n",
       "        vertical-align: top;\n",
       "    }\n",
       "\n",
       "    .dataframe thead th {\n",
       "        text-align: right;\n",
       "    }\n",
       "</style>\n",
       "<table border=\"1\" class=\"dataframe\">\n",
       "  <thead>\n",
       "    <tr style=\"text-align: right;\">\n",
       "      <th></th>\n",
       "      <th>CDS_CODE</th>\n",
       "      <th>ETHNIC</th>\n",
       "      <th>ENR_TOTAL</th>\n",
       "    </tr>\n",
       "  </thead>\n",
       "  <tbody>\n",
       "    <tr>\n",
       "      <th>min</th>\n",
       "      <td>1.100170e+12</td>\n",
       "      <td>0.0</td>\n",
       "      <td>0.0</td>\n",
       "    </tr>\n",
       "    <tr>\n",
       "      <th>50%</th>\n",
       "      <td>3.166911e+13</td>\n",
       "      <td>5.0</td>\n",
       "      <td>8.0</td>\n",
       "    </tr>\n",
       "    <tr>\n",
       "      <th>max</th>\n",
       "      <td>5.872770e+13</td>\n",
       "      <td>9.0</td>\n",
       "      <td>2031.0</td>\n",
       "    </tr>\n",
       "  </tbody>\n",
       "</table>\n",
       "</div>"
      ],
      "text/plain": [
       "         CDS_CODE  ETHNIC  ENR_TOTAL\n",
       "min  1.100170e+12     0.0        0.0\n",
       "50%  3.166911e+13     5.0        8.0\n",
       "max  5.872770e+13     9.0     2031.0"
      ]
     },
     "metadata": {},
     "output_type": "display_data"
    }
   ],
   "source": [
    "sch_summary = pd.DataFrame(**{'columns': ['CDSCode', 'cds', 'NumTstTakr'],\n",
    " 'data': {'CDSCode': {'50%': 3.066670e+13, 'max': 5.872770e+13, 'min': 1.100170e+12},\n",
    "  'cds': {'50%': 3.066621e+13, 'max': 5.872770e+13, 'min': 1.100170e+12},\n",
    "  'NumTstTakr': {'50%': 40.000000,\n",
    "   'max': 11607.000000,\n",
    "   'min': 0.000000}},\n",
    " 'index': ['min', '50%', 'max']})\n",
    "\n",
    "dem_summary = pd.DataFrame(**{'columns': ['CDS_CODE', 'ETHNIC', 'ENR_TOTAL'],\n",
    " 'data': {'CDS_CODE': {'50%': 3.166911e+13, 'max':  5.872770e+13, 'min': 1.100170e+12},\n",
    " 'ETHNIC': {'50%': 5.000000, 'max': 9.000000, 'min': 0.000000},\n",
    " 'ENR_TOTAL': {'50%': 8.000000, 'max': 2031.000000, 'min': 0.000000}},\n",
    " 'index': ['min', '50%', 'max']})\n",
    "\n",
    "from IPython.display import display\n",
    "\n",
    "print('What we expect from your Businesses dataframe:')\n",
    "display(sch_summary)\n",
    "print('What we expect from your Inspections dataframe:')\n",
    "display(dem_summary)"
   ]
  },
  {
   "cell_type": "markdown",
   "metadata": {},
   "source": [
    "The code below defines a testing function that we'll use to verify that your data has the same statistics as what we expect. Run these cells to define the function. The `df_allclose` function has this name because we are verifying that all of the statistics for your dataframe are close to the expected values. Why not `df_allequal`? It's a bad idea in almost all cases to compare two floating point values like 37.780435, as rounding error can cause spurious failures."
   ]
  },
  {
   "cell_type": "markdown",
   "metadata": {},
   "source": [
    "### Question 1b: Verifying the data\n",
    "\n",
    "Now let's run the automated tests. If your dataframes are correct, then the following cell will seem to do nothing, which is a good thing! However, if your variables don't match the correct answers in the main summary statistics shown above, an exception will be raised."
   ]
  },
  {
   "cell_type": "code",
   "execution_count": 54,
   "metadata": {},
   "outputs": [],
   "source": [
    "\"\"\"Run this cell to load this utility comparison function that we will use in various\n",
    "tests below (both tests you can see and those we run internally for grading).\n",
    "\n",
    "Do not modify the function in any way.\n",
    "\"\"\"\n",
    "\n",
    "\n",
    "def df_allclose(actual, desired, columns=None, rtol=5e-2):\n",
    "    \"\"\"Compare selected columns of two dataframes on a few summary statistics.\n",
    "    \n",
    "    Compute the min, median and max of the two dataframes on the given columns, and compare\n",
    "    that they match numerically to the given relative tolerance.\n",
    "    \n",
    "    If they don't match, an AssertionError is raised (by `numpy.testing`).\n",
    "    \"\"\"    \n",
    "    # summary statistics to compare on\n",
    "    stats = ['min', '50%', 'max']\n",
    "    \n",
    "    # For the desired values, we can provide a full DF with the same structure as\n",
    "    # the actual data, or pre-computed summary statistics.\n",
    "    # We assume a pre-computed summary was provided if columns is None. In that case, \n",
    "    # `desired` *must* have the same structure as the actual's summary\n",
    "    if columns is None:\n",
    "        des = desired\n",
    "        columns = desired.columns\n",
    "    else:\n",
    "        des = desired[columns].describe().loc[stats]\n",
    "\n",
    "    # Extract summary stats from actual DF\n",
    "    act = actual[columns].describe().loc[stats]\n",
    "\n",
    "    return np.allclose(act, des, rtol)"
   ]
  },
  {
   "cell_type": "markdown",
   "metadata": {},
   "source": [
    "### Question 1c: Identifying Issues with the Data\n",
    "\n",
    "Use the `head` command on your three files again. This time, describe at least one potential problem with the data you see. Consider issues with missing values and bad data."
   ]
  },
  {
   "cell_type": "code",
   "execution_count": 55,
   "metadata": {},
   "outputs": [
    {
     "data": {
      "text/html": [
       "<div>\n",
       "<style scoped>\n",
       "    .dataframe tbody tr th:only-of-type {\n",
       "        vertical-align: middle;\n",
       "    }\n",
       "\n",
       "    .dataframe tbody tr th {\n",
       "        vertical-align: top;\n",
       "    }\n",
       "\n",
       "    .dataframe thead th {\n",
       "        text-align: right;\n",
       "    }\n",
       "</style>\n",
       "<table border=\"1\" class=\"dataframe\">\n",
       "  <thead>\n",
       "    <tr style=\"text-align: right;\">\n",
       "      <th></th>\n",
       "      <th>CDSCode</th>\n",
       "      <th>County</th>\n",
       "      <th>District</th>\n",
       "      <th>School</th>\n",
       "      <th>Street</th>\n",
       "      <th>City</th>\n",
       "      <th>Zip</th>\n",
       "      <th>State</th>\n",
       "      <th>Phone</th>\n",
       "      <th>WebSite</th>\n",
       "      <th>SOC</th>\n",
       "      <th>SOCType</th>\n",
       "      <th>cds</th>\n",
       "      <th>NumTstTakr</th>\n",
       "      <th>AvgScrEng</th>\n",
       "      <th>AvgScrRead</th>\n",
       "      <th>AvgScrMath</th>\n",
       "      <th>AvgScrSci</th>\n",
       "    </tr>\n",
       "  </thead>\n",
       "  <tbody>\n",
       "    <tr>\n",
       "      <th>0</th>\n",
       "      <td>1100170000000</td>\n",
       "      <td>Alameda</td>\n",
       "      <td>Alameda County Office of Education</td>\n",
       "      <td>NaN</td>\n",
       "      <td>313 West Winton Avenue</td>\n",
       "      <td>Hayward</td>\n",
       "      <td>94544-1136</td>\n",
       "      <td>CA</td>\n",
       "      <td>(510) 887-0152</td>\n",
       "      <td>www.acoe.org</td>\n",
       "      <td>NaN</td>\n",
       "      <td>NaN</td>\n",
       "      <td>1.100170e+12</td>\n",
       "      <td>16.0</td>\n",
       "      <td>20</td>\n",
       "      <td>19</td>\n",
       "      <td>20</td>\n",
       "      <td>20</td>\n",
       "    </tr>\n",
       "    <tr>\n",
       "      <th>1</th>\n",
       "      <td>1100170112607</td>\n",
       "      <td>Alameda</td>\n",
       "      <td>Alameda County Office of Education</td>\n",
       "      <td>Envision Academy for Arts &amp; Technology</td>\n",
       "      <td>1515 Webster Street</td>\n",
       "      <td>Oakland</td>\n",
       "      <td>94612-3355</td>\n",
       "      <td>CA</td>\n",
       "      <td>(510) 596-8901</td>\n",
       "      <td>www.envisionacademy.org/</td>\n",
       "      <td>66</td>\n",
       "      <td>High Schools (Public)</td>\n",
       "      <td>1.100170e+12</td>\n",
       "      <td>16.0</td>\n",
       "      <td>20</td>\n",
       "      <td>19</td>\n",
       "      <td>20</td>\n",
       "      <td>20</td>\n",
       "    </tr>\n",
       "    <tr>\n",
       "      <th>2</th>\n",
       "      <td>1100170123968</td>\n",
       "      <td>Alameda</td>\n",
       "      <td>Alameda County Office of Education</td>\n",
       "      <td>Community School for Creative Education</td>\n",
       "      <td>2111 International Boulevard</td>\n",
       "      <td>Oakland</td>\n",
       "      <td>94606-4903</td>\n",
       "      <td>CA</td>\n",
       "      <td>(510) 686-4131</td>\n",
       "      <td>www.communityschoolforcreativeeducation.org</td>\n",
       "      <td>60</td>\n",
       "      <td>Elementary Schools (Public)</td>\n",
       "      <td>NaN</td>\n",
       "      <td>NaN</td>\n",
       "      <td>NaN</td>\n",
       "      <td>NaN</td>\n",
       "      <td>NaN</td>\n",
       "      <td>NaN</td>\n",
       "    </tr>\n",
       "    <tr>\n",
       "      <th>3</th>\n",
       "      <td>1100170124172</td>\n",
       "      <td>Alameda</td>\n",
       "      <td>Alameda County Office of Education</td>\n",
       "      <td>Yu Ming Charter</td>\n",
       "      <td>1086 Alcatraz Avenue</td>\n",
       "      <td>Oakland</td>\n",
       "      <td>94608-1265</td>\n",
       "      <td>CA</td>\n",
       "      <td>(510) 452-2063</td>\n",
       "      <td>www.yumingschool.org</td>\n",
       "      <td>60</td>\n",
       "      <td>Elementary Schools (Public)</td>\n",
       "      <td>NaN</td>\n",
       "      <td>NaN</td>\n",
       "      <td>NaN</td>\n",
       "      <td>NaN</td>\n",
       "      <td>NaN</td>\n",
       "      <td>NaN</td>\n",
       "    </tr>\n",
       "    <tr>\n",
       "      <th>4</th>\n",
       "      <td>1100170125567</td>\n",
       "      <td>Alameda</td>\n",
       "      <td>Alameda County Office of Education</td>\n",
       "      <td>Urban Montessori Charter</td>\n",
       "      <td>5328 Brann Street</td>\n",
       "      <td>Oakland</td>\n",
       "      <td>94619-3312</td>\n",
       "      <td>CA</td>\n",
       "      <td>(510) 842-1181</td>\n",
       "      <td>www.urbanmontessori.org</td>\n",
       "      <td>60</td>\n",
       "      <td>Elementary Schools (Public)</td>\n",
       "      <td>NaN</td>\n",
       "      <td>NaN</td>\n",
       "      <td>NaN</td>\n",
       "      <td>NaN</td>\n",
       "      <td>NaN</td>\n",
       "      <td>NaN</td>\n",
       "    </tr>\n",
       "  </tbody>\n",
       "</table>\n",
       "</div>"
      ],
      "text/plain": [
       "         CDSCode   County                            District  \\\n",
       "0  1100170000000  Alameda  Alameda County Office of Education   \n",
       "1  1100170112607  Alameda  Alameda County Office of Education   \n",
       "2  1100170123968  Alameda  Alameda County Office of Education   \n",
       "3  1100170124172  Alameda  Alameda County Office of Education   \n",
       "4  1100170125567  Alameda  Alameda County Office of Education   \n",
       "\n",
       "                                    School                        Street  \\\n",
       "0                                      NaN        313 West Winton Avenue   \n",
       "1   Envision Academy for Arts & Technology           1515 Webster Street   \n",
       "2  Community School for Creative Education  2111 International Boulevard   \n",
       "3                          Yu Ming Charter          1086 Alcatraz Avenue   \n",
       "4                 Urban Montessori Charter             5328 Brann Street   \n",
       "\n",
       "      City         Zip State           Phone  \\\n",
       "0  Hayward  94544-1136    CA  (510) 887-0152   \n",
       "1  Oakland  94612-3355    CA  (510) 596-8901   \n",
       "2  Oakland  94606-4903    CA  (510) 686-4131   \n",
       "3  Oakland  94608-1265    CA  (510) 452-2063   \n",
       "4  Oakland  94619-3312    CA  (510) 842-1181   \n",
       "\n",
       "                                       WebSite  SOC  \\\n",
       "0                                 www.acoe.org  NaN   \n",
       "1                     www.envisionacademy.org/   66   \n",
       "2  www.communityschoolforcreativeeducation.org   60   \n",
       "3                         www.yumingschool.org   60   \n",
       "4                      www.urbanmontessori.org   60   \n",
       "\n",
       "                       SOCType           cds  NumTstTakr AvgScrEng AvgScrRead  \\\n",
       "0                          NaN  1.100170e+12        16.0        20         19   \n",
       "1        High Schools (Public)  1.100170e+12        16.0        20         19   \n",
       "2  Elementary Schools (Public)           NaN         NaN       NaN        NaN   \n",
       "3  Elementary Schools (Public)           NaN         NaN       NaN        NaN   \n",
       "4  Elementary Schools (Public)           NaN         NaN       NaN        NaN   \n",
       "\n",
       "  AvgScrMath AvgScrSci  \n",
       "0         20        20  \n",
       "1         20        20  \n",
       "2        NaN       NaN  \n",
       "3        NaN       NaN  \n",
       "4        NaN       NaN  "
      ]
     },
     "execution_count": 55,
     "metadata": {},
     "output_type": "execute_result"
    }
   ],
   "source": [
    "sch.head()"
   ]
  },
  {
   "cell_type": "markdown",
   "metadata": {},
   "source": [
    "**SOLUTION:**  \n",
    "\n",
    "*There appears to be a missing school name for CDS 1100170000000. There are also lots of schools that are missing relevant ACT Score data. You can see that the issue is in that the dataset contains non-highschools.*"
   ]
  },
  {
   "cell_type": "markdown",
   "metadata": {},
   "source": [
    "We will explore each file in turn, including determining its granularity and primary keys and exploring many of the variables individually. Let's begin with the pubschls file, which has been read into the `sch` dataframe."
   ]
  },
  {
   "cell_type": "markdown",
   "metadata": {},
   "source": [
    "---\n",
    "## 2: Examining the Public Schools Data\n",
    "\n",
    "From its name alone, we expect the `pubschls.csv` file to contain information about the public schools in the state of California. Let's investigate the granularity of this dataset."
   ]
  },
  {
   "cell_type": "markdown",
   "metadata": {},
   "source": [
    "### Question 2a\n",
    "\n",
    "Examining the entries in `sch`, is the `CDSCode` (this 14-digit code is the official, unique identification of a school within California) unique for each record? Your code should compute the answer, i.e. don't just hard code `True` or `False`.\n",
    "\n",
    "Hint: use `value_counts()` or `unique()` to determine if the `CDSCode` series has any duplicates."
   ]
  },
  {
   "cell_type": "code",
   "execution_count": 56,
   "metadata": {},
   "outputs": [
    {
     "data": {
      "text/plain": [
       "True"
      ]
     },
     "execution_count": 56,
     "metadata": {},
     "output_type": "execute_result"
    }
   ],
   "source": [
    "is_school_id_unique = True not in (sch['CDSCode'].value_counts() != 1)\n",
    "is_school_id_unique"
   ]
  },
  {
   "cell_type": "markdown",
   "metadata": {},
   "source": [
    "### Question 2b\n",
    "\n",
    "With this information, you can address the question of granularity. Answer the questions below.\n",
    "\n",
    "1. What does each record represent?  \n",
    "1. What is the primary key?\n",
    "1. What would you find by grouping by the following columns: `CDSCode`, `Zip`, `State`?\n",
    "\n",
    "Please write your answer in the markdown cell below. You may create new cells below your answer to run code, but **please never add cells between a question cell and the answer cell below it.**"
   ]
  },
  {
   "cell_type": "markdown",
   "metadata": {},
   "source": [
    "**SOLUTION**:  \n",
    "\n",
    "1. *Each record represents an instance of registered public school.*\n",
    "2. *CDSCode*\n",
    "3. *With CDSCode, we would find the same table as the original schools table because it appears that CDSCode is unique to each school. With Zip, we would find instances sharing the same postal code appear together under the same group, though it sounds unlikely that we would find such a case. With State, we would find schools located in the same state.*"
   ]
  },
  {
   "cell_type": "markdown",
   "metadata": {},
   "source": [
    "---\n",
    "## 3: SOC Types and Zip Codes\n",
    "\n",
    "Next, let's  explore some of the variables in the schools table. We begin by examining the SOC Types (the text description of the type of school).\n",
    "\n",
    "### Question 3a\n",
    "\n",
    "Answer the following questions about the `SOC Type` column in the `sch` data frame?  \n",
    "1. Are SOC Types quantitative or qualitative? If qualitative, is it ordinal or nominal? \n",
    "1. What data type is used to represent a SOC Type?"
   ]
  },
  {
   "cell_type": "markdown",
   "metadata": {},
   "source": [
    "**Solution:**\n",
    "\n",
    "1. *SOC Types are qualitative and nominal.*\n",
    "2. *String data type.*"
   ]
  },
  {
   "cell_type": "markdown",
   "metadata": {},
   "source": [
    "### Question 3b\n",
    "\n",
    "How many schools are in each school type? \n",
    "\n",
    "In the cell below, create a series where the index is the school and the value is the number of records with that school type in descending order of count. `Elementary Schools (Public)` should be on the top with 5664 records."
   ]
  },
  {
   "cell_type": "code",
   "execution_count": 57,
   "metadata": {},
   "outputs": [
    {
     "data": {
      "text/plain": [
       "SOCType\n",
       "Elementary Schools (Public)             5664\n",
       "High Schools (Public)                   1314\n",
       "Intermediate/Middle Schools (Public)    1289\n",
       "Continuation High Schools                438\n",
       "K-12 Schools (Public)                    368\n",
       "dtype: int64"
      ]
     },
     "execution_count": 57,
     "metadata": {},
     "output_type": "execute_result"
    }
   ],
   "source": [
    "type_counts = sch.groupby('SOCType').size().sort_values(ascending=False)\n",
    "type_counts.head()"
   ]
  },
  {
   "cell_type": "markdown",
   "metadata": {},
   "source": [
    "Did you take into account that some schools have missing SOC Types?"
   ]
  },
  {
   "cell_type": "code",
   "execution_count": 58,
   "metadata": {},
   "outputs": [
    {
     "name": "stdout",
     "output_type": "stream",
     "text": [
      "zip_counts describes 10655 records.\n",
      "The original data have 11760 records\n"
     ]
    }
   ],
   "source": [
    "print('zip_counts describes', sum(type_counts), 'records.')\n",
    "print('The original data have', len(sch), 'records')"
   ]
  },
  {
   "cell_type": "markdown",
   "metadata": {},
   "source": [
    "Missing data is extremely common in real-world data science projects. There are several ways to include missing school types in the `type_counts` series above. One approach is to use the `fillna` method of the series, which will replace all null (a.k.a. NaN) values with a string of our choosing. In the example below, we picked \"No Data\". When you run the code below, you should see that there are 1105 schools with no school type information."
   ]
  },
  {
   "cell_type": "code",
   "execution_count": 59,
   "metadata": {},
   "outputs": [
    {
     "data": {
      "text/plain": [
       "SOCType\n",
       "Elementary Schools (Public)                  5664\n",
       "High Schools (Public)                        1314\n",
       "Intermediate/Middle Schools (Public)         1289\n",
       "No Data                                      1105\n",
       "Continuation High Schools                     438\n",
       "K-12 Schools (Public)                         368\n",
       "Adult Education Centers                       297\n",
       "Alternative Schools of Choice                 270\n",
       "Elemen Schools In 1 School Dist. (Public)     229\n",
       "District Community Day Schools                183\n",
       "Special Education Schools (Public)            154\n",
       "Preschool                                     152\n",
       "County Community                               77\n",
       "ROC/ROP                                        69\n",
       "Juvenile Court Schools                         62\n",
       "dtype: int64"
      ]
     },
     "execution_count": 59,
     "metadata": {},
     "output_type": "execute_result"
    }
   ],
   "source": [
    "type_counts = sch.fillna(\"No Data\").groupby(\"SOCType\").size().sort_values(ascending=False)\n",
    "type_counts.head(15)"
   ]
  },
  {
   "cell_type": "markdown",
   "metadata": {},
   "source": [
    "An alternate approach is to use the DataFrame `value_counts` method with the optional argument `dropna=False`, which will ensure that null values are counted. In this case, the index will be `NaN` for the row corresponding to a null postal code."
   ]
  },
  {
   "cell_type": "code",
   "execution_count": 60,
   "metadata": {
    "scrolled": true
   },
   "outputs": [
    {
     "data": {
      "text/plain": [
       "Elementary Schools (Public)                  5664\n",
       "High Schools (Public)                        1314\n",
       "Intermediate/Middle Schools (Public)         1289\n",
       "NaN                                          1105\n",
       "Continuation High Schools                     438\n",
       "K-12 Schools (Public)                         368\n",
       "Adult Education Centers                       297\n",
       "Alternative Schools of Choice                 270\n",
       "Elemen Schools In 1 School Dist. (Public)     229\n",
       "District Community Day Schools                183\n",
       "Special Education Schools (Public)            154\n",
       "Preschool                                     152\n",
       "County Community                               77\n",
       "ROC/ROP                                        69\n",
       "Juvenile Court Schools                         62\n",
       "Name: SOCType, dtype: int64"
      ]
     },
     "execution_count": 60,
     "metadata": {},
     "output_type": "execute_result"
    }
   ],
   "source": [
    "sch[\"SOCType\"].value_counts(dropna=False).sort_values(ascending = False).head(15)"
   ]
  },
  {
   "cell_type": "markdown",
   "metadata": {},
   "source": [
    "### Question 3c : A Closer Look at Missing School Types\n",
    "\n",
    "Let's look more closely at records with missing `SOC Types`. Describe the pattern among records have missing school types. What can you conclude about schools that are missing `SOC Types` but have information on average ACT Scores? Also Pay attention to their school names.\n",
    "\n",
    "*Hint*: The `isnull` method of a series returns a boolean series which is true only for entries in the original series that were missing."
   ]
  },
  {
   "cell_type": "code",
   "execution_count": 15,
   "metadata": {
    "scrolled": false
   },
   "outputs": [
    {
     "data": {
      "text/html": [
       "<div>\n",
       "<style scoped>\n",
       "    .dataframe tbody tr th:only-of-type {\n",
       "        vertical-align: middle;\n",
       "    }\n",
       "\n",
       "    .dataframe tbody tr th {\n",
       "        vertical-align: top;\n",
       "    }\n",
       "\n",
       "    .dataframe thead th {\n",
       "        text-align: right;\n",
       "    }\n",
       "</style>\n",
       "<table border=\"1\" class=\"dataframe\">\n",
       "  <thead>\n",
       "    <tr style=\"text-align: right;\">\n",
       "      <th></th>\n",
       "      <th>CDSCode</th>\n",
       "      <th>County</th>\n",
       "      <th>District</th>\n",
       "      <th>School</th>\n",
       "      <th>Street</th>\n",
       "      <th>City</th>\n",
       "      <th>Zip</th>\n",
       "      <th>State</th>\n",
       "      <th>Phone</th>\n",
       "      <th>WebSite</th>\n",
       "      <th>SOC</th>\n",
       "      <th>SOCType</th>\n",
       "      <th>cds</th>\n",
       "      <th>NumTstTakr</th>\n",
       "      <th>AvgScrEng</th>\n",
       "      <th>AvgScrRead</th>\n",
       "      <th>AvgScrMath</th>\n",
       "      <th>AvgScrSci</th>\n",
       "    </tr>\n",
       "  </thead>\n",
       "  <tbody>\n",
       "    <tr>\n",
       "      <th>9672</th>\n",
       "      <td>43693850000000</td>\n",
       "      <td>Santa Clara</td>\n",
       "      <td>Cambrian</td>\n",
       "      <td>NaN</td>\n",
       "      <td>4115 Jacksol Drive</td>\n",
       "      <td>San Jose</td>\n",
       "      <td>95124-3312</td>\n",
       "      <td>CA</td>\n",
       "      <td>(408) 377-2103</td>\n",
       "      <td>www.cambriansd.org</td>\n",
       "      <td>NaN</td>\n",
       "      <td>NaN</td>\n",
       "      <td>NaN</td>\n",
       "      <td>NaN</td>\n",
       "      <td>NaN</td>\n",
       "      <td>NaN</td>\n",
       "      <td>NaN</td>\n",
       "      <td>NaN</td>\n",
       "    </tr>\n",
       "    <tr>\n",
       "      <th>10962</th>\n",
       "      <td>51713990000000</td>\n",
       "      <td>Sutter</td>\n",
       "      <td>Live Oak Unified</td>\n",
       "      <td>NaN</td>\n",
       "      <td>2201 Pennington Road</td>\n",
       "      <td>Live Oak</td>\n",
       "      <td>95953-2469</td>\n",
       "      <td>CA</td>\n",
       "      <td>(530) 695-5400</td>\n",
       "      <td>www.lousd.k12.ca.us</td>\n",
       "      <td>NaN</td>\n",
       "      <td>NaN</td>\n",
       "      <td>5.171399e+13</td>\n",
       "      <td>30.0</td>\n",
       "      <td>23</td>\n",
       "      <td>23</td>\n",
       "      <td>23</td>\n",
       "      <td>22</td>\n",
       "    </tr>\n",
       "    <tr>\n",
       "      <th>11043</th>\n",
       "      <td>52715300000000</td>\n",
       "      <td>Tehama</td>\n",
       "      <td>Flournoy Union Elementary</td>\n",
       "      <td>NaN</td>\n",
       "      <td>15850 Paskenta Road</td>\n",
       "      <td>Flournoy</td>\n",
       "      <td>96029-2260</td>\n",
       "      <td>CA</td>\n",
       "      <td>(530) 833-5331</td>\n",
       "      <td>www.flournoyschool.org</td>\n",
       "      <td>NaN</td>\n",
       "      <td>NaN</td>\n",
       "      <td>NaN</td>\n",
       "      <td>NaN</td>\n",
       "      <td>NaN</td>\n",
       "      <td>NaN</td>\n",
       "      <td>NaN</td>\n",
       "      <td>NaN</td>\n",
       "    </tr>\n",
       "    <tr>\n",
       "      <th>7317</th>\n",
       "      <td>36676370000000</td>\n",
       "      <td>San Bernardino</td>\n",
       "      <td>Bear Valley Unified</td>\n",
       "      <td>NaN</td>\n",
       "      <td>42271 Moonridge Road</td>\n",
       "      <td>Big Bear Lake</td>\n",
       "      <td>92315-1529</td>\n",
       "      <td>CA</td>\n",
       "      <td>(909) 866-4631</td>\n",
       "      <td>www.bearvalleyusd.org</td>\n",
       "      <td>NaN</td>\n",
       "      <td>NaN</td>\n",
       "      <td>3.667637e+13</td>\n",
       "      <td>22.0</td>\n",
       "      <td>23</td>\n",
       "      <td>24</td>\n",
       "      <td>24</td>\n",
       "      <td>24</td>\n",
       "    </tr>\n",
       "    <tr>\n",
       "      <th>7793</th>\n",
       "      <td>36739570000000</td>\n",
       "      <td>San Bernardino</td>\n",
       "      <td>Snowline Joint Unified</td>\n",
       "      <td>NaN</td>\n",
       "      <td>4075 Nielson Road</td>\n",
       "      <td>Phelan</td>\n",
       "      <td>92329-6000</td>\n",
       "      <td>CA</td>\n",
       "      <td>(760) 868-5817</td>\n",
       "      <td>www.snowlineschools.com</td>\n",
       "      <td>NaN</td>\n",
       "      <td>NaN</td>\n",
       "      <td>3.673957e+13</td>\n",
       "      <td>55.0</td>\n",
       "      <td>22</td>\n",
       "      <td>23</td>\n",
       "      <td>24</td>\n",
       "      <td>23</td>\n",
       "    </tr>\n",
       "  </tbody>\n",
       "</table>\n",
       "</div>"
      ],
      "text/plain": [
       "              CDSCode          County                   District School  \\\n",
       "9672   43693850000000     Santa Clara                   Cambrian    NaN   \n",
       "10962  51713990000000          Sutter           Live Oak Unified    NaN   \n",
       "11043  52715300000000          Tehama  Flournoy Union Elementary    NaN   \n",
       "7317   36676370000000  San Bernardino        Bear Valley Unified    NaN   \n",
       "7793   36739570000000  San Bernardino     Snowline Joint Unified    NaN   \n",
       "\n",
       "                     Street           City         Zip State           Phone  \\\n",
       "9672     4115 Jacksol Drive       San Jose  95124-3312    CA  (408) 377-2103   \n",
       "10962  2201 Pennington Road       Live Oak  95953-2469    CA  (530) 695-5400   \n",
       "11043   15850 Paskenta Road       Flournoy  96029-2260    CA  (530) 833-5331   \n",
       "7317   42271 Moonridge Road  Big Bear Lake  92315-1529    CA  (909) 866-4631   \n",
       "7793      4075 Nielson Road         Phelan  92329-6000    CA  (760) 868-5817   \n",
       "\n",
       "                       WebSite  SOC SOCType           cds  NumTstTakr  \\\n",
       "9672        www.cambriansd.org  NaN     NaN           NaN         NaN   \n",
       "10962      www.lousd.k12.ca.us  NaN     NaN  5.171399e+13        30.0   \n",
       "11043   www.flournoyschool.org  NaN     NaN           NaN         NaN   \n",
       "7317     www.bearvalleyusd.org  NaN     NaN  3.667637e+13        22.0   \n",
       "7793   www.snowlineschools.com  NaN     NaN  3.673957e+13        55.0   \n",
       "\n",
       "      AvgScrEng AvgScrRead AvgScrMath AvgScrSci  \n",
       "9672        NaN        NaN        NaN       NaN  \n",
       "10962        23         23         23        22  \n",
       "11043       NaN        NaN        NaN       NaN  \n",
       "7317         23         24         24        24  \n",
       "7793         22         23         24        23  "
      ]
     },
     "execution_count": 15,
     "metadata": {},
     "output_type": "execute_result"
    }
   ],
   "source": [
    "sch.loc[sch['SOCType'].isnull()].sample(5)"
   ]
  },
  {
   "cell_type": "markdown",
   "metadata": {},
   "source": [
    "**Solution:**\n",
    "\n",
    "*It appears that schools missing `SOC Types` information are also missing information on actual names of the schools. However, it appears that a significant portion of schools missing `SOC Types` information contains information on average SAT scores, which makes it reasonable to infer that these are high schools.*"
   ]
  },
  {
   "cell_type": "markdown",
   "metadata": {},
   "source": [
    "### Question 3d\n",
    "\n",
    "The aim of the project is to compare school demographics with scores of standardized test administered only to high school students. Based on your observation above, is it reasonable to include schools that one of the `SOC types` comparable to a high school (the list is given below as SOCLIST)? Does it also make sense to include schools that we have information on average ACT Scores on?\n",
    "\n",
    "Using both filtering methods described above, assign `sch` to a new dataframe that has the same columns but only the rows that fall into the schools that we're interested in. In the real world, filtering our postal codes in this way may not be ideal. (Fortunately, this is just a course assignment.)\n",
    "\n",
    "*Hint*: The `notna()` method of a series returns a boolean series which is true only for entries in the original series that were not missing.\n",
    "\n",
    "*Hint*: The `isin()` method of a series returns a boolean series which is true only for entries in the original series that overlap with a list passed in as a parameter."
   ]
  },
  {
   "cell_type": "code",
   "execution_count": 61,
   "metadata": {},
   "outputs": [
    {
     "data": {
      "text/html": [
       "<div>\n",
       "<style scoped>\n",
       "    .dataframe tbody tr th:only-of-type {\n",
       "        vertical-align: middle;\n",
       "    }\n",
       "\n",
       "    .dataframe tbody tr th {\n",
       "        vertical-align: top;\n",
       "    }\n",
       "\n",
       "    .dataframe thead th {\n",
       "        text-align: right;\n",
       "    }\n",
       "</style>\n",
       "<table border=\"1\" class=\"dataframe\">\n",
       "  <thead>\n",
       "    <tr style=\"text-align: right;\">\n",
       "      <th></th>\n",
       "      <th>CDSCode</th>\n",
       "      <th>County</th>\n",
       "      <th>District</th>\n",
       "      <th>School</th>\n",
       "      <th>Street</th>\n",
       "      <th>City</th>\n",
       "      <th>Zip</th>\n",
       "      <th>State</th>\n",
       "      <th>Phone</th>\n",
       "      <th>WebSite</th>\n",
       "      <th>SOC</th>\n",
       "      <th>SOCType</th>\n",
       "      <th>cds</th>\n",
       "      <th>NumTstTakr</th>\n",
       "      <th>AvgScrEng</th>\n",
       "      <th>AvgScrRead</th>\n",
       "      <th>AvgScrMath</th>\n",
       "      <th>AvgScrSci</th>\n",
       "    </tr>\n",
       "  </thead>\n",
       "  <tbody>\n",
       "    <tr>\n",
       "      <th>0</th>\n",
       "      <td>1100170000000</td>\n",
       "      <td>Alameda</td>\n",
       "      <td>Alameda County Office of Education</td>\n",
       "      <td>NaN</td>\n",
       "      <td>313 West Winton Avenue</td>\n",
       "      <td>Hayward</td>\n",
       "      <td>94544-1136</td>\n",
       "      <td>CA</td>\n",
       "      <td>(510) 887-0152</td>\n",
       "      <td>www.acoe.org</td>\n",
       "      <td>NaN</td>\n",
       "      <td>NaN</td>\n",
       "      <td>1.100170e+12</td>\n",
       "      <td>16.0</td>\n",
       "      <td>20</td>\n",
       "      <td>19</td>\n",
       "      <td>20</td>\n",
       "      <td>20</td>\n",
       "    </tr>\n",
       "    <tr>\n",
       "      <th>1</th>\n",
       "      <td>1100170112607</td>\n",
       "      <td>Alameda</td>\n",
       "      <td>Alameda County Office of Education</td>\n",
       "      <td>Envision Academy for Arts &amp; Technology</td>\n",
       "      <td>1515 Webster Street</td>\n",
       "      <td>Oakland</td>\n",
       "      <td>94612-3355</td>\n",
       "      <td>CA</td>\n",
       "      <td>(510) 596-8901</td>\n",
       "      <td>www.envisionacademy.org/</td>\n",
       "      <td>66</td>\n",
       "      <td>High Schools (Public)</td>\n",
       "      <td>1.100170e+12</td>\n",
       "      <td>16.0</td>\n",
       "      <td>20</td>\n",
       "      <td>19</td>\n",
       "      <td>20</td>\n",
       "      <td>20</td>\n",
       "    </tr>\n",
       "    <tr>\n",
       "      <th>6</th>\n",
       "      <td>1100170130401</td>\n",
       "      <td>Alameda</td>\n",
       "      <td>Alameda County Office of Education</td>\n",
       "      <td>Alameda County Juvenile Hall/Court</td>\n",
       "      <td>2500 Fairmont Avenue</td>\n",
       "      <td>San Leandro</td>\n",
       "      <td>94578-1005</td>\n",
       "      <td>CA</td>\n",
       "      <td>(510) 670-7609</td>\n",
       "      <td>www.acoe.org</td>\n",
       "      <td>14</td>\n",
       "      <td>Juvenile Court Schools</td>\n",
       "      <td>NaN</td>\n",
       "      <td>NaN</td>\n",
       "      <td>NaN</td>\n",
       "      <td>NaN</td>\n",
       "      <td>NaN</td>\n",
       "      <td>NaN</td>\n",
       "    </tr>\n",
       "    <tr>\n",
       "      <th>14</th>\n",
       "      <td>1100176106751</td>\n",
       "      <td>Alameda</td>\n",
       "      <td>Alameda County Office of Education</td>\n",
       "      <td>Alameda County Special Education</td>\n",
       "      <td>313 West Winton Avenue</td>\n",
       "      <td>Hayward</td>\n",
       "      <td>94544-1136</td>\n",
       "      <td>CA</td>\n",
       "      <td>(510) 723-3857</td>\n",
       "      <td>www.acoe.org</td>\n",
       "      <td>09</td>\n",
       "      <td>Special Education Schools (Public)</td>\n",
       "      <td>NaN</td>\n",
       "      <td>NaN</td>\n",
       "      <td>NaN</td>\n",
       "      <td>NaN</td>\n",
       "      <td>NaN</td>\n",
       "      <td>NaN</td>\n",
       "    </tr>\n",
       "    <tr>\n",
       "      <th>18</th>\n",
       "      <td>1316170131763</td>\n",
       "      <td>Alameda</td>\n",
       "      <td>California School for the Deaf-Fremont (State ...</td>\n",
       "      <td>California School for the Deaf-Fremont</td>\n",
       "      <td>39350 Gallaudet Drive</td>\n",
       "      <td>Fremont</td>\n",
       "      <td>94538-2308</td>\n",
       "      <td>CA</td>\n",
       "      <td>(510) 794-3666</td>\n",
       "      <td>www.csdeagles.com</td>\n",
       "      <td>31</td>\n",
       "      <td>State Special Schools</td>\n",
       "      <td>1.316170e+12</td>\n",
       "      <td>26.0</td>\n",
       "      <td>12</td>\n",
       "      <td>15</td>\n",
       "      <td>15</td>\n",
       "      <td>16</td>\n",
       "    </tr>\n",
       "  </tbody>\n",
       "</table>\n",
       "</div>"
      ],
      "text/plain": [
       "          CDSCode   County                                           District  \\\n",
       "0   1100170000000  Alameda                 Alameda County Office of Education   \n",
       "1   1100170112607  Alameda                 Alameda County Office of Education   \n",
       "6   1100170130401  Alameda                 Alameda County Office of Education   \n",
       "14  1100176106751  Alameda                 Alameda County Office of Education   \n",
       "18  1316170131763  Alameda  California School for the Deaf-Fremont (State ...   \n",
       "\n",
       "                                    School                  Street  \\\n",
       "0                                      NaN  313 West Winton Avenue   \n",
       "1   Envision Academy for Arts & Technology     1515 Webster Street   \n",
       "6       Alameda County Juvenile Hall/Court    2500 Fairmont Avenue   \n",
       "14        Alameda County Special Education  313 West Winton Avenue   \n",
       "18  California School for the Deaf-Fremont   39350 Gallaudet Drive   \n",
       "\n",
       "           City         Zip State           Phone                   WebSite  \\\n",
       "0       Hayward  94544-1136    CA  (510) 887-0152              www.acoe.org   \n",
       "1       Oakland  94612-3355    CA  (510) 596-8901  www.envisionacademy.org/   \n",
       "6   San Leandro  94578-1005    CA  (510) 670-7609              www.acoe.org   \n",
       "14      Hayward  94544-1136    CA  (510) 723-3857              www.acoe.org   \n",
       "18      Fremont  94538-2308    CA  (510) 794-3666         www.csdeagles.com   \n",
       "\n",
       "    SOC                             SOCType           cds  NumTstTakr  \\\n",
       "0   NaN                                 NaN  1.100170e+12        16.0   \n",
       "1    66               High Schools (Public)  1.100170e+12        16.0   \n",
       "6    14              Juvenile Court Schools           NaN         NaN   \n",
       "14   09  Special Education Schools (Public)           NaN         NaN   \n",
       "18   31               State Special Schools  1.316170e+12        26.0   \n",
       "\n",
       "   AvgScrEng AvgScrRead AvgScrMath AvgScrSci  \n",
       "0         20         19         20        20  \n",
       "1         20         19         20        20  \n",
       "6        NaN        NaN        NaN       NaN  \n",
       "14       NaN        NaN        NaN       NaN  \n",
       "18        12         15         15        16  "
      ]
     },
     "execution_count": 61,
     "metadata": {},
     "output_type": "execute_result"
    }
   ],
   "source": [
    "SOCLIST = ['High Schools (Public)', 'Continuation High Schools', 'K-12 Schools (Public)' \\\n",
    "          'Alternative Schools of Choice', 'Special Education Schools (Public)', 'Juvenile Court Schools']\n",
    "\n",
    "sch = sch.loc[(sch['AvgScrRead'].notna()) | (sch['SOCType'].isin(SOCLIST))]\n",
    "sch.head()"
   ]
  },
  {
   "cell_type": "markdown",
   "metadata": {},
   "source": [
    "### Question 3e : Zip Codes\n",
    "\n",
    "Missing school types aren't our only problem. There are also some records where the postal code is wrong, e.g., there are some extended postal codes that are 9 digits long, rather than the typical 5 digits.\n",
    "\n",
    "Let's clean up the extended zip codes by dropping the digits beyond the first 5. Rather than deleting or replacing the old values in the `Zip` columnm, we'll instead create a new column called `Zip_5`.\n",
    "\n",
    "The reason we're making a new column is that it's typically good practice to keep the original values when we are manipulating data. This makes it easier to recover from mistakes, and also makes it more clear that we are not working with the original raw data."
   ]
  },
  {
   "cell_type": "code",
   "execution_count": 62,
   "metadata": {},
   "outputs": [
    {
     "data": {
      "text/html": [
       "<div>\n",
       "<style scoped>\n",
       "    .dataframe tbody tr th:only-of-type {\n",
       "        vertical-align: middle;\n",
       "    }\n",
       "\n",
       "    .dataframe tbody tr th {\n",
       "        vertical-align: top;\n",
       "    }\n",
       "\n",
       "    .dataframe thead th {\n",
       "        text-align: right;\n",
       "    }\n",
       "</style>\n",
       "<table border=\"1\" class=\"dataframe\">\n",
       "  <thead>\n",
       "    <tr style=\"text-align: right;\">\n",
       "      <th></th>\n",
       "      <th>CDSCode</th>\n",
       "      <th>County</th>\n",
       "      <th>District</th>\n",
       "      <th>School</th>\n",
       "      <th>Street</th>\n",
       "      <th>City</th>\n",
       "      <th>Zip</th>\n",
       "      <th>State</th>\n",
       "      <th>Phone</th>\n",
       "      <th>WebSite</th>\n",
       "      <th>SOC</th>\n",
       "      <th>SOCType</th>\n",
       "      <th>cds</th>\n",
       "      <th>NumTstTakr</th>\n",
       "      <th>AvgScrEng</th>\n",
       "      <th>AvgScrRead</th>\n",
       "      <th>AvgScrMath</th>\n",
       "      <th>AvgScrSci</th>\n",
       "      <th>Zip_5</th>\n",
       "    </tr>\n",
       "  </thead>\n",
       "  <tbody>\n",
       "    <tr>\n",
       "      <th>0</th>\n",
       "      <td>1100170000000</td>\n",
       "      <td>Alameda</td>\n",
       "      <td>Alameda County Office of Education</td>\n",
       "      <td>NaN</td>\n",
       "      <td>313 West Winton Avenue</td>\n",
       "      <td>Hayward</td>\n",
       "      <td>94544-1136</td>\n",
       "      <td>CA</td>\n",
       "      <td>(510) 887-0152</td>\n",
       "      <td>www.acoe.org</td>\n",
       "      <td>NaN</td>\n",
       "      <td>NaN</td>\n",
       "      <td>1.100170e+12</td>\n",
       "      <td>16.0</td>\n",
       "      <td>20</td>\n",
       "      <td>19</td>\n",
       "      <td>20</td>\n",
       "      <td>20</td>\n",
       "      <td>94544</td>\n",
       "    </tr>\n",
       "    <tr>\n",
       "      <th>1</th>\n",
       "      <td>1100170112607</td>\n",
       "      <td>Alameda</td>\n",
       "      <td>Alameda County Office of Education</td>\n",
       "      <td>Envision Academy for Arts &amp; Technology</td>\n",
       "      <td>1515 Webster Street</td>\n",
       "      <td>Oakland</td>\n",
       "      <td>94612-3355</td>\n",
       "      <td>CA</td>\n",
       "      <td>(510) 596-8901</td>\n",
       "      <td>www.envisionacademy.org/</td>\n",
       "      <td>66</td>\n",
       "      <td>High Schools (Public)</td>\n",
       "      <td>1.100170e+12</td>\n",
       "      <td>16.0</td>\n",
       "      <td>20</td>\n",
       "      <td>19</td>\n",
       "      <td>20</td>\n",
       "      <td>20</td>\n",
       "      <td>94612</td>\n",
       "    </tr>\n",
       "    <tr>\n",
       "      <th>6</th>\n",
       "      <td>1100170130401</td>\n",
       "      <td>Alameda</td>\n",
       "      <td>Alameda County Office of Education</td>\n",
       "      <td>Alameda County Juvenile Hall/Court</td>\n",
       "      <td>2500 Fairmont Avenue</td>\n",
       "      <td>San Leandro</td>\n",
       "      <td>94578-1005</td>\n",
       "      <td>CA</td>\n",
       "      <td>(510) 670-7609</td>\n",
       "      <td>www.acoe.org</td>\n",
       "      <td>14</td>\n",
       "      <td>Juvenile Court Schools</td>\n",
       "      <td>NaN</td>\n",
       "      <td>NaN</td>\n",
       "      <td>NaN</td>\n",
       "      <td>NaN</td>\n",
       "      <td>NaN</td>\n",
       "      <td>NaN</td>\n",
       "      <td>94578</td>\n",
       "    </tr>\n",
       "    <tr>\n",
       "      <th>14</th>\n",
       "      <td>1100176106751</td>\n",
       "      <td>Alameda</td>\n",
       "      <td>Alameda County Office of Education</td>\n",
       "      <td>Alameda County Special Education</td>\n",
       "      <td>313 West Winton Avenue</td>\n",
       "      <td>Hayward</td>\n",
       "      <td>94544-1136</td>\n",
       "      <td>CA</td>\n",
       "      <td>(510) 723-3857</td>\n",
       "      <td>www.acoe.org</td>\n",
       "      <td>09</td>\n",
       "      <td>Special Education Schools (Public)</td>\n",
       "      <td>NaN</td>\n",
       "      <td>NaN</td>\n",
       "      <td>NaN</td>\n",
       "      <td>NaN</td>\n",
       "      <td>NaN</td>\n",
       "      <td>NaN</td>\n",
       "      <td>94544</td>\n",
       "    </tr>\n",
       "    <tr>\n",
       "      <th>18</th>\n",
       "      <td>1316170131763</td>\n",
       "      <td>Alameda</td>\n",
       "      <td>California School for the Deaf-Fremont (State ...</td>\n",
       "      <td>California School for the Deaf-Fremont</td>\n",
       "      <td>39350 Gallaudet Drive</td>\n",
       "      <td>Fremont</td>\n",
       "      <td>94538-2308</td>\n",
       "      <td>CA</td>\n",
       "      <td>(510) 794-3666</td>\n",
       "      <td>www.csdeagles.com</td>\n",
       "      <td>31</td>\n",
       "      <td>State Special Schools</td>\n",
       "      <td>1.316170e+12</td>\n",
       "      <td>26.0</td>\n",
       "      <td>12</td>\n",
       "      <td>15</td>\n",
       "      <td>15</td>\n",
       "      <td>16</td>\n",
       "      <td>94538</td>\n",
       "    </tr>\n",
       "  </tbody>\n",
       "</table>\n",
       "</div>"
      ],
      "text/plain": [
       "          CDSCode   County                                           District  \\\n",
       "0   1100170000000  Alameda                 Alameda County Office of Education   \n",
       "1   1100170112607  Alameda                 Alameda County Office of Education   \n",
       "6   1100170130401  Alameda                 Alameda County Office of Education   \n",
       "14  1100176106751  Alameda                 Alameda County Office of Education   \n",
       "18  1316170131763  Alameda  California School for the Deaf-Fremont (State ...   \n",
       "\n",
       "                                    School                  Street  \\\n",
       "0                                      NaN  313 West Winton Avenue   \n",
       "1   Envision Academy for Arts & Technology     1515 Webster Street   \n",
       "6       Alameda County Juvenile Hall/Court    2500 Fairmont Avenue   \n",
       "14        Alameda County Special Education  313 West Winton Avenue   \n",
       "18  California School for the Deaf-Fremont   39350 Gallaudet Drive   \n",
       "\n",
       "           City         Zip State           Phone                   WebSite  \\\n",
       "0       Hayward  94544-1136    CA  (510) 887-0152              www.acoe.org   \n",
       "1       Oakland  94612-3355    CA  (510) 596-8901  www.envisionacademy.org/   \n",
       "6   San Leandro  94578-1005    CA  (510) 670-7609              www.acoe.org   \n",
       "14      Hayward  94544-1136    CA  (510) 723-3857              www.acoe.org   \n",
       "18      Fremont  94538-2308    CA  (510) 794-3666         www.csdeagles.com   \n",
       "\n",
       "    SOC                             SOCType           cds  NumTstTakr  \\\n",
       "0   NaN                                 NaN  1.100170e+12        16.0   \n",
       "1    66               High Schools (Public)  1.100170e+12        16.0   \n",
       "6    14              Juvenile Court Schools           NaN         NaN   \n",
       "14   09  Special Education Schools (Public)           NaN         NaN   \n",
       "18   31               State Special Schools  1.316170e+12        26.0   \n",
       "\n",
       "   AvgScrEng AvgScrRead AvgScrMath AvgScrSci  Zip_5  \n",
       "0         20         19         20        20  94544  \n",
       "1         20         19         20        20  94612  \n",
       "6        NaN        NaN        NaN       NaN  94578  \n",
       "14       NaN        NaN        NaN       NaN  94544  \n",
       "18        12         15         15        16  94538  "
      ]
     },
     "execution_count": 62,
     "metadata": {},
     "output_type": "execute_result"
    }
   ],
   "source": [
    "sch['Zip_5'] = sch['Zip'].str[:5]\n",
    "sch.head()"
   ]
  },
  {
   "cell_type": "markdown",
   "metadata": {},
   "source": [
    "### Question 3f: Filtering ZIP Codes\n",
    "\n",
    "Let's set up a list of all San Francisco ZIP codes and use it to access information on schools located in San Francisco."
   ]
  },
  {
   "cell_type": "code",
   "execution_count": 18,
   "metadata": {},
   "outputs": [],
   "source": [
    "all_sf_zip_codes = [\"94102\", \"94103\", \"94104\", \"94105\", \"94107\", \"94108\", \n",
    "                    \"94109\", \"94110\", \"94111\", \"94112\", \"94114\", \"94115\", \n",
    "                    \"94116\", \"94117\", \"94118\", \"94119\", \"94120\", \"94121\", \n",
    "                    \"94122\", \"94123\", \"94124\", \"94125\", \"94126\", \"94127\", \n",
    "                    \"94128\", \"94129\", \"94130\", \"94131\", \"94132\", \"94133\", \n",
    "                    \"94134\", \"94137\", \"94139\", \"94140\", \"94141\", \"94142\", \n",
    "                    \"94143\", \"94144\", \"94145\", \"94146\", \"94147\", \"94151\", \n",
    "                    \"94158\", \"94159\", \"94160\", \"94161\", \"94163\", \"94164\", \n",
    "                    \"94172\", \"94177\", \"94188\"]"
   ]
  },
  {
   "cell_type": "code",
   "execution_count": 19,
   "metadata": {},
   "outputs": [
    {
     "data": {
      "text/html": [
       "<div>\n",
       "<style scoped>\n",
       "    .dataframe tbody tr th:only-of-type {\n",
       "        vertical-align: middle;\n",
       "    }\n",
       "\n",
       "    .dataframe tbody tr th {\n",
       "        vertical-align: top;\n",
       "    }\n",
       "\n",
       "    .dataframe thead th {\n",
       "        text-align: right;\n",
       "    }\n",
       "</style>\n",
       "<table border=\"1\" class=\"dataframe\">\n",
       "  <thead>\n",
       "    <tr style=\"text-align: right;\">\n",
       "      <th></th>\n",
       "      <th>CDSCode</th>\n",
       "      <th>County</th>\n",
       "      <th>District</th>\n",
       "      <th>School</th>\n",
       "      <th>Street</th>\n",
       "      <th>City</th>\n",
       "      <th>Zip</th>\n",
       "      <th>State</th>\n",
       "      <th>Phone</th>\n",
       "      <th>WebSite</th>\n",
       "      <th>SOC</th>\n",
       "      <th>SOCType</th>\n",
       "      <th>cds</th>\n",
       "      <th>NumTstTakr</th>\n",
       "      <th>AvgScrEng</th>\n",
       "      <th>AvgScrRead</th>\n",
       "      <th>AvgScrMath</th>\n",
       "      <th>AvgScrSci</th>\n",
       "      <th>Zip_5</th>\n",
       "    </tr>\n",
       "  </thead>\n",
       "  <tbody>\n",
       "    <tr>\n",
       "      <th>8737</th>\n",
       "      <td>38684780000000</td>\n",
       "      <td>San Francisco</td>\n",
       "      <td>San Francisco Unified</td>\n",
       "      <td>NaN</td>\n",
       "      <td>555 Franklin Street</td>\n",
       "      <td>San Francisco</td>\n",
       "      <td>94102-5207</td>\n",
       "      <td>CA</td>\n",
       "      <td>(415) 241-6000</td>\n",
       "      <td>www.sfusd.edu</td>\n",
       "      <td>NaN</td>\n",
       "      <td>NaN</td>\n",
       "      <td>3.868478e+13</td>\n",
       "      <td>1304.0</td>\n",
       "      <td>21</td>\n",
       "      <td>21</td>\n",
       "      <td>22</td>\n",
       "      <td>21</td>\n",
       "      <td>94102</td>\n",
       "    </tr>\n",
       "    <tr>\n",
       "      <th>8741</th>\n",
       "      <td>38684780102103</td>\n",
       "      <td>San Francisco</td>\n",
       "      <td>San Francisco Unified</td>\n",
       "      <td>Jordan (June) School for Equity</td>\n",
       "      <td>325 La Grande Avenue</td>\n",
       "      <td>San Francisco</td>\n",
       "      <td>94112-2866</td>\n",
       "      <td>CA</td>\n",
       "      <td>(415) 452-4922</td>\n",
       "      <td>www.sfusd.edu</td>\n",
       "      <td>63</td>\n",
       "      <td>Alternative Schools of Choice</td>\n",
       "      <td>3.868478e+13</td>\n",
       "      <td>34.0</td>\n",
       "      <td>15</td>\n",
       "      <td>17</td>\n",
       "      <td>17</td>\n",
       "      <td>17</td>\n",
       "      <td>94112</td>\n",
       "    </tr>\n",
       "    <tr>\n",
       "      <th>8757</th>\n",
       "      <td>38684780119875</td>\n",
       "      <td>San Francisco</td>\n",
       "      <td>San Francisco Unified</td>\n",
       "      <td>S.F. International High</td>\n",
       "      <td>655 DeHaro St</td>\n",
       "      <td>San Francisco</td>\n",
       "      <td>94107-2727</td>\n",
       "      <td>CA</td>\n",
       "      <td>(415) 695-5781</td>\n",
       "      <td>www.sfusd.edu</td>\n",
       "      <td>63</td>\n",
       "      <td>Alternative Schools of Choice</td>\n",
       "      <td>3.868478e+13</td>\n",
       "      <td>48.0</td>\n",
       "      <td>12</td>\n",
       "      <td>13</td>\n",
       "      <td>17</td>\n",
       "      <td>15</td>\n",
       "      <td>94107</td>\n",
       "    </tr>\n",
       "    <tr>\n",
       "      <th>8763</th>\n",
       "      <td>38684780127530</td>\n",
       "      <td>San Francisco</td>\n",
       "      <td>San Francisco Unified</td>\n",
       "      <td>KIPP San Francisco College Preparatory</td>\n",
       "      <td>1195 Hudson Avenue</td>\n",
       "      <td>San Francisco</td>\n",
       "      <td>94124-2488</td>\n",
       "      <td>CA</td>\n",
       "      <td>(415) 643-6951</td>\n",
       "      <td>www.kippbayarea.org/schools/sfcollegeprep</td>\n",
       "      <td>66</td>\n",
       "      <td>High Schools (Public)</td>\n",
       "      <td>3.868478e+13</td>\n",
       "      <td>90.0</td>\n",
       "      <td>19</td>\n",
       "      <td>18</td>\n",
       "      <td>19</td>\n",
       "      <td>19</td>\n",
       "      <td>94124</td>\n",
       "    </tr>\n",
       "    <tr>\n",
       "      <th>8768</th>\n",
       "      <td>38684783830205</td>\n",
       "      <td>San Francisco</td>\n",
       "      <td>San Francisco Unified</td>\n",
       "      <td>Wallenberg (Raoul) Traditional High</td>\n",
       "      <td>40 Vega Street</td>\n",
       "      <td>San Francisco</td>\n",
       "      <td>94115-3826</td>\n",
       "      <td>CA</td>\n",
       "      <td>(415) 749-3469</td>\n",
       "      <td>NaN</td>\n",
       "      <td>66</td>\n",
       "      <td>High Schools (Public)</td>\n",
       "      <td>3.868478e+13</td>\n",
       "      <td>33.0</td>\n",
       "      <td>22</td>\n",
       "      <td>21</td>\n",
       "      <td>23</td>\n",
       "      <td>22</td>\n",
       "      <td>94115</td>\n",
       "    </tr>\n",
       "  </tbody>\n",
       "</table>\n",
       "</div>"
      ],
      "text/plain": [
       "             CDSCode         County               District  \\\n",
       "8737  38684780000000  San Francisco  San Francisco Unified   \n",
       "8741  38684780102103  San Francisco  San Francisco Unified   \n",
       "8757  38684780119875  San Francisco  San Francisco Unified   \n",
       "8763  38684780127530  San Francisco  San Francisco Unified   \n",
       "8768  38684783830205  San Francisco  San Francisco Unified   \n",
       "\n",
       "                                      School                Street  \\\n",
       "8737                                     NaN   555 Franklin Street   \n",
       "8741         Jordan (June) School for Equity  325 La Grande Avenue   \n",
       "8757                 S.F. International High         655 DeHaro St   \n",
       "8763  KIPP San Francisco College Preparatory    1195 Hudson Avenue   \n",
       "8768     Wallenberg (Raoul) Traditional High        40 Vega Street   \n",
       "\n",
       "               City         Zip State           Phone  \\\n",
       "8737  San Francisco  94102-5207    CA  (415) 241-6000   \n",
       "8741  San Francisco  94112-2866    CA  (415) 452-4922   \n",
       "8757  San Francisco  94107-2727    CA  (415) 695-5781   \n",
       "8763  San Francisco  94124-2488    CA  (415) 643-6951   \n",
       "8768  San Francisco  94115-3826    CA  (415) 749-3469   \n",
       "\n",
       "                                        WebSite  SOC  \\\n",
       "8737                              www.sfusd.edu  NaN   \n",
       "8741                              www.sfusd.edu   63   \n",
       "8757                              www.sfusd.edu   63   \n",
       "8763  www.kippbayarea.org/schools/sfcollegeprep   66   \n",
       "8768                                        NaN   66   \n",
       "\n",
       "                            SOCType           cds  NumTstTakr AvgScrEng  \\\n",
       "8737                            NaN  3.868478e+13      1304.0        21   \n",
       "8741  Alternative Schools of Choice  3.868478e+13        34.0        15   \n",
       "8757  Alternative Schools of Choice  3.868478e+13        48.0        12   \n",
       "8763          High Schools (Public)  3.868478e+13        90.0        19   \n",
       "8768          High Schools (Public)  3.868478e+13        33.0        22   \n",
       "\n",
       "     AvgScrRead AvgScrMath AvgScrSci  Zip_5  \n",
       "8737         21         22        21  94102  \n",
       "8741         17         17        17  94112  \n",
       "8757         13         17        15  94107  \n",
       "8763         18         19        19  94124  \n",
       "8768         21         23        22  94115  "
      ]
     },
     "execution_count": 19,
     "metadata": {},
     "output_type": "execute_result"
    }
   ],
   "source": [
    "sf_sch = sch.loc[sch['Zip_5'].isin(all_sf_zip_codes)]\n",
    "sf_sch.head()"
   ]
  },
  {
   "cell_type": "markdown",
   "metadata": {},
   "source": [
    "---\n",
    "## 4: Sampling from the Schools Data\n",
    "We can now sample from the business data using the cleaned ZIP code data. Make sure to use `Zip_5` instead of `Zip` for all parts of this question."
   ]
  },
  {
   "cell_type": "markdown",
   "metadata": {},
   "source": [
    "### Question 4a\n",
    "\n",
    "First, complete the following function `sample`, which takes as arguments a series, `series`, and a sample size, `n`, and returns a simple random sample (SRS) of size `n` from the series. Recall that in SRS, sampling is performed **without** replacement. The result should be a **list** of the `n` values that are in the sample.\n",
    "\n",
    "*Hint*: Consider using [`np.random.choice`](https://docs.scipy.org/doc/numpy-1.14.1/reference/generated/numpy.random.choice.html)."
   ]
  },
  {
   "cell_type": "code",
   "execution_count": 20,
   "metadata": {},
   "outputs": [],
   "source": [
    "def sample(series, n):\n",
    "    # Do not change the following line of code in any way!\n",
    "    # In case you delete it, it should be \"np.random.seed(40)\"\n",
    "    np.random.seed(40)\n",
    "    \n",
    "    return series.sample(n).tolist()"
   ]
  },
  {
   "cell_type": "markdown",
   "metadata": {},
   "source": [
    "### Question 4b\n",
    "Suppose we take a SRS of 5 schools from the public schools data. What is the probability that the school named *Sierra Vista High* is in the sample?"
   ]
  },
  {
   "cell_type": "code",
   "execution_count": 21,
   "metadata": {},
   "outputs": [
    {
     "data": {
      "text/plain": [
       "0.0034867503486750717"
      ]
     },
     "execution_count": 21,
     "metadata": {},
     "output_type": "execute_result"
    }
   ],
   "source": [
    "q4b_answer = 1 - ((len(sch)-1)/len(sch) * (len(sch)-2)/(len(sch)-1) * \\\n",
    "                  (len(sch)-3)/(len(sch)-2) * (len(sch)-4)/(len(sch)-3) * \\\n",
    "                  (len(sch)-5)/(len(sch)-4)) # SOLUTION\n",
    "q4b_answer"
   ]
  },
  {
   "cell_type": "markdown",
   "metadata": {},
   "source": [
    "### Question 4c\n",
    "Collect a stratified random sample of school names, where each stratum consists of a postal code. Collect one school name per stratum. Assign `sch_strat_sample` to a series of business names selected by this sampling procedure.\n",
    "\n",
    "Hint: You can use the `sample` function you defined earlier."
   ]
  },
  {
   "cell_type": "code",
   "execution_count": 22,
   "metadata": {},
   "outputs": [
    {
     "data": {
      "text/plain": [
       "Zip_5\n",
       "90001                                      Animo Pat Brown\n",
       "90002                       David Starr Jordan Senior High\n",
       "90003    Alliance Judy Ivie Burton Technology Academy High\n",
       "90004                                 Camino Nuevo High #2\n",
       "90005                         Ambassador-Global Leadership\n",
       "Name: School, dtype: object"
      ]
     },
     "execution_count": 22,
     "metadata": {},
     "output_type": "execute_result"
    }
   ],
   "source": [
    "sch_strat_sample = sch.groupby('Zip_5')['School'].agg(lambda x: sample(x, 1)[0]) # SOLUTION\n",
    "sch_strat_sample.head()"
   ]
  },
  {
   "cell_type": "markdown",
   "metadata": {},
   "source": [
    "### Question 4d\n",
    "\n",
    "What is the probability that *Sierra Vista High* is selected as part of this stratified random sampling procedure?"
   ]
  },
  {
   "cell_type": "code",
   "execution_count": 23,
   "metadata": {},
   "outputs": [
    {
     "data": {
      "text/plain": [
       "0.3333333333333333"
      ]
     },
     "execution_count": 23,
     "metadata": {},
     "output_type": "execute_result"
    }
   ],
   "source": [
    "# BEGIN SOLUTION NO PROMPT\n",
    "zip_code = sch.loc[sch['School'] == 'Sierra Vista High', 'Zip_5'].iloc[0] # SOLUTION\n",
    "# END SOLUTION\n",
    "q4d_answer = 1 / len(sch[sch['Zip_5'] == zip_code]) # SOLUTION\n",
    "q4d_answer"
   ]
  },
  {
   "cell_type": "markdown",
   "metadata": {},
   "source": [
    "### Question 4e\n",
    "Collect a cluster sample of school codes, where each cluster is a postal code, with 5 clusters in the sample. Assign `sch_cluster_sample` to a series of school codes selected by this sampling procedure.\n",
    "\n",
    "Hint: Consider using [`isin`](https://pandas.pydata.org/pandas-docs/stable/reference/api/pandas.Series.isin.html)."
   ]
  },
  {
   "cell_type": "code",
   "execution_count": 24,
   "metadata": {},
   "outputs": [
    {
     "data": {
      "text/plain": [
       "2930    19647330102541\n",
       "2939    19647330106864\n",
       "2948    19647330106997\n",
       "2998    19647330111583\n",
       "3018    19647330114850\n",
       "Name: CDSCode, dtype: int64"
      ]
     },
     "execution_count": 24,
     "metadata": {},
     "output_type": "execute_result"
    }
   ],
   "source": [
    "sch_cluster_sample = sch[sch['Zip_5'].isin\\\n",
    "                         (np.random.choice(sch['Zip_5'].unique(),\\\n",
    "                          size=5,replace=False))]['CDSCode'] # SOLUTION\n",
    "sch_cluster_sample.head()"
   ]
  },
  {
   "cell_type": "markdown",
   "metadata": {},
   "source": [
    "### Question 4f\n",
    "What is the probability that *Sierra Vista High* is selected as part of this cluster sampling procedure?"
   ]
  },
  {
   "cell_type": "code",
   "execution_count": 25,
   "metadata": {},
   "outputs": [
    {
     "data": {
      "text/plain": [
       "0.006195786864931847"
      ]
     },
     "execution_count": 25,
     "metadata": {},
     "output_type": "execute_result"
    }
   ],
   "source": [
    "q4f_answer = 5 / len(sch['Zip_5'].unique()) # SOLUTION\n",
    "q4f_answer"
   ]
  },
  {
   "cell_type": "markdown",
   "metadata": {},
   "source": [
    "### Question 4g\n",
    "In the context of this question, what are the benefit(s) of performing stratified sampling over cluster sampling? Why would you consider performing cluster sampling instead of stratified sampling? Compare the strengths and weaknesses of both sampling techniques."
   ]
  },
  {
   "cell_type": "markdown",
   "metadata": {},
   "source": [
    "**SOLUTION:**  \n",
    "Stratified sampling could help ensure representation by including data from ZIP codes that are less common; however, collecting data from such areas could be costly. Cluster sampling is simpler and it could be cheaper to collect data from all schools in a smaller number of areas. However, estimators from cluster sampling tend to be more variable."
   ]
  },
  {
   "cell_type": "markdown",
   "metadata": {},
   "source": [
    "### Question 4h\n",
    "Collect a multi-stage sample. First, take a SRS of 5 postal codes. Then, collect an SRS of one business name per selected postal code. Assign `bus_multi_sample` to a series of names selected by this procedure."
   ]
  },
  {
   "cell_type": "code",
   "execution_count": 26,
   "metadata": {},
   "outputs": [
    {
     "data": {
      "text/plain": [
       "Zip_5\n",
       "90007    Thirty-Second Street USC Performing Arts\n",
       "91701                       Rancho Cucamonga High\n",
       "91761                                 Colony High\n",
       "95376                                  Tracy High\n",
       "95820                     Sacramento Charter High\n",
       "Name: School, dtype: object"
      ]
     },
     "execution_count": 26,
     "metadata": {},
     "output_type": "execute_result"
    }
   ],
   "source": [
    "np.random.seed(40) # Do not touch this!\n",
    "\n",
    "sch_multi_sample = sch[sch['Zip_5'].\\\n",
    "                       isin(np.random.choice(sch['Zip_5'].\\\n",
    "                       unique(),size=5,replace=False))].groupby('Zip_5')\\\n",
    "                       ['School'].agg(lambda x: sample(x, 1)[0]) # SOLUTION\n",
    "sch_multi_sample.head()"
   ]
  },
  {
   "cell_type": "markdown",
   "metadata": {},
   "source": [
    "### Question 4i\n",
    "What is the probability that *Sierra Vista High* is chosen in the multi-stage sample?"
   ]
  },
  {
   "cell_type": "code",
   "execution_count": 27,
   "metadata": {},
   "outputs": [
    {
     "data": {
      "text/plain": [
       "0.0020652622883106154"
      ]
     },
     "execution_count": 27,
     "metadata": {},
     "output_type": "execute_result"
    }
   ],
   "source": [
    "q4i_answer = q4d_answer * q4f_answer # SOLUTION\n",
    "q4i_answer"
   ]
  },
  {
   "cell_type": "markdown",
   "metadata": {},
   "source": [
    "---\n",
    "## 5: ACT Scores\n",
    "\n",
    "Let's also consider schools' average ACT Math scores and get a sense of how many are missing.\n",
    "\n",
    "### Question 5a\n",
    "\n",
    "How many schools are missing ACT Math Scores?\n",
    "\n",
    "*Hint*: Use `isnull`."
   ]
  },
  {
   "cell_type": "code",
   "execution_count": 63,
   "metadata": {
    "scrolled": false
   },
   "outputs": [
    {
     "data": {
      "text/plain": [
       "990"
      ]
     },
     "execution_count": 63,
     "metadata": {},
     "output_type": "execute_result"
    }
   ],
   "source": [
    "num_missing_web = sch['AvgScrMath'].isnull().sum()\n",
    "num_missing_web"
   ]
  },
  {
   "cell_type": "markdown",
   "metadata": {},
   "source": [
    "As a somewhat contrived exercise in data manipulation, let's try to identify which ZIP codes have the most average ACT Math score records.\n",
    "\n",
    "In the cell below, create a series where the index is `Zip_5`, and the value is the number of businesses with missing ACT Math Scores in that ZIP code. Your series should be in descending order.\n",
    "\n",
    "*Hint: Create a custom function to compute the number of null entries in a series, and use this function with the `agg` method.*"
   ]
  },
  {
   "cell_type": "code",
   "execution_count": 64,
   "metadata": {
    "scrolled": false
   },
   "outputs": [
    {
     "data": {
      "text/plain": [
       "Zip_5\n",
       "93230    7\n",
       "92111    6\n",
       "93703    5\n",
       "93277    5\n",
       "94533    5\n",
       "Name: AvgScrMath, dtype: int64"
      ]
     },
     "execution_count": 64,
     "metadata": {},
     "output_type": "execute_result"
    }
   ],
   "source": [
    "def null_act_count(series):\n",
    "    return series['AvgScrMath'].isnull().sum()\n",
    "\n",
    "missing_per_zip = sch.set_index('Zip_5').groupby('Zip_5').\\\n",
    "agg(lambda x: null_act_count(x))['AvgScrMath'].sort_values(ascending=False)\n",
    "missing_per_zip.head()"
   ]
  },
  {
   "cell_type": "markdown",
   "metadata": {},
   "source": [
    "### Question 5b\n",
    "\n",
    "Let's look at the distribution of ACT scores. As we saw before when we called `head` on this data frame, average ACT scores appear to be integer values. The discreteness of this variable means that we can use a barplot to visualize the distribution of the ACT score. Make a bar plot of the counts of the number of schools receiving each score. \n",
    "\n",
    "<img src=\"Data/actdist.png\" style=\"width:600px\">"
   ]
  },
  {
   "cell_type": "code",
   "execution_count": 30,
   "metadata": {
    "scrolled": false
   },
   "outputs": [
    {
     "data": {
      "image/png": "[encoded data removed]",
      "text/plain": [
       "<Figure size 720x432 with 1 Axes>"
      ]
     },
     "metadata": {},
     "output_type": "display_data"
    }
   ],
   "source": [
    "sch_score_count = sch['AvgScrMath'].dropna().astype('int').\\\n",
    "value_counts().sort_values('index')\n",
    "\n",
    "plt.figure(figsize=(10,6))\n",
    "\n",
    "plt.bar(sch_score_count.index, height=sch_score_count)\n",
    "plt.xlabel('Score')\n",
    "plt.ylabel('Count')\n",
    "plt.title('Distribution of ACT Math Scores');\n",
    "\n",
    "# plt.savefig('Data/actdist.png')"
   ]
  },
  {
   "cell_type": "markdown",
   "metadata": {},
   "source": [
    "### Question 5c\n",
    "\n",
    "Describe the qualities of the distribution of the ACT scores based on your bar plot. Consider the mode(s), symmetry, tails, gaps, and anamolous values. Are there any unusual features of this distribution? What do your observations imply about the scores?"
   ]
  },
  {
   "cell_type": "markdown",
   "metadata": {},
   "source": []
  },
  {
   "cell_type": "markdown",
   "metadata": {},
   "source": [
    "### Question 5d\n",
    "\n",
    "Let's figure out which schools had the highest ACT Math scores. Construct a dataframe of five schools in the dataset that had the highest average ACT Math scores. Include only the school name and the average score and make sure to drop non-numerical records in the `AvgScrMath` column."
   ]
  },
  {
   "cell_type": "code",
   "execution_count": 31,
   "metadata": {},
   "outputs": [
    {
     "data": {
      "text/html": [
       "<div>\n",
       "<style scoped>\n",
       "    .dataframe tbody tr th:only-of-type {\n",
       "        vertical-align: middle;\n",
       "    }\n",
       "\n",
       "    .dataframe tbody tr th {\n",
       "        vertical-align: top;\n",
       "    }\n",
       "\n",
       "    .dataframe thead th {\n",
       "        text-align: right;\n",
       "    }\n",
       "</style>\n",
       "<table border=\"1\" class=\"dataframe\">\n",
       "  <thead>\n",
       "    <tr style=\"text-align: right;\">\n",
       "      <th></th>\n",
       "      <th>School</th>\n",
       "      <th>AvgScrMath</th>\n",
       "    </tr>\n",
       "  </thead>\n",
       "  <tbody>\n",
       "    <tr>\n",
       "      <th>9804</th>\n",
       "      <td>Lynbrook High</td>\n",
       "      <td>32</td>\n",
       "    </tr>\n",
       "    <tr>\n",
       "      <th>102</th>\n",
       "      <td>Mission San Jose High</td>\n",
       "      <td>32</td>\n",
       "    </tr>\n",
       "    <tr>\n",
       "      <th>9805</th>\n",
       "      <td>Monta Vista High</td>\n",
       "      <td>31</td>\n",
       "    </tr>\n",
       "    <tr>\n",
       "      <th>9849</th>\n",
       "      <td>Saratoga High</td>\n",
       "      <td>31</td>\n",
       "    </tr>\n",
       "    <tr>\n",
       "      <th>100</th>\n",
       "      <td>Irvington High</td>\n",
       "      <td>30</td>\n",
       "    </tr>\n",
       "  </tbody>\n",
       "</table>\n",
       "</div>"
      ],
      "text/plain": [
       "                     School AvgScrMath\n",
       "9804          Lynbrook High         32\n",
       "102   Mission San Jose High         32\n",
       "9805       Monta Vista High         31\n",
       "9849          Saratoga High         31\n",
       "100          Irvington High         30"
      ]
     },
     "execution_count": 31,
     "metadata": {},
     "output_type": "execute_result"
    }
   ],
   "source": [
    "sch.sort_values(by='AvgScrMath', ascending=False)[['School','AvgScrMath']].head()"
   ]
  },
  {
   "cell_type": "markdown",
   "metadata": {},
   "source": [
    "Using this data frame, identify the school with the highest average ACT Math score. Look up the school name and copy and paste anything interesting you want to share about the school."
   ]
  },
  {
   "cell_type": "markdown",
   "metadata": {},
   "source": [
    "**SOLUTION:** \n",
    "\n",
    "\"Lynbrook High School is a comprehensive public high school serving approximately 1,820 students, grades 9-12, in suburban West San Jose. Opened in 1965 and named for the neighborhood in which it is located, Lynbrook was the fifth school in the Fremont Union High School District and one of three schools the district established during the 1960s. Beginning in the 1970s (not long after Lynbrook opened its doors), FUHSD graduates were instrumental in developing computer technologies that transformed the region into what we now know as the Silicon Valley. Lynbrook’s history is thus closely connected to some of the most profound social and technological developments of our time.\""
   ]
  },
  {
   "cell_type": "markdown",
   "metadata": {},
   "source": [
    "## Summary of the Schools Data\n",
    "\n",
    "Before we move on to explore the other data, let's take stock of what we have learned and the implications of our findings on future analysis. \n",
    "\n",
    "* We found that the cds code is unique across records and so we may be able to use it as a key in joining tables. \n",
    "* We found that there are some errors with the ZIP codes and school type records. In practive, however, we could take the time to look up the schools online and fix these errors.   \n",
    "* We found that there are a huge number of missing average ACT scores. Fixing would require a lot of work, but could in principle be automated for well-formed data. "
   ]
  },
  {
   "cell_type": "markdown",
   "metadata": {},
   "source": [
    "---\n",
    "## 6: Investigate the Demographics Data\n",
    "\n",
    "Let's now turn to the demographics DataFrame. In this section, we determine the granularity of `dem` and investigate the kinds of information provided for school demographics. Let's start by looking again at the first 5 rows of `dem` to see what we're working with."
   ]
  },
  {
   "cell_type": "code",
   "execution_count": 32,
   "metadata": {},
   "outputs": [
    {
     "data": {
      "text/html": [
       "<div>\n",
       "<style scoped>\n",
       "    .dataframe tbody tr th:only-of-type {\n",
       "        vertical-align: middle;\n",
       "    }\n",
       "\n",
       "    .dataframe tbody tr th {\n",
       "        vertical-align: top;\n",
       "    }\n",
       "\n",
       "    .dataframe thead th {\n",
       "        text-align: right;\n",
       "    }\n",
       "</style>\n",
       "<table border=\"1\" class=\"dataframe\">\n",
       "  <thead>\n",
       "    <tr style=\"text-align: right;\">\n",
       "      <th></th>\n",
       "      <th>CDS_CODE</th>\n",
       "      <th>ETHNIC</th>\n",
       "      <th>GENDER</th>\n",
       "      <th>ENR_TOTAL</th>\n",
       "    </tr>\n",
       "  </thead>\n",
       "  <tbody>\n",
       "    <tr>\n",
       "      <th>0</th>\n",
       "      <td>6615986003495</td>\n",
       "      <td>5</td>\n",
       "      <td>F</td>\n",
       "      <td>163</td>\n",
       "    </tr>\n",
       "    <tr>\n",
       "      <th>1</th>\n",
       "      <td>6615986003495</td>\n",
       "      <td>1</td>\n",
       "      <td>F</td>\n",
       "      <td>3</td>\n",
       "    </tr>\n",
       "    <tr>\n",
       "      <th>2</th>\n",
       "      <td>6615986003495</td>\n",
       "      <td>9</td>\n",
       "      <td>M</td>\n",
       "      <td>2</td>\n",
       "    </tr>\n",
       "    <tr>\n",
       "      <th>3</th>\n",
       "      <td>6615986003495</td>\n",
       "      <td>7</td>\n",
       "      <td>M</td>\n",
       "      <td>45</td>\n",
       "    </tr>\n",
       "    <tr>\n",
       "      <th>4</th>\n",
       "      <td>6615986003495</td>\n",
       "      <td>5</td>\n",
       "      <td>M</td>\n",
       "      <td>179</td>\n",
       "    </tr>\n",
       "  </tbody>\n",
       "</table>\n",
       "</div>"
      ],
      "text/plain": [
       "        CDS_CODE  ETHNIC GENDER  ENR_TOTAL\n",
       "0  6615986003495       5      F        163\n",
       "1  6615986003495       1      F          3\n",
       "2  6615986003495       9      M          2\n",
       "3  6615986003495       7      M         45\n",
       "4  6615986003495       5      M        179"
      ]
     },
     "execution_count": 32,
     "metadata": {},
     "output_type": "execute_result"
    }
   ],
   "source": [
    "dem.head()"
   ]
  },
  {
   "cell_type": "markdown",
   "metadata": {},
   "source": [
    "### Question 6a\n",
    "From calling `head`, we know that each row in this table corresponds to a single gender and race. Let's get a sense of the total number of observations, as well as the total number of unique schools that occur in the dataset."
   ]
  },
  {
   "cell_type": "code",
   "execution_count": 33,
   "metadata": {
    "scrolled": true
   },
   "outputs": [
    {
     "name": "stdout",
     "output_type": "stream",
     "text": [
      "130220\n",
      "10521\n"
     ]
    }
   ],
   "source": [
    "# The number of rows in ins\n",
    "rows_in_table  = dem.shape[0]\n",
    "print(rows_in_table)\n",
    "\n",
    "# The number of unique business IDs in ins.\n",
    "unique_dem_ids = dem['CDS_CODE'].value_counts().shape[0]\n",
    "print(unique_dem_ids)"
   ]
  },
  {
   "cell_type": "markdown",
   "metadata": {},
   "source": [
    "### Question 6b\n",
    "\n",
    "Next, we examine the Series in the `dem` dataframe called `ETHNIC`. From examining the first few rows of `ETHNIC`, we see that `ETHNIC` is a integer column, presumably representing some ethnic category. What values does this column take? How many occurrences of each value is in the DataFrame? What are the implications for further analysis? \n",
    "\n",
    "Refer to https://www.cde.ca.gov/ds/sd/sd/fsenr.asp for explanations on the file structure. For instance, the website specifies ethnicity that corresponds to each integer as below:\n",
    "\n",
    "    Code 0 = Not reported\n",
    "    Code 1 = American Indian or Alaska Native, Not Hispanic\n",
    "    Code 2 = Asian, Not Hispanic\n",
    "    Code 3 = Pacific Islander, Not Hispanic\n",
    "    Code 4 = Filipino, Not Hispanic\n",
    "    Code 5 = Hispanic or Latino\n",
    "    Code 6 = African American, not Hispanic\n",
    "    Code 7 = White, not Hispanic\n",
    "    Code 9 = Two or More Races, Not Hispanic"
   ]
  },
  {
   "cell_type": "code",
   "execution_count": 34,
   "metadata": {},
   "outputs": [
    {
     "data": {
      "text/plain": [
       "5    20416\n",
       "7    19731\n",
       "6    16917\n",
       "2    16069\n",
       "9    15479\n",
       "4    13364\n",
       "1    10277\n",
       "3     9018\n",
       "0     8949\n",
       "Name: ETHNIC, dtype: int64"
      ]
     },
     "execution_count": 34,
     "metadata": {},
     "output_type": "execute_result"
    }
   ],
   "source": [
    "pd.value_counts(dem['ETHNIC'])"
   ]
  },
  {
   "cell_type": "markdown",
   "metadata": {},
   "source": [
    "**SOLUTION:**  \n",
    "The column values range from 0 to 9, each corresponding to a specific ethnic group such as Asian or Filipino. The most common type found is the Hispanic or Latino category, and the least common is the Not Reported category."
   ]
  },
  {
   "cell_type": "markdown",
   "metadata": {},
   "source": [
    "### Question 6c\n",
    "\n",
    "Let's now count the proportion of each ethnic group for every school.\n",
    "\n",
    "Create a new dataframe of counts of the ethnic/gender category and proportion of that group, storing the result in `fraction_ethnic_df`. It should have an index called `CDS_CODE` and should also have 3 columns:\n",
    "\n",
    "1. `ethnic`: The ethnic group of interest.\n",
    "2. `count`: The number of students belonging to the specified ethnic group.\n",
    "3. `fraction_count`: The fraction of students belonging to the specified ethnic group.\n",
    "\n",
    "**Note that the gender column is no longer present.** This means that each row should represent ethnicity and combine the two gender categories. Your data frame should be sorted by the fraction count in descending order.\n",
    "\n",
    "Recommended approach: Build a new dataframe with total number of students for each school and join the table with elements of the the original `dem` dataframe. From there, you can extend the resulting table to compute the fraction of the given ethnic group. This will require some new syntax you may not have seen.\n",
    "\n",
    "*Hint*: You can use the divison operator to compute the ratio of two series."
   ]
  },
  {
   "cell_type": "code",
   "execution_count": 37,
   "metadata": {},
   "outputs": [
    {
     "data": {
      "text/html": [
       "<div>\n",
       "<style scoped>\n",
       "    .dataframe tbody tr th:only-of-type {\n",
       "        vertical-align: middle;\n",
       "    }\n",
       "\n",
       "    .dataframe tbody tr th {\n",
       "        vertical-align: top;\n",
       "    }\n",
       "\n",
       "    .dataframe thead th {\n",
       "        text-align: right;\n",
       "    }\n",
       "</style>\n",
       "<table border=\"1\" class=\"dataframe\">\n",
       "  <thead>\n",
       "    <tr style=\"text-align: right;\">\n",
       "      <th></th>\n",
       "      <th>ethnic</th>\n",
       "      <th>count</th>\n",
       "      <th>fraction_count</th>\n",
       "    </tr>\n",
       "    <tr>\n",
       "      <th>CDS_CODE</th>\n",
       "      <th></th>\n",
       "      <th></th>\n",
       "      <th></th>\n",
       "    </tr>\n",
       "  </thead>\n",
       "  <tbody>\n",
       "    <tr>\n",
       "      <th>1100170112607</th>\n",
       "      <td>1</td>\n",
       "      <td>3</td>\n",
       "      <td>0.007792</td>\n",
       "    </tr>\n",
       "    <tr>\n",
       "      <th>1100170112607</th>\n",
       "      <td>2</td>\n",
       "      <td>6</td>\n",
       "      <td>0.015584</td>\n",
       "    </tr>\n",
       "    <tr>\n",
       "      <th>1100170112607</th>\n",
       "      <td>3</td>\n",
       "      <td>4</td>\n",
       "      <td>0.010390</td>\n",
       "    </tr>\n",
       "    <tr>\n",
       "      <th>1100170112607</th>\n",
       "      <td>4</td>\n",
       "      <td>1</td>\n",
       "      <td>0.002597</td>\n",
       "    </tr>\n",
       "    <tr>\n",
       "      <th>1100170112607</th>\n",
       "      <td>5</td>\n",
       "      <td>217</td>\n",
       "      <td>0.563636</td>\n",
       "    </tr>\n",
       "  </tbody>\n",
       "</table>\n",
       "</div>"
      ],
      "text/plain": [
       "               ethnic  count  fraction_count\n",
       "CDS_CODE                                    \n",
       "1100170112607       1      3        0.007792\n",
       "1100170112607       2      6        0.015584\n",
       "1100170112607       3      4        0.010390\n",
       "1100170112607       4      1        0.002597\n",
       "1100170112607       5    217        0.563636"
      ]
     },
     "execution_count": 37,
     "metadata": {},
     "output_type": "execute_result"
    }
   ],
   "source": [
    "total_students = pd.DataFrame(dem.groupby('CDS_CODE').sum()['ENR_TOTAL'])\n",
    "total_students.columns = ['count_total']\n",
    "\n",
    "combined_gender = dem.groupby(['CDS_CODE', 'ETHNIC']).sum().reset_index()\n",
    "\n",
    "new_table = combined_gender.join(total_students, on='CDS_CODE')\n",
    "new_table['fraction_count'] = new_table['ENR_TOTAL'] / new_table['count_total']\n",
    "new_table = new_table.set_index('CDS_CODE')\n",
    "new_table = new_table.drop('count_total',axis=1)\n",
    "new_table.columns = ['ethnic','count','fraction_count']\n",
    "new_table.head()"
   ]
  },
  {
   "cell_type": "markdown",
   "metadata": {},
   "source": [
    "### Question 6d\n",
    "\n",
    "Let's start by creating a new dataframe called `dem_named`. It should be exactly the same as `dem`, except that it should have the school name, 5 digit ZIP and average ACT Math Score of every school, as determined by the `sch` dataframe. If a `CDS_CODE` in `dem` does not exist in `sch`, the school name, ZIP and average ACT Math score should be given as NaN. \n",
    "\n",
    "Find the names of five schools with the highest fraction of male, Hispanic students (Ethnic code 5) **only considering schools with at least 10 students!**. Repeat the same exercise with male, Asian students and comment on the differences you observe. Specifically, how do `count` and `fraction_count` columns differ in the two tables?\n",
    "\n",
    "*Hint: Use the merge method to join the `dem` dataframe with the appropriate portion of the `sch` dataframe.*"
   ]
  },
  {
   "cell_type": "code",
   "execution_count": 95,
   "metadata": {},
   "outputs": [
    {
     "data": {
      "text/html": [
       "<div>\n",
       "<style scoped>\n",
       "    .dataframe tbody tr th:only-of-type {\n",
       "        vertical-align: middle;\n",
       "    }\n",
       "\n",
       "    .dataframe tbody tr th {\n",
       "        vertical-align: top;\n",
       "    }\n",
       "\n",
       "    .dataframe thead th {\n",
       "        text-align: right;\n",
       "    }\n",
       "</style>\n",
       "<table border=\"1\" class=\"dataframe\">\n",
       "  <thead>\n",
       "    <tr style=\"text-align: right;\">\n",
       "      <th></th>\n",
       "      <th>ethnic</th>\n",
       "      <th>count</th>\n",
       "      <th>fraction_count</th>\n",
       "      <th>CDSCode</th>\n",
       "      <th>School</th>\n",
       "      <th>AvgScrMath</th>\n",
       "    </tr>\n",
       "  </thead>\n",
       "  <tbody>\n",
       "    <tr>\n",
       "      <th>18563</th>\n",
       "      <td>5</td>\n",
       "      <td>766</td>\n",
       "      <td>0.994805</td>\n",
       "      <td>1.964733e+13</td>\n",
       "      <td>Linda Esperanza Marquez High A Huntington Park...</td>\n",
       "      <td>17</td>\n",
       "    </tr>\n",
       "    <tr>\n",
       "      <th>9726</th>\n",
       "      <td>5</td>\n",
       "      <td>3014</td>\n",
       "      <td>0.994391</td>\n",
       "      <td>1.363099e+13</td>\n",
       "      <td>Calexico High</td>\n",
       "      <td>21</td>\n",
       "    </tr>\n",
       "    <tr>\n",
       "      <th>17745</th>\n",
       "      <td>5</td>\n",
       "      <td>435</td>\n",
       "      <td>0.993151</td>\n",
       "      <td>1.964733e+13</td>\n",
       "      <td>Alliance Morgan McKinzie High</td>\n",
       "      <td>16</td>\n",
       "    </tr>\n",
       "    <tr>\n",
       "      <th>18569</th>\n",
       "      <td>5</td>\n",
       "      <td>668</td>\n",
       "      <td>0.992571</td>\n",
       "      <td>1.964733e+13</td>\n",
       "      <td>Linda Esperanza Marquez High C School of Socia...</td>\n",
       "      <td>17</td>\n",
       "    </tr>\n",
       "    <tr>\n",
       "      <th>18142</th>\n",
       "      <td>5</td>\n",
       "      <td>399</td>\n",
       "      <td>0.992537</td>\n",
       "      <td>1.964733e+13</td>\n",
       "      <td>East Los Angeles Renaissance Academy at Esteba...</td>\n",
       "      <td>17</td>\n",
       "    </tr>\n",
       "  </tbody>\n",
       "</table>\n",
       "</div>"
      ],
      "text/plain": [
       "       ethnic  count  fraction_count       CDSCode  \\\n",
       "18563       5    766        0.994805  1.964733e+13   \n",
       "9726        5   3014        0.994391  1.363099e+13   \n",
       "17745       5    435        0.993151  1.964733e+13   \n",
       "18569       5    668        0.992571  1.964733e+13   \n",
       "18142       5    399        0.992537  1.964733e+13   \n",
       "\n",
       "                                                  School AvgScrMath  \n",
       "18563  Linda Esperanza Marquez High A Huntington Park...         17  \n",
       "9726                                       Calexico High         21  \n",
       "17745                      Alliance Morgan McKinzie High         16  \n",
       "18569  Linda Esperanza Marquez High C School of Socia...         17  \n",
       "18142  East Los Angeles Renaissance Academy at Esteba...         17  "
      ]
     },
     "execution_count": 95,
     "metadata": {},
     "output_type": "execute_result"
    }
   ],
   "source": [
    "new_table_2 = pd.merge(new_table, sch[['CDSCode','School','AvgScrMath']], \\\n",
    "                       left_on='CDS_CODE', right_on='CDSCode', how='left')\n",
    "hisp = new_table_2.loc[(new_table_2['ethnic']==5) & (new_table_2['count']>10)]\n",
    "hisp.sort_values(by='fraction_count', ascending=False).dropna().head()"
   ]
  },
  {
   "cell_type": "markdown",
   "metadata": {},
   "source": [
    "Repeating the same exercise for male, Asian students (Ethnic code 2)."
   ]
  },
  {
   "cell_type": "code",
   "execution_count": 96,
   "metadata": {},
   "outputs": [
    {
     "data": {
      "text/html": [
       "<div>\n",
       "<style scoped>\n",
       "    .dataframe tbody tr th:only-of-type {\n",
       "        vertical-align: middle;\n",
       "    }\n",
       "\n",
       "    .dataframe tbody tr th {\n",
       "        vertical-align: top;\n",
       "    }\n",
       "\n",
       "    .dataframe thead th {\n",
       "        text-align: right;\n",
       "    }\n",
       "</style>\n",
       "<table border=\"1\" class=\"dataframe\">\n",
       "  <thead>\n",
       "    <tr style=\"text-align: right;\">\n",
       "      <th></th>\n",
       "      <th>ethnic</th>\n",
       "      <th>count</th>\n",
       "      <th>fraction_count</th>\n",
       "      <th>CDSCode</th>\n",
       "      <th>School</th>\n",
       "      <th>AvgScrMath</th>\n",
       "    </tr>\n",
       "  </thead>\n",
       "  <tbody>\n",
       "    <tr>\n",
       "      <th>650</th>\n",
       "      <td>2</td>\n",
       "      <td>1848</td>\n",
       "      <td>0.903226</td>\n",
       "      <td>1.611760e+12</td>\n",
       "      <td>Mission San Jose High</td>\n",
       "      <td>32</td>\n",
       "    </tr>\n",
       "    <tr>\n",
       "      <th>61332</th>\n",
       "      <td>2</td>\n",
       "      <td>1570</td>\n",
       "      <td>0.835106</td>\n",
       "      <td>4.369468e+13</td>\n",
       "      <td>Lynbrook High</td>\n",
       "      <td>32</td>\n",
       "    </tr>\n",
       "    <tr>\n",
       "      <th>32730</th>\n",
       "      <td>2</td>\n",
       "      <td>1709</td>\n",
       "      <td>0.801219</td>\n",
       "      <td>3.066522e+13</td>\n",
       "      <td>La Quinta High</td>\n",
       "      <td>24</td>\n",
       "    </tr>\n",
       "    <tr>\n",
       "      <th>61341</th>\n",
       "      <td>2</td>\n",
       "      <td>1796</td>\n",
       "      <td>0.789798</td>\n",
       "      <td>4.369468e+13</td>\n",
       "      <td>Monta Vista High</td>\n",
       "      <td>31</td>\n",
       "    </tr>\n",
       "    <tr>\n",
       "      <th>27282</th>\n",
       "      <td>2</td>\n",
       "      <td>1628</td>\n",
       "      <td>0.721311</td>\n",
       "      <td>1.975713e+13</td>\n",
       "      <td>Mark Keppel High</td>\n",
       "      <td>27</td>\n",
       "    </tr>\n",
       "  </tbody>\n",
       "</table>\n",
       "</div>"
      ],
      "text/plain": [
       "       ethnic  count  fraction_count       CDSCode                 School  \\\n",
       "650         2   1848        0.903226  1.611760e+12  Mission San Jose High   \n",
       "61332       2   1570        0.835106  4.369468e+13          Lynbrook High   \n",
       "32730       2   1709        0.801219  3.066522e+13         La Quinta High   \n",
       "61341       2   1796        0.789798  4.369468e+13       Monta Vista High   \n",
       "27282       2   1628        0.721311  1.975713e+13       Mark Keppel High   \n",
       "\n",
       "      AvgScrMath  \n",
       "650           32  \n",
       "61332         32  \n",
       "32730         24  \n",
       "61341         31  \n",
       "27282         27  "
      ]
     },
     "execution_count": 96,
     "metadata": {},
     "output_type": "execute_result"
    }
   ],
   "source": [
    "asian = new_table_2.loc[(new_table_2['ethnic']==2) & (new_table_2['count']>10)]\n",
    "asian.sort_values(by='fraction_count', ascending=False).dropna().head()"
   ]
  },
  {
   "cell_type": "markdown",
   "metadata": {},
   "source": []
  },
  {
   "cell_type": "markdown",
   "metadata": {},
   "source": [
    "---\n",
    "## 7: Variable Distribution & Relationship\n",
    "\n",
    "### Question 7a\n",
    "\n",
    "Observing the above two tables, it appears that Hispanic student populations tend to be highly concentrated whereas Asian student populations are more racially dispersed. To get a sense of how much difference exists between the two groups, compute the mean school population percentage of both Hispanic and Asian students.\n",
    "\n",
    "*Hint: You may find the np.mean() method useful.* "
   ]
  },
  {
   "cell_type": "code",
   "execution_count": 68,
   "metadata": {},
   "outputs": [
    {
     "name": "stdout",
     "output_type": "stream",
     "text": [
      "0.5513352813503373\n",
      "0.13644864579026425\n"
     ]
    }
   ],
   "source": [
    "print(np.mean(hisp['fraction_count']))\n",
    "print(np.mean(asian['fraction_count']))"
   ]
  },
  {
   "cell_type": "markdown",
   "metadata": {},
   "source": [
    "You should see that the mean Hispanic student percentage is equal to ~0.5513 whereas the mean Asian student percentage is eqaul to ~0.1364. The mean statistic is useful, but it might also be interesting to observe the overall distribution of percentage values.\n",
    "\n",
    "### Question 7b\n",
    "\n",
    "We know that there is a huge difference between the mean percentage values between the two ethnic groups, but we don't know how the distribution of these values differ. The seaborn library's `distribution plot` would be an appropriate visualization in this case. The code syntax is as follows:\n",
    "\n",
    "    sns.distplot('pandas series')\n",
    "\n",
    "Create a distribution plot of fraction counts for both Asian and Hispanic students. Your visualization should look like the following image, with the right title, legend and labels. \n",
    "\n",
    "*Hint: calling the distplot method multiple times will simply overlay graphs on top of each other.*\n",
    "\n",
    "<img src=\"Data/percentdist.png\" style=\"width:600px\">"
   ]
  },
  {
   "cell_type": "code",
   "execution_count": 97,
   "metadata": {},
   "outputs": [
    {
     "data": {
      "image/png": "[encoded data removed]",
      "text/plain": [
       "<Figure size 720x432 with 1 Axes>"
      ]
     },
     "metadata": {},
     "output_type": "display_data"
    }
   ],
   "source": [
    "plt.figure(figsize=(10,6))\n",
    "\n",
    "sns.distplot(asian['fraction_count'])\n",
    "sns.distplot(hisp['fraction_count'])\n",
    "plt.legend(['asian','hispanic'])\n",
    "plt.xlabel('Student Percentage')\n",
    "plt.title('Distribution of Student Percentage');"
   ]
  },
  {
   "cell_type": "markdown",
   "metadata": {},
   "source": [
    "What can you conclude from the visualization above? Do you think this has implications for the academic outcomes of the two student groups? Why do you think such difference exists? There is no right answer--simply use this space as a thinking space of your own."
   ]
  },
  {
   "cell_type": "markdown",
   "metadata": {},
   "source": []
  },
  {
   "cell_type": "markdown",
   "metadata": {},
   "source": [
    "### Question 7c\n",
    "\n",
    "Now, we want to find out if there exists a relationship between the student percentage values and average ACT math scores for the two ethnic groups. Do they correlate positively? If so, what further implications does that have?\n",
    "\n",
    "First, make two dataframe called `asian_act_by_school` and `hisp_act_by_school` indexed by `CDSCode` (containing only schools with both ACT math score and student percentage information). These dataframes contains the fields `student_percentage` and `avg_score` consisting of the student percentage and ACT math score ordered by CDS code.\n",
    "\n",
    "The first few rows of the resulting table should look something like:\n",
    "\n",
    "`hisp_act_by_school`:\n",
    "\n",
    "<img src=\"Data/table_hisp.png\" style=\"width:100px\">\n",
    "\n",
    "`asian_act_by_school`:\n",
    "\n",
    "<img src=\"Data/table_asian.png\" style=\"width:100px\">"
   ]
  },
  {
   "cell_type": "code",
   "execution_count": 112,
   "metadata": {},
   "outputs": [
    {
     "data": {
      "text/html": [
       "<div>\n",
       "<style scoped>\n",
       "    .dataframe tbody tr th:only-of-type {\n",
       "        vertical-align: middle;\n",
       "    }\n",
       "\n",
       "    .dataframe tbody tr th {\n",
       "        vertical-align: top;\n",
       "    }\n",
       "\n",
       "    .dataframe thead th {\n",
       "        text-align: right;\n",
       "    }\n",
       "</style>\n",
       "<table border=\"1\" class=\"dataframe\">\n",
       "  <thead>\n",
       "    <tr style=\"text-align: right;\">\n",
       "      <th></th>\n",
       "      <th>student_percentage</th>\n",
       "      <th>avg_score</th>\n",
       "    </tr>\n",
       "    <tr>\n",
       "      <th>CDSCode</th>\n",
       "      <th></th>\n",
       "      <th></th>\n",
       "    </tr>\n",
       "  </thead>\n",
       "  <tbody>\n",
       "    <tr>\n",
       "      <th>1.100170e+12</th>\n",
       "      <td>0.563636</td>\n",
       "      <td>20</td>\n",
       "    </tr>\n",
       "    <tr>\n",
       "      <th>1.316170e+12</th>\n",
       "      <td>0.518817</td>\n",
       "      <td>15</td>\n",
       "    </tr>\n",
       "    <tr>\n",
       "      <th>1.611190e+12</th>\n",
       "      <td>0.093750</td>\n",
       "      <td>27</td>\n",
       "    </tr>\n",
       "    <tr>\n",
       "      <th>1.611190e+12</th>\n",
       "      <td>0.126203</td>\n",
       "      <td>26</td>\n",
       "    </tr>\n",
       "    <tr>\n",
       "      <th>1.611190e+12</th>\n",
       "      <td>0.161776</td>\n",
       "      <td>23</td>\n",
       "    </tr>\n",
       "  </tbody>\n",
       "</table>\n",
       "</div>"
      ],
      "text/plain": [
       "              student_percentage avg_score\n",
       "CDSCode                                   \n",
       "1.100170e+12            0.563636        20\n",
       "1.316170e+12            0.518817        15\n",
       "1.611190e+12            0.093750        27\n",
       "1.611190e+12            0.126203        26\n",
       "1.611190e+12            0.161776        23"
      ]
     },
     "execution_count": 112,
     "metadata": {},
     "output_type": "execute_result"
    }
   ],
   "source": [
    "hisp_act_by_school = hisp.loc[~hisp['AvgScrMath'].isna()]\\\n",
    "                    [['CDSCode','fraction_count','AvgScrMath']]\\\n",
    "                    .set_index('CDSCode')\\\n",
    "                    .rename(columns={'fraction_count':'student_percentage'\\\n",
    "                                    ,'AvgScrMath':'avg_score'})\n",
    "hisp_act_by_school.head()"
   ]
  },
  {
   "cell_type": "code",
   "execution_count": 113,
   "metadata": {},
   "outputs": [
    {
     "data": {
      "text/html": [
       "<div>\n",
       "<style scoped>\n",
       "    .dataframe tbody tr th:only-of-type {\n",
       "        vertical-align: middle;\n",
       "    }\n",
       "\n",
       "    .dataframe tbody tr th {\n",
       "        vertical-align: top;\n",
       "    }\n",
       "\n",
       "    .dataframe thead th {\n",
       "        text-align: right;\n",
       "    }\n",
       "</style>\n",
       "<table border=\"1\" class=\"dataframe\">\n",
       "  <thead>\n",
       "    <tr style=\"text-align: right;\">\n",
       "      <th></th>\n",
       "      <th>student_percentage</th>\n",
       "      <th>avg_score</th>\n",
       "    </tr>\n",
       "    <tr>\n",
       "      <th>CDSCode</th>\n",
       "      <th></th>\n",
       "      <th></th>\n",
       "    </tr>\n",
       "  </thead>\n",
       "  <tbody>\n",
       "    <tr>\n",
       "      <th>1.316170e+12</th>\n",
       "      <td>0.086022</td>\n",
       "      <td>15</td>\n",
       "    </tr>\n",
       "    <tr>\n",
       "      <th>1.611190e+12</th>\n",
       "      <td>0.473958</td>\n",
       "      <td>27</td>\n",
       "    </tr>\n",
       "    <tr>\n",
       "      <th>1.611190e+12</th>\n",
       "      <td>0.383701</td>\n",
       "      <td>26</td>\n",
       "    </tr>\n",
       "    <tr>\n",
       "      <th>1.611190e+12</th>\n",
       "      <td>0.217288</td>\n",
       "      <td>23</td>\n",
       "    </tr>\n",
       "    <tr>\n",
       "      <th>1.611270e+12</th>\n",
       "      <td>0.304795</td>\n",
       "      <td>28</td>\n",
       "    </tr>\n",
       "  </tbody>\n",
       "</table>\n",
       "</div>"
      ],
      "text/plain": [
       "              student_percentage avg_score\n",
       "CDSCode                                   \n",
       "1.316170e+12            0.086022        15\n",
       "1.611190e+12            0.473958        27\n",
       "1.611190e+12            0.383701        26\n",
       "1.611190e+12            0.217288        23\n",
       "1.611270e+12            0.304795        28"
      ]
     },
     "execution_count": 113,
     "metadata": {},
     "output_type": "execute_result"
    }
   ],
   "source": [
    "asian_act_by_school = asian.loc[~asian['AvgScrMath'].isna()]\\\n",
    "                    [['CDSCode','fraction_count','AvgScrMath']]\\\n",
    "                    .set_index('CDSCode')\\\n",
    "                    .rename(columns={'fraction_count':'student_percentage'\\\n",
    "                                    ,'AvgScrMath':'avg_score'})\n",
    "asian_act_by_school.head()"
   ]
  },
  {
   "cell_type": "markdown",
   "metadata": {},
   "source": [
    "### Question 7d\n",
    "\n",
    "The tables alone don't do a very good job of clarifying whether or not there is a relationship between racial percentage and average ACT math scores. Depict this relationship using the seaborn library's `boxplot` with ACT scores being on the x-axis and fraction of correponding ethnicity and gender on the y-axis. The code syntax is as follows:\n",
    "\n",
    "    sns.boxplot(x, y, order)\n",
    "    \n",
    "Pay close attention to the order parameter as the labels may not be automatically ordered in the correct way. The parameter should be in the form of a list that contains all of the x-axis values in the right order.\n",
    "\n",
    "Again, your visualization should look like the following image, with the right title, legend and labels. \n",
    "\n",
    "<img src=\"Data/acthisp.png\" style=\"width:600px\">\n",
    "<img src=\"Data/actasian.png\" style=\"width:600px\">"
   ]
  },
  {
   "cell_type": "code",
   "execution_count": 92,
   "metadata": {},
   "outputs": [
    {
     "data": {
      "image/png": "[encoded data removed]",
      "text/plain": [
       "<Figure size 720x432 with 1 Axes>"
      ]
     },
     "metadata": {},
     "output_type": "display_data"
    }
   ],
   "source": [
    "plt.figure(figsize=(10,6))\n",
    "\n",
    "sns.boxplot(hisp['AvgScrMath'], hisp['fraction_count'], order=['15','16','17','18','19',\\\n",
    "                                                       '20','21','22','23','24','25','26',\\\n",
    "                                                       '27','28','29','30','31','32'])\n",
    "plt.xlabel('Average ACT Math Score')\n",
    "plt.ylabel('Hispanic Student %')\n",
    "plt.title(\"Hispanic ACT Math Outcomes\")"
   ]
  },
  {
   "cell_type": "code",
   "execution_count": 93,
   "metadata": {},
   "outputs": [
    {
     "data": {
      "image/png": "[encoded data removed]",
      "text/plain": [
       "<Figure size 720x432 with 1 Axes>"
      ]
     },
     "metadata": {},
     "output_type": "display_data"
    }
   ],
   "source": [
    "plt.figure(figsize=(10,6))\n",
    "\n",
    "sns.boxplot(asian['AvgScrMath'], asian['fraction_count'], order=['15','16','17','18','19',\\\n",
    "                                                       '20','21','22','23','24','25','26',\\\n",
    "                                                       '27','28','29','30','31','32'])\n",
    "plt.xlabel('Average ACT Math Score')\n",
    "plt.ylabel('Asian Student %')\n",
    "plt.title(\"Asian ACT Math Outcomes\")"
   ]
  },
  {
   "cell_type": "markdown",
   "metadata": {},
   "source": [
    "### Question 7e\n",
    "\n",
    "If a higher percentage of Hispanic students correlates with lower average ACT math scores (and a higher percentage of Asian students correlates with higher average ACT math scores), what would you expect to see in the boxplots that you made in question 7d? What do you see?\n",
    "\n",
    "What implications does the distribution plot you made in question 7b have on the boxplots you made in question 7d? Does this take away from the value of our conclusions? Why or why not?"
   ]
  },
  {
   "cell_type": "markdown",
   "metadata": {},
   "source": []
  },
  {
   "cell_type": "markdown",
   "metadata": {},
   "source": [
    "## Summary of the Demographics Data\n",
    "\n",
    "What we have learned about the demographics data? What might be some next steps in our investigation? \n",
    "\n",
    "* We found that the records are at the gender and ethnicity level and that we have inspections for a single year.   \n",
    "* By joining the schools and demographics data, we identified the name of the school with the highest average ACT Math scores and optionally the names of the schools with the lowest scores.\n",
    "* We also examined the relationship between the ethnicity and standardized test scores. Findings may warrant further investigation. "
   ]
  },
  {
   "cell_type": "markdown",
   "metadata": {},
   "source": [
    "---\n",
    "## 8. Demographics and Education in the United States\n",
    "\n",
    "<img src=\"Data/ST_2016.06.27_race-inequality-ch1-03-2.png\" style=\"width:400px\">\n",
    "\n",
    ">*\"In fact, the U.S. educational system is one of the most unequal in the industrialized world, and students routinely receive dramatically different learning opportunities based on their social status. In contrast to European and Asian nations that fund schools centrally and equally, the wealthiest 10 percent of U.S. school districts spend nearly 10 times more than the poorest 10 percent, and spending ratios of 3 to 1 are common within states. Despite stark differences in funding, teacher quality, curriculum, and class sizes, the prevailing view is that if students do not achieve, it is their own fault. If we are ever to get beyond the problem of the color line, we must confront and address these inequalities.\" - Brookings Institute*\n",
    "\n",
    "Although racial differences in student outcomes is a widely known subject, analyzing relevant data gives us an opportunity to look at this issue in more depth. Question 8 is intended to give you an opportunity to think about real world questions that our prior analysis poses. We have already observed that Hispanic student population tend to be heavily concentrated while Asian students receive their education in more racially diverse schools. We have also learned that a higher percentage of Hispanic population leads to lower average ACT math scores while the opposite was true with a higher percentage of Asian students.\n",
    "\n",
    "### Question 8a\n",
    "\n",
    "Figure above depicts median income by racial group across the US. You can clearly see that Black and Hispanic citizens tend to receive lower pay compared to their White and Asian peers. Do you think this income gap between racial groups has a significant impact on children's educational outcomes? Is this an interrelated issue where both issues are mutually causing the other? Research the web and come up with one interesting fact you find about the relationship between income and education level."
   ]
  },
  {
   "cell_type": "markdown",
   "metadata": {},
   "source": []
  },
  {
   "cell_type": "markdown",
   "metadata": {},
   "source": [
    "### Question 8b\n",
    "\n",
    "Chancellor Carol T. Christ recently launched the [Diversity Initiatives](https://alumni.berkeley.edu/california-magazine/spring-2019/chancellors-letter-diversity-initiatives), which envisions a more diverse demography of students, faculty and staff members across UC Berkeley campus. On the other hand, [Harvard lost a lawsuit regarding affirmative action](https://www.newyorker.com/magazine/2018/10/15/the-rise-and-fall-of-affirmative-action), which now forbids the university from considering a candidate's race during its admission process. Discuss what you believe is the right thing to do. Should individual accomplishment be assessed with context to their socioeconomic status? Or do you believe this is unjust?"
   ]
  },
  {
   "cell_type": "markdown",
   "metadata": {},
   "source": []
  },
  {
   "cell_type": "markdown",
   "metadata": {},
   "source": [
    "### Question 8c\n",
    "\n",
    "What are some other interventions that that you can think of to remedy this situation? Find one example of a government intervention intended to solve this issue, and discuss whether or not the intervention was effective. "
   ]
  },
  {
   "cell_type": "markdown",
   "metadata": {},
   "source": []
  },
  {
   "cell_type": "markdown",
   "metadata": {},
   "source": [
    "## Congratulations!\n",
    "\n",
    "You are finished with Project 1. You'll need to make sure that your PDF exports correctly to receive credit. Run the following cell and follow the instructions."
   ]
  }
 ],
 "metadata": {
  "kernelspec": {
   "display_name": "Python 3",
   "language": "python",
   "name": "python3"
  },
  "language_info": {
   "codemirror_mode": {
    "name": "ipython",
    "version": 3
   },
   "file_extension": ".py",
   "mimetype": "text/x-python",
   "name": "python",
   "nbconvert_exporter": "python",
   "pygments_lexer": "ipython3",
   "version": "3.6.5"
  }
 },
 "nbformat": 4,
 "nbformat_minor": 2
}
