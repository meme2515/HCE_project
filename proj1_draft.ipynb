{
 "cells": [
  {
   "cell_type": "markdown",
   "metadata": {},
   "source": [
    "# Project 1: Demographics and Education\n",
    "## Cleaning and Exploring Data with Pandas\n",
    "## Due Date: \n",
    "## Collaboration Policy\n",
    "\n",
    "Data science is a collaborative activity. While you may talk with others about\n",
    "the project, we ask that you **write your solutions individually**. If you do\n",
    "discuss the assignments with others please **include their names** at the top\n",
    "of your notebook.\n"
   ]
  },
  {
   "cell_type": "markdown",
   "metadata": {},
   "source": [
    "**Collaborators**: *list collaborators here*"
   ]
  },
  {
   "cell_type": "markdown",
   "metadata": {},
   "source": [
    "\n",
    "## This Assignment\n",
    "\n",
    "In recent years, the positively correlated and multifaceted relationship between educational attainment and a given person's race in the United States has been emphasized as one of the main causes of racial income gap and generational poverty. Nonetheless, despite numerous intervention efforts made by the government and the private sector, the extent of the problem has remained pervasive and convoluted to this day.\n",
    "\n",
    "In this project, you will investigate data regarding student demographics and educational attainment for public schools in the state of California. The information have been made available by the California Department of Education. The main goal for this assignment is to understand the relationship between demographics and education. We will walk through various steps of exploratory data analysis to do this, and provide comments and insights along the way to give you a sense of how we arrive at each discovery and what next steps it leads to.\n",
    "\n",
    "As we clean and explore these data, you will gain practice with:\n",
    "* Reading simple csv files\n",
    "* Working with data at different levels of granularity\n",
    "* Identifying the type of data collected, missing values, anomalies, etc.\n",
    "* Applying probability sampling techniques\n",
    "* Exploring characteristics and distributions of individual variables\n",
    "\n",
    "## Score Breakdown\n",
    "Question | Points\n",
    "--- | ---\n",
    "Total | 0"
   ]
  },
  {
   "cell_type": "code",
   "execution_count": 4,
   "metadata": {},
   "outputs": [],
   "source": [
    "import pandas as pd\n",
    "import numpy as np\n",
    "import matplotlib.pyplot as plt\n",
    "import seaborn as sns\n",
    "%matplotlib inline\n",
    "sns.set()"
   ]
  },
  {
   "cell_type": "markdown",
   "metadata": {},
   "source": [
    "---\n",
    "## 1: Loading Public Schools Data\n",
    "\n",
    "We have data, but we don't have any specific questions about the data yet, so let's focus on understanding the structure of the data. This involves answering questions such as:\n",
    "\n",
    "* Is the data in a standard format or encoding?\n",
    "* Is the data organized in records?\n",
    "* What are the fields in each record?"
   ]
  },
  {
   "cell_type": "markdown",
   "metadata": {},
   "source": [
    "### Question 1a: Reading in the Files\n",
    "\n",
    "Based on the above information, let's attempt to load `pubschls.csv`, `frpm1819.csv`, and `sat18.csv` into pandas data frames with the following names: `sch`, `frpm`, and `sat` respectively."
   ]
  },
  {
   "cell_type": "code",
   "execution_count": 20,
   "metadata": {},
   "outputs": [],
   "source": [
    "sch = pd.read_csv('Data/pubschls.txt', sep=\"\\t\")\n",
    "sch = sch.loc[sch['StatusType']=='Active']\n",
    "sch = sch.replace('No Data', np.NaN)\n",
    "sch = sch[['CDSCode','County','District','School','Street','City',\\\n",
    "           'Zip','State','Phone','WebSite','SOC','SOCType']]\n",
    "\n",
    "act = pd.read_excel('Data/act18.xls')\n",
    "act = act[['cds','NumTstTakr','AvgScrEng','AvgScrRead','AvgScrMath','AvgScrSci']]\n",
    "\n",
    "sch = pd.merge(sch, act, left_on='CDSCode', right_on='cds', how='left')\n",
    "\n",
    "dem = pd.read_csv('Data/filesenr.txt', sep='\\t')\n",
    "dem = dem[['CDS_CODE','ETHNIC','GENDER','ENR_TOTAL']]"
   ]
  },
  {
   "cell_type": "markdown",
   "metadata": {},
   "source": [
    "Now that you've read in the files, let's try some `pd.DataFrame` methods ([docs](https://pandas.pydata.org/pandas-docs/version/0.21/generated/pandas.DataFrame.html)).\n",
    "Use the `DataFrame.head` method to show the top few lines of the `sch`, `frpm`, and `sat` dataframes. Use `Dataframe.describe` to learn about the numeric columns."
   ]
  },
  {
   "cell_type": "code",
   "execution_count": 21,
   "metadata": {},
   "outputs": [
    {
     "name": "stdout",
     "output_type": "stream",
     "text": [
      "         CDSCode   County                            District  \\\n",
      "0  1100170000000  Alameda  Alameda County Office of Education   \n",
      "1  1100170112607  Alameda  Alameda County Office of Education   \n",
      "2  1100170123968  Alameda  Alameda County Office of Education   \n",
      "3  1100170124172  Alameda  Alameda County Office of Education   \n",
      "4  1100170125567  Alameda  Alameda County Office of Education   \n",
      "\n",
      "                                    School                        Street  \\\n",
      "0                                      NaN        313 West Winton Avenue   \n",
      "1   Envision Academy for Arts & Technology           1515 Webster Street   \n",
      "2  Community School for Creative Education  2111 International Boulevard   \n",
      "3                          Yu Ming Charter          1086 Alcatraz Avenue   \n",
      "4                 Urban Montessori Charter             5328 Brann Street   \n",
      "\n",
      "      City         Zip State           Phone  \\\n",
      "0  Hayward  94544-1136    CA  (510) 887-0152   \n",
      "1  Oakland  94612-3355    CA  (510) 596-8901   \n",
      "2  Oakland  94606-4903    CA  (510) 686-4131   \n",
      "3  Oakland  94608-1265    CA  (510) 452-2063   \n",
      "4  Oakland  94619-3312    CA  (510) 842-1181   \n",
      "\n",
      "                                       WebSite  SOC  \\\n",
      "0                                 www.acoe.org  NaN   \n",
      "1                     www.envisionacademy.org/   66   \n",
      "2  www.communityschoolforcreativeeducation.org   60   \n",
      "3                         www.yumingschool.org   60   \n",
      "4                      www.urbanmontessori.org   60   \n",
      "\n",
      "                       SOCType           cds  NumTstTakr AvgScrEng AvgScrRead  \\\n",
      "0                          NaN  1.100170e+12        16.0        20         19   \n",
      "1        High Schools (Public)  1.100170e+12        16.0        20         19   \n",
      "2  Elementary Schools (Public)           NaN         NaN       NaN        NaN   \n",
      "3  Elementary Schools (Public)           NaN         NaN       NaN        NaN   \n",
      "4  Elementary Schools (Public)           NaN         NaN       NaN        NaN   \n",
      "\n",
      "  AvgScrMath AvgScrSci  \n",
      "0         20        20  \n",
      "1         20        20  \n",
      "2        NaN       NaN  \n",
      "3        NaN       NaN  \n",
      "4        NaN       NaN  \n",
      "        CDS_CODE  ETHNIC GENDER  ENR_TOTAL\n",
      "0  6615986003495       5      F        163\n",
      "1  6615986003495       1      F          3\n",
      "2  6615986003495       9      M          2\n",
      "3  6615986003495       7      M         45\n",
      "4  6615986003495       5      M        179\n"
     ]
    }
   ],
   "source": [
    "print(sch.head())\n",
    "print(dem.head())"
   ]
  },
  {
   "cell_type": "markdown",
   "metadata": {},
   "source": [
    "The `DataFrame.describe` method can also be handy for computing summaries of various statistics of our dataframes. Try it out with each of our 3 dataframes."
   ]
  },
  {
   "cell_type": "code",
   "execution_count": 23,
   "metadata": {
    "scrolled": true
   },
   "outputs": [
    {
     "name": "stdout",
     "output_type": "stream",
     "text": [
      "            CDSCode           cds    NumTstTakr\n",
      "count  1.176000e+04  2.114000e+03   2114.000000\n",
      "mean   2.942944e+13  2.919304e+13     94.595080\n",
      "std    1.428559e+13  1.436404e+13    301.218424\n",
      "min    1.100170e+12  1.100170e+12      0.000000\n",
      "25%    1.964733e+13  1.964725e+13      6.000000\n",
      "50%    3.066670e+13  3.066621e+13     40.000000\n",
      "75%    3.868479e+13  3.868478e+13    102.750000\n",
      "max    5.872770e+13  5.872770e+13  11607.000000\n",
      "                cds     NumTstTakr\n",
      "count  2.208000e+03    2208.000000\n",
      "mean   2.915714e+13     181.385417\n",
      "std    1.444040e+13    2256.131657\n",
      "min    0.000000e+00       0.000000\n",
      "25%    1.964725e+13       6.000000\n",
      "50%    3.066597e+13      40.000000\n",
      "75%    3.868478e+13     107.000000\n",
      "max    5.872770e+13  100197.000000\n"
     ]
    }
   ],
   "source": [
    "print(sch.describe())\n",
    "print(act.describe())"
   ]
  },
  {
   "cell_type": "markdown",
   "metadata": {},
   "source": [
    "### Question 1b: Identifying Issues with the Data\n",
    "\n",
    "Use the `head` command on your three files again. This time, describe at least one potential problem with the data you see. Consider issues with missing values and bad data."
   ]
  },
  {
   "cell_type": "code",
   "execution_count": null,
   "metadata": {},
   "outputs": [],
   "source": []
  },
  {
   "cell_type": "markdown",
   "metadata": {},
   "source": []
  },
  {
   "cell_type": "markdown",
   "metadata": {},
   "source": [
    "We will explore each file in turn, including determining its granularity and primary keys and exploring many of the variables individually. Let's begin with the pubschls file, which has been read into the `sch` dataframe."
   ]
  },
  {
   "cell_type": "markdown",
   "metadata": {},
   "source": [
    "---\n",
    "## 2: Examining the Public Schools Data\n",
    "\n",
    "From its name alone, we expect the `pubschls.csv` file to contain information about the public schools in the state of California. Let's investigate the granularity of this dataset."
   ]
  },
  {
   "cell_type": "markdown",
   "metadata": {},
   "source": [
    "### Question 2a\n",
    "\n",
    "Examining the entries in `sch`, is the `CDSCode` (this 14-digit code is the official, unique identification of a school within California) unique for each record? Your code should compute the answer, i.e. don't just hard code `True` or `False`.\n",
    "\n",
    "Hint: use `value_counts()` or `unique()` to determine if the `CDSCode` series has any duplicates."
   ]
  },
  {
   "cell_type": "code",
   "execution_count": 6,
   "metadata": {},
   "outputs": [
    {
     "data": {
      "text/plain": [
       "True"
      ]
     },
     "execution_count": 6,
     "metadata": {},
     "output_type": "execute_result"
    }
   ],
   "source": [
    "is_school_id_unique = True not in (sch['CDSCode'].value_counts() != 1)\n",
    "is_school_id_unique"
   ]
  },
  {
   "cell_type": "markdown",
   "metadata": {},
   "source": [
    "### Question 2b\n",
    "\n",
    "With this information, you can address the question of granularity. Answer the questions below.\n",
    "\n",
    "1. What does each record represent?  \n",
    "1. What is the primary key?\n",
    "1. What would you find by grouping by the following columns: `CDSCode`, `Zip`, `State`?\n",
    "\n",
    "Please write your answer in the markdown cell below. You may create new cells below your answer to run code, but **please never add cells between a question cell and the answer cell below it.**"
   ]
  },
  {
   "cell_type": "markdown",
   "metadata": {},
   "source": [
    "*Answer Example*\n",
    "\n",
    "1. *Each record represents an instance of registered public school.*\n",
    "2. *CDSCode*\n",
    "3. *With CDSCode, we would find the same table as the original schools table because it appears that CDSCode is unique to each school. With Zip, we would find instances sharing the same postal code appear together under the same group, though it sounds unlikely that we would find such a case. With State, we would find schools located in the same state.*"
   ]
  },
  {
   "cell_type": "markdown",
   "metadata": {},
   "source": [
    "---\n",
    "## 3: Data Cleaning\n",
    "\n",
    "Next, let's  explore some of the variables in the schools table. We begin by examining the SOC Types (the text description of the type of school).\n",
    "\n",
    "### Question 3a\n",
    "\n",
    "Answer the following questions about the `SOC Type` column in the `sch` data frame?  \n",
    "1. Are SOC Types quantitative or qualitative? If qualitative, is it ordinal or nominal? \n",
    "1. What data type is used to represent a SOC Type?"
   ]
  },
  {
   "cell_type": "markdown",
   "metadata": {},
   "source": [
    "*Answer Example:*\n",
    "\n",
    "1. *SOC Types are qualitative and nominal.*\n",
    "2. *String data type.*"
   ]
  },
  {
   "cell_type": "markdown",
   "metadata": {},
   "source": [
    "### Question 3b\n",
    "\n",
    "How many schools are in each school type? \n",
    "\n",
    "In the cell below, create a series where the index is the school and the value is the number of records with that school type in descending order of count. Elementary Schools (Public) should be on the top with 5664 records."
   ]
  },
  {
   "cell_type": "code",
   "execution_count": 7,
   "metadata": {},
   "outputs": [
    {
     "data": {
      "text/plain": [
       "SOCType\n",
       "Elementary Schools (Public)             5664\n",
       "High Schools (Public)                   1314\n",
       "Intermediate/Middle Schools (Public)    1289\n",
       "Continuation High Schools                438\n",
       "K-12 Schools (Public)                    368\n",
       "dtype: int64"
      ]
     },
     "execution_count": 7,
     "metadata": {},
     "output_type": "execute_result"
    }
   ],
   "source": [
    "type_counts = sch.groupby('SOCType').size().sort_values(ascending=False)\n",
    "type_counts.head()"
   ]
  },
  {
   "cell_type": "markdown",
   "metadata": {},
   "source": [
    "Did you take into account that some schools have missing SOC Types?"
   ]
  },
  {
   "cell_type": "code",
   "execution_count": 8,
   "metadata": {},
   "outputs": [
    {
     "name": "stdout",
     "output_type": "stream",
     "text": [
      "zip_counts describes 10655 records.\n",
      "The original data have 11760 records\n"
     ]
    }
   ],
   "source": [
    "print('zip_counts describes', sum(type_counts), 'records.')\n",
    "print('The original data have', len(sch), 'records')"
   ]
  },
  {
   "cell_type": "markdown",
   "metadata": {},
   "source": [
    "Missing data is extremely common in real-world data science projects. There are several ways to include missing school types in the `type_counts` series above. One approach is to use the `fillna` method of the series, which will replace all null (a.k.a. NaN) values with a string of our choosing. In the example below, we picked \"No Data\". When you run the code below, you should see that there are 1105 schools with no school type information."
   ]
  },
  {
   "cell_type": "code",
   "execution_count": 9,
   "metadata": {},
   "outputs": [
    {
     "data": {
      "text/plain": [
       "SOCType\n",
       "Elementary Schools (Public)                  5664\n",
       "High Schools (Public)                        1314\n",
       "Intermediate/Middle Schools (Public)         1289\n",
       "No Data                                      1105\n",
       "Continuation High Schools                     438\n",
       "K-12 Schools (Public)                         368\n",
       "Adult Education Centers                       297\n",
       "Alternative Schools of Choice                 270\n",
       "Elemen Schools In 1 School Dist. (Public)     229\n",
       "District Community Day Schools                183\n",
       "Special Education Schools (Public)            154\n",
       "Preschool                                     152\n",
       "County Community                               77\n",
       "ROC/ROP                                        69\n",
       "Juvenile Court Schools                         62\n",
       "dtype: int64"
      ]
     },
     "execution_count": 9,
     "metadata": {},
     "output_type": "execute_result"
    }
   ],
   "source": [
    "type_counts = sch.fillna(\"No Data\").groupby(\"SOCType\").size().sort_values(ascending=False)\n",
    "type_counts.head(15)"
   ]
  },
  {
   "cell_type": "markdown",
   "metadata": {},
   "source": [
    "An alternate approach is to use the DataFrame `value_counts` method with the optional argument `dropna=False`, which will ensure that null values are counted. In this case, the index will be `NaN` for the row corresponding to a null postal code."
   ]
  },
  {
   "cell_type": "code",
   "execution_count": 10,
   "metadata": {
    "scrolled": true
   },
   "outputs": [
    {
     "data": {
      "text/plain": [
       "Elementary Schools (Public)                  5664\n",
       "High Schools (Public)                        1314\n",
       "Intermediate/Middle Schools (Public)         1289\n",
       "NaN                                          1105\n",
       "Continuation High Schools                     438\n",
       "K-12 Schools (Public)                         368\n",
       "Adult Education Centers                       297\n",
       "Alternative Schools of Choice                 270\n",
       "Elemen Schools In 1 School Dist. (Public)     229\n",
       "District Community Day Schools                183\n",
       "Special Education Schools (Public)            154\n",
       "Preschool                                     152\n",
       "County Community                               77\n",
       "ROC/ROP                                        69\n",
       "Juvenile Court Schools                         62\n",
       "Name: SOCType, dtype: int64"
      ]
     },
     "execution_count": 10,
     "metadata": {},
     "output_type": "execute_result"
    }
   ],
   "source": [
    "sch[\"SOCType\"].value_counts(dropna=False).sort_values(ascending = False).head(15)"
   ]
  },
  {
   "cell_type": "markdown",
   "metadata": {},
   "source": [
    "### Question 3c : A Closer Look at Missing School Types\n",
    "\n",
    "Let's look more closely at records with missing SOC Types. Describe the pattern among records have missing school types. Pay attention to their school names and the dates of last update.\n",
    "\n",
    "*Hint*: The `isnull` method of a series returns a boolean series which is true only for entries in the original series that were missing."
   ]
  },
  {
   "cell_type": "code",
   "execution_count": 11,
   "metadata": {},
   "outputs": [
    {
     "data": {
      "text/html": [
       "<div>\n",
       "<style scoped>\n",
       "    .dataframe tbody tr th:only-of-type {\n",
       "        vertical-align: middle;\n",
       "    }\n",
       "\n",
       "    .dataframe tbody tr th {\n",
       "        vertical-align: top;\n",
       "    }\n",
       "\n",
       "    .dataframe thead th {\n",
       "        text-align: right;\n",
       "    }\n",
       "</style>\n",
       "<table border=\"1\" class=\"dataframe\">\n",
       "  <thead>\n",
       "    <tr style=\"text-align: right;\">\n",
       "      <th></th>\n",
       "      <th>CDSCode</th>\n",
       "      <th>NCESDist</th>\n",
       "      <th>NCESSchool</th>\n",
       "      <th>StatusType</th>\n",
       "      <th>County</th>\n",
       "      <th>District</th>\n",
       "      <th>School</th>\n",
       "      <th>Street</th>\n",
       "      <th>StreetAbr</th>\n",
       "      <th>City</th>\n",
       "      <th>...</th>\n",
       "      <th>AdmFName1</th>\n",
       "      <th>AdmLName1</th>\n",
       "      <th>AdmEmail1</th>\n",
       "      <th>AdmFName2</th>\n",
       "      <th>AdmLName2</th>\n",
       "      <th>AdmEmail2</th>\n",
       "      <th>AdmFName3</th>\n",
       "      <th>AdmLName3</th>\n",
       "      <th>AdmEmail3</th>\n",
       "      <th>LastUpDate</th>\n",
       "    </tr>\n",
       "  </thead>\n",
       "  <tbody>\n",
       "    <tr>\n",
       "      <th>0</th>\n",
       "      <td>1100170000000</td>\n",
       "      <td>0691051</td>\n",
       "      <td>NaN</td>\n",
       "      <td>Active</td>\n",
       "      <td>Alameda</td>\n",
       "      <td>Alameda County Office of Education</td>\n",
       "      <td>NaN</td>\n",
       "      <td>313 West Winton Avenue</td>\n",
       "      <td>313 West Winton Ave.</td>\n",
       "      <td>Hayward</td>\n",
       "      <td>...</td>\n",
       "      <td>L Karen</td>\n",
       "      <td>Monroe</td>\n",
       "      <td>lkmonroe@acoe.org</td>\n",
       "      <td>NaN</td>\n",
       "      <td>NaN</td>\n",
       "      <td>NaN</td>\n",
       "      <td>NaN</td>\n",
       "      <td>NaN</td>\n",
       "      <td>NaN</td>\n",
       "      <td>05/31/2019</td>\n",
       "    </tr>\n",
       "    <tr>\n",
       "      <th>42</th>\n",
       "      <td>1316090000000</td>\n",
       "      <td>0600002</td>\n",
       "      <td>NaN</td>\n",
       "      <td>Active</td>\n",
       "      <td>Alameda</td>\n",
       "      <td>California School for the Blind (State Special...</td>\n",
       "      <td>NaN</td>\n",
       "      <td>500 Walnut Avenue</td>\n",
       "      <td>500 Walnut Ave.</td>\n",
       "      <td>Fremont</td>\n",
       "      <td>...</td>\n",
       "      <td>Gina</td>\n",
       "      <td>Ouellette</td>\n",
       "      <td>gouellette@csb-cde.ca.gov</td>\n",
       "      <td>NaN</td>\n",
       "      <td>NaN</td>\n",
       "      <td>NaN</td>\n",
       "      <td>NaN</td>\n",
       "      <td>NaN</td>\n",
       "      <td>NaN</td>\n",
       "      <td>04/08/2019</td>\n",
       "    </tr>\n",
       "    <tr>\n",
       "      <th>44</th>\n",
       "      <td>1316170000000</td>\n",
       "      <td>0600003</td>\n",
       "      <td>NaN</td>\n",
       "      <td>Active</td>\n",
       "      <td>Alameda</td>\n",
       "      <td>California School for the Deaf-Fremont (State ...</td>\n",
       "      <td>NaN</td>\n",
       "      <td>39350 Gallaudet Drive</td>\n",
       "      <td>39350 Gallaudet Dr.</td>\n",
       "      <td>Fremont</td>\n",
       "      <td>...</td>\n",
       "      <td>Clark</td>\n",
       "      <td>Brooke</td>\n",
       "      <td>cbrooke@csdf-cde.ca.gov</td>\n",
       "      <td>NaN</td>\n",
       "      <td>NaN</td>\n",
       "      <td>NaN</td>\n",
       "      <td>NaN</td>\n",
       "      <td>NaN</td>\n",
       "      <td>NaN</td>\n",
       "      <td>07/27/2017</td>\n",
       "    </tr>\n",
       "    <tr>\n",
       "      <th>47</th>\n",
       "      <td>1611190000000</td>\n",
       "      <td>0601770</td>\n",
       "      <td>NaN</td>\n",
       "      <td>Active</td>\n",
       "      <td>Alameda</td>\n",
       "      <td>Alameda Unified</td>\n",
       "      <td>NaN</td>\n",
       "      <td>2060 Challenger Dr</td>\n",
       "      <td>2060 Challenger Dr</td>\n",
       "      <td>Alameda</td>\n",
       "      <td>...</td>\n",
       "      <td>Sean</td>\n",
       "      <td>McPhetridge</td>\n",
       "      <td>smcphetridge@alamedaunified.org</td>\n",
       "      <td>NaN</td>\n",
       "      <td>NaN</td>\n",
       "      <td>NaN</td>\n",
       "      <td>NaN</td>\n",
       "      <td>NaN</td>\n",
       "      <td>NaN</td>\n",
       "      <td>09/17/2018</td>\n",
       "    </tr>\n",
       "    <tr>\n",
       "      <th>84</th>\n",
       "      <td>1611270000000</td>\n",
       "      <td>0601860</td>\n",
       "      <td>NaN</td>\n",
       "      <td>Active</td>\n",
       "      <td>Alameda</td>\n",
       "      <td>Albany City Unified</td>\n",
       "      <td>NaN</td>\n",
       "      <td>819 Bancroft Way</td>\n",
       "      <td>819 Bancroft Way</td>\n",
       "      <td>Berkeley</td>\n",
       "      <td>...</td>\n",
       "      <td>Valerie</td>\n",
       "      <td>Williams</td>\n",
       "      <td>vwilliams@ausdk12.org</td>\n",
       "      <td>NaN</td>\n",
       "      <td>NaN</td>\n",
       "      <td>NaN</td>\n",
       "      <td>NaN</td>\n",
       "      <td>NaN</td>\n",
       "      <td>NaN</td>\n",
       "      <td>08/29/2018</td>\n",
       "    </tr>\n",
       "  </tbody>\n",
       "</table>\n",
       "<p>5 rows × 51 columns</p>\n",
       "</div>"
      ],
      "text/plain": [
       "          CDSCode NCESDist NCESSchool StatusType   County  \\\n",
       "0   1100170000000  0691051        NaN     Active  Alameda   \n",
       "42  1316090000000  0600002        NaN     Active  Alameda   \n",
       "44  1316170000000  0600003        NaN     Active  Alameda   \n",
       "47  1611190000000  0601770        NaN     Active  Alameda   \n",
       "84  1611270000000  0601860        NaN     Active  Alameda   \n",
       "\n",
       "                                             District School  \\\n",
       "0                  Alameda County Office of Education    NaN   \n",
       "42  California School for the Blind (State Special...    NaN   \n",
       "44  California School for the Deaf-Fremont (State ...    NaN   \n",
       "47                                    Alameda Unified    NaN   \n",
       "84                                Albany City Unified    NaN   \n",
       "\n",
       "                    Street             StreetAbr      City  ... AdmFName1  \\\n",
       "0   313 West Winton Avenue  313 West Winton Ave.   Hayward  ...   L Karen   \n",
       "42       500 Walnut Avenue       500 Walnut Ave.   Fremont  ...      Gina   \n",
       "44   39350 Gallaudet Drive   39350 Gallaudet Dr.   Fremont  ...     Clark   \n",
       "47      2060 Challenger Dr    2060 Challenger Dr   Alameda  ...      Sean   \n",
       "84        819 Bancroft Way      819 Bancroft Way  Berkeley  ...   Valerie   \n",
       "\n",
       "      AdmLName1                        AdmEmail1 AdmFName2 AdmLName2  \\\n",
       "0        Monroe                lkmonroe@acoe.org       NaN       NaN   \n",
       "42    Ouellette        gouellette@csb-cde.ca.gov       NaN       NaN   \n",
       "44       Brooke          cbrooke@csdf-cde.ca.gov       NaN       NaN   \n",
       "47  McPhetridge  smcphetridge@alamedaunified.org       NaN       NaN   \n",
       "84     Williams            vwilliams@ausdk12.org       NaN       NaN   \n",
       "\n",
       "   AdmEmail2 AdmFName3 AdmLName3 AdmEmail3  LastUpDate  \n",
       "0        NaN       NaN       NaN       NaN  05/31/2019  \n",
       "42       NaN       NaN       NaN       NaN  04/08/2019  \n",
       "44       NaN       NaN       NaN       NaN  07/27/2017  \n",
       "47       NaN       NaN       NaN       NaN  09/17/2018  \n",
       "84       NaN       NaN       NaN       NaN  08/29/2018  \n",
       "\n",
       "[5 rows x 51 columns]"
      ]
     },
     "execution_count": 11,
     "metadata": {},
     "output_type": "execute_result"
    }
   ],
   "source": [
    "sch.loc[sch['SOCType'].isnull()].head()"
   ]
  },
  {
   "cell_type": "markdown",
   "metadata": {},
   "source": [
    "### Question 3d : Zip Codes\n",
    "\n",
    "Missing school types aren't our only problem. There are also some records where the postal code is wrong, e.g., there are some extended postal codes that are 9 digits long, rather than the typical 5 digits.\n",
    "\n",
    "Let's clean up the extended zip codes by dropping the digits beyond the first 5. Rather than deleting or replacing the old values in the `Zip` columnm, we'll instead create a new column called `Zip_5`.\n",
    "\n",
    "The reason we're making a new column is that it's typically good practice to keep the original values when we are manipulating data. This makes it easier to recover from mistakes, and also makes it more clear that we are not working with the original raw data."
   ]
  },
  {
   "cell_type": "code",
   "execution_count": 28,
   "metadata": {},
   "outputs": [],
   "source": [
    "sch['Zip_5'] = sch['Zip'].str[:5]"
   ]
  },
  {
   "cell_type": "markdown",
   "metadata": {},
   "source": [
    "---\n",
    "## 4: Sampling from the Schools Data\n",
    "We can now sample from the business data using the cleaned ZIP code data. Make sure to use `Zip_5` instead of `Zip` for all parts of this question."
   ]
  },
  {
   "cell_type": "markdown",
   "metadata": {},
   "source": [
    "### Question 4a\n",
    "\n",
    "First, complete the following function `sample`, which takes as arguments a series, `series`, and a sample size, `n`, and returns a simple random sample (SRS) of size `n` from the series. Recall that in SRS, sampling is performed **without** replacement. The result should be a **list** of the `n` values that are in the sample.\n",
    "\n",
    "*Hint*: Consider using [`np.random.choice`](https://docs.scipy.org/doc/numpy-1.14.1/reference/generated/numpy.random.choice.html)."
   ]
  },
  {
   "cell_type": "code",
   "execution_count": 13,
   "metadata": {},
   "outputs": [],
   "source": [
    "def sample(series, n):\n",
    "    # Do not change the following line of code in any way!\n",
    "    # In case you delete it, it should be \"np.random.seed(40)\"\n",
    "    np.random.seed(40)\n",
    "    \n",
    "    return series.sample(n).tolist()"
   ]
  },
  {
   "cell_type": "markdown",
   "metadata": {},
   "source": [
    "### Question 4b\n",
    "Suppose we take a SRS of 5 schools from the public schools data. What is the probability that the school named *Isador Cohen Elementary* is in the sample?"
   ]
  },
  {
   "cell_type": "code",
   "execution_count": 14,
   "metadata": {},
   "outputs": [],
   "source": [
    "q4b_answer = ..."
   ]
  },
  {
   "cell_type": "markdown",
   "metadata": {},
   "source": [
    "### Question 4c\n",
    "Collect a stratified random sample of school names, where each stratum consists of a postal code. Collect one school name per stratum. Assign `sch_strat_sample` to a series of business names selected by this sampling procedure.\n",
    "\n",
    "Hint: You can use the `sample` function you defined earlier."
   ]
  },
  {
   "cell_type": "code",
   "execution_count": 15,
   "metadata": {},
   "outputs": [],
   "source": [
    "sch_strat_sample = ..."
   ]
  },
  {
   "cell_type": "markdown",
   "metadata": {},
   "source": [
    "### Question 4d\n",
    "\n",
    "What is the probability that *Isador Cohen Elementary* is selected as part of this stratified random sampling procedure?"
   ]
  },
  {
   "cell_type": "code",
   "execution_count": 16,
   "metadata": {},
   "outputs": [],
   "source": [
    "q4d_answer = ..."
   ]
  },
  {
   "cell_type": "markdown",
   "metadata": {},
   "source": [
    "### Question 4e\n",
    "Collect a cluster sample of school codes, where each cluster is a postal code, with 5 clusters in the sample. Assign `sch_cluster_sample` to a series of school codes selected by this sampling procedure.\n",
    "\n",
    "Hint: Consider using [`isin`](https://pandas.pydata.org/pandas-docs/stable/reference/api/pandas.Series.isin.html)."
   ]
  },
  {
   "cell_type": "code",
   "execution_count": 17,
   "metadata": {},
   "outputs": [],
   "source": [
    "sch_cluster_sample = ..."
   ]
  },
  {
   "cell_type": "markdown",
   "metadata": {},
   "source": [
    "### Question 4f\n",
    "What is the probability that *Isador Cohen Elementary* is selected as part of this cluster sampling procedure?"
   ]
  },
  {
   "cell_type": "code",
   "execution_count": 18,
   "metadata": {},
   "outputs": [],
   "source": [
    "q4f_answer = ..."
   ]
  },
  {
   "cell_type": "markdown",
   "metadata": {},
   "source": [
    "### Question 4g\n",
    "In the context of this question, what are the benefit(s) of performing stratified sampling over cluster sampling? Why would you consider performing cluster sampling instead of stratified sampling? Compare the strengths and weaknesses of both sampling techniques."
   ]
  },
  {
   "cell_type": "markdown",
   "metadata": {},
   "source": []
  },
  {
   "cell_type": "markdown",
   "metadata": {},
   "source": [
    "### Question 4h\n",
    "Collect a multi-stage sample. First, take a SRS of 5 postal codes. Then, collect an SRS of one business name per selected postal code. Assign `bus_multi_sample` to a series of names selected by this procedure."
   ]
  },
  {
   "cell_type": "code",
   "execution_count": 19,
   "metadata": {},
   "outputs": [],
   "source": [
    "np.random.seed(40) # Do not touch this!\n",
    "\n",
    "bus_multi_sample = ..."
   ]
  },
  {
   "cell_type": "markdown",
   "metadata": {},
   "source": [
    "### Question 4i\n",
    "What is the probability that *Isador Cohen Elementary* is chosen in the multi-stage sample?"
   ]
  },
  {
   "cell_type": "code",
   "execution_count": 20,
   "metadata": {},
   "outputs": [],
   "source": [
    "q4i_answer = ..."
   ]
  },
  {
   "cell_type": "markdown",
   "metadata": {},
   "source": [
    "---\n",
    "## 5: Missing ACT Scores\n",
    "\n",
    "Let's also consider schools' average ACT Math scores and get a sense of how many are missing.\n",
    "\n",
    "### Question 5a\n",
    "\n",
    "How many schools are missing ACT Math Scores?\n",
    "\n",
    "*Hint*: Use `isnull`."
   ]
  },
  {
   "cell_type": "code",
   "execution_count": 24,
   "metadata": {
    "scrolled": true
   },
   "outputs": [
    {
     "data": {
      "text/plain": [
       "9888"
      ]
     },
     "execution_count": 24,
     "metadata": {},
     "output_type": "execute_result"
    }
   ],
   "source": [
    "num_missing_web = sch['AvgScrMath'].isnull().sum()\n",
    "num_missing_web"
   ]
  },
  {
   "cell_type": "markdown",
   "metadata": {},
   "source": [
    "## As a somewhat contrived exercise in data manipulation, let's try to identify which ZIP codes have the most average ACT Math score records.\n",
    "\n",
    "In the cell below, create a series where the index is `Zip_5`, and the value is the number of businesses with missing ACT Math Scores in that ZIP code. Your series should be in descending order.\n",
    "\n",
    "*Hint: Create a custom function to compute the number of null entries in a series, and use this function with the `agg` method.*"
   ]
  },
  {
   "cell_type": "code",
   "execution_count": 29,
   "metadata": {
    "scrolled": true
   },
   "outputs": [
    {
     "data": {
      "text/plain": [
       "Zip_5\n",
       "93257    35\n",
       "93274    35\n",
       "93230    33\n",
       "94952    33\n",
       "90011    30\n",
       "Name: AvgScrMath, dtype: int64"
      ]
     },
     "execution_count": 29,
     "metadata": {},
     "output_type": "execute_result"
    }
   ],
   "source": [
    "def null_act_count(series):\n",
    "    return series['AvgScrMath'].isnull().sum()\n",
    "\n",
    "missing_per_zip = sch.set_index('Zip_5').groupby('Zip_5').\\\n",
    "agg(lambda x: null_act_count(x))['AvgScrMath'].sort_values(ascending=False)\n",
    "missing_per_zip.head()"
   ]
  },
  {
   "cell_type": "markdown",
   "metadata": {},
   "source": [
    "---\n",
    "## 6: Exploring ACT Scores"
   ]
  },
  {
   "cell_type": "markdown",
   "metadata": {},
   "source": [
    "### Question 6a\n",
    "Let's look at the distribution of ACT scores. As we saw before when we called `head` on this data frame, average ACT scores appear to be integer values. The discreteness of this variable means that we can use a barplot to visualize the distribution of the ACT score. Make a bar plot of the counts of the number of schools receiving each score. "
   ]
  },
  {
   "cell_type": "code",
   "execution_count": 32,
   "metadata": {
    "scrolled": false
   },
   "outputs": [
    {
     "data": {
      "image/png": "[encoded data removed]",
      "text/plain": [
       "<Figure size 432x288 with 1 Axes>"
      ]
     },
     "metadata": {},
     "output_type": "display_data"
    }
   ],
   "source": [
    "act_score_count = act.loc[act['AvgScrMath']!='*']['AvgScrMath'].\\\n",
    "dropna().astype('int').value_counts().sort_values('index')\n",
    "\n",
    "plt.bar(act_score_count.index, height=act_score_count)\n",
    "plt.xlabel('Score')\n",
    "plt.ylabel('Count')\n",
    "plt.title('Distribution of ACT Math Scores');"
   ]
  },
  {
   "cell_type": "markdown",
   "metadata": {},
   "source": [
    "### Question 6b\n",
    "\n",
    "Describe the qualities of the distribution of the ACT scores based on your bar plot. Consider the mode(s), symmetry, tails, gaps, and anamolous values. Are there any unusual features of this distribution? What do your observations imply about the scores?"
   ]
  },
  {
   "cell_type": "markdown",
   "metadata": {},
   "source": []
  },
  {
   "cell_type": "markdown",
   "metadata": {},
   "source": [
    "---\n",
    "## 7: Investigate the Demographics Data\n",
    "\n",
    "Let's now turn to the demographics DataFrame. In this section, we determine the granularity of `dem` and investigate the kinds of information provided for school demographics. Let's start by looking again at the first 5 rows of `dem` to see what we're working with."
   ]
  },
  {
   "cell_type": "code",
   "execution_count": 33,
   "metadata": {},
   "outputs": [
    {
     "data": {
      "text/html": [
       "<div>\n",
       "<style scoped>\n",
       "    .dataframe tbody tr th:only-of-type {\n",
       "        vertical-align: middle;\n",
       "    }\n",
       "\n",
       "    .dataframe tbody tr th {\n",
       "        vertical-align: top;\n",
       "    }\n",
       "\n",
       "    .dataframe thead th {\n",
       "        text-align: right;\n",
       "    }\n",
       "</style>\n",
       "<table border=\"1\" class=\"dataframe\">\n",
       "  <thead>\n",
       "    <tr style=\"text-align: right;\">\n",
       "      <th></th>\n",
       "      <th>CDS_CODE</th>\n",
       "      <th>ETHNIC</th>\n",
       "      <th>GENDER</th>\n",
       "      <th>ENR_TOTAL</th>\n",
       "    </tr>\n",
       "  </thead>\n",
       "  <tbody>\n",
       "    <tr>\n",
       "      <th>0</th>\n",
       "      <td>6615986003495</td>\n",
       "      <td>5</td>\n",
       "      <td>F</td>\n",
       "      <td>163</td>\n",
       "    </tr>\n",
       "    <tr>\n",
       "      <th>1</th>\n",
       "      <td>6615986003495</td>\n",
       "      <td>1</td>\n",
       "      <td>F</td>\n",
       "      <td>3</td>\n",
       "    </tr>\n",
       "    <tr>\n",
       "      <th>2</th>\n",
       "      <td>6615986003495</td>\n",
       "      <td>9</td>\n",
       "      <td>M</td>\n",
       "      <td>2</td>\n",
       "    </tr>\n",
       "    <tr>\n",
       "      <th>3</th>\n",
       "      <td>6615986003495</td>\n",
       "      <td>7</td>\n",
       "      <td>M</td>\n",
       "      <td>45</td>\n",
       "    </tr>\n",
       "    <tr>\n",
       "      <th>4</th>\n",
       "      <td>6615986003495</td>\n",
       "      <td>5</td>\n",
       "      <td>M</td>\n",
       "      <td>179</td>\n",
       "    </tr>\n",
       "  </tbody>\n",
       "</table>\n",
       "</div>"
      ],
      "text/plain": [
       "        CDS_CODE  ETHNIC GENDER  ENR_TOTAL\n",
       "0  6615986003495       5      F        163\n",
       "1  6615986003495       1      F          3\n",
       "2  6615986003495       9      M          2\n",
       "3  6615986003495       7      M         45\n",
       "4  6615986003495       5      M        179"
      ]
     },
     "execution_count": 33,
     "metadata": {},
     "output_type": "execute_result"
    }
   ],
   "source": [
    "dem.head()"
   ]
  },
  {
   "cell_type": "markdown",
   "metadata": {},
   "source": [
    "### Question 7a\n",
    "From calling `head`, we know that each row in this table corresponds to a single gender and race. Let's get a sense of the total number of observations, as well as the total number of unique schools that occur in the dataset."
   ]
  },
  {
   "cell_type": "code",
   "execution_count": 105,
   "metadata": {
    "scrolled": true
   },
   "outputs": [
    {
     "name": "stdout",
     "output_type": "stream",
     "text": [
      "130220\n",
      "10521\n"
     ]
    }
   ],
   "source": [
    "# The number of rows in ins\n",
    "rows_in_table  = dem.shape[0]\n",
    "print(rows_in_table)\n",
    "\n",
    "# The number of unique business IDs in ins.\n",
    "unique_dem_ids = dem['CDS_CODE'].value_counts().shape[0]\n",
    "print(unique_dem_ids)"
   ]
  },
  {
   "cell_type": "markdown",
   "metadata": {},
   "source": [
    "### Question 7b\n",
    "\n",
    "Next, we examine the Series in the `dem` dataframe called `ETHNIC`. From examining the first few rows of `ETHNIC`, we see that `ETHNIC` is a integer with values ranging from 1 to 9, presumably representing some ethnic category. What values does this column take? How many occurrences of each value is in the DataFrame? What are the implications for further analysis? (Refer to https://www.cde.ca.gov/ds/sd/sd/fsenr.asp for explanations on the file structure.)"
   ]
  },
  {
   "cell_type": "code",
   "execution_count": null,
   "metadata": {},
   "outputs": [],
   "source": []
  },
  {
   "cell_type": "markdown",
   "metadata": {},
   "source": []
  },
  {
   "cell_type": "markdown",
   "metadata": {},
   "source": [
    "### Question 7c\n",
    "\n",
    "Let's now count the proportion of each ethnic group for every school.\n",
    "\n",
    "Create a new dataframe of counts of the ethnic/gender category and proportion of that group, storing the result in `fraction_ethnic_df`. It should have an index called `CDS_CODE` and should also have 4 columns:\n",
    "\n",
    "1. `ethnic`: The ethnic group of interest.\n",
    "2. `gender`: The gender group of interest.\n",
    "3. `count`: The number of students belonging to the specified ethnic group.\n",
    "4. `fraction_count`: The fraction of students belonging to the specified ethnic group.\n",
    "\n",
    "Your data frame should be sorted by the fraction count in descending order.\n",
    "\n",
    "Recommended approach: Build a new dataframe with total number of students for each school and join the table with elements of the the original `dem` dataframe. From there, you can extend the resulting table to compute the fraction of the given ethnic group. This will require some new syntax you may not have seen.\n",
    "\n",
    "*Hint*: You can use the divison operator to compute the ratio of two series."
   ]
  },
  {
   "cell_type": "code",
   "execution_count": 52,
   "metadata": {},
   "outputs": [
    {
     "data": {
      "text/html": [
       "<div>\n",
       "<style scoped>\n",
       "    .dataframe tbody tr th:only-of-type {\n",
       "        vertical-align: middle;\n",
       "    }\n",
       "\n",
       "    .dataframe tbody tr th {\n",
       "        vertical-align: top;\n",
       "    }\n",
       "\n",
       "    .dataframe thead th {\n",
       "        text-align: right;\n",
       "    }\n",
       "</style>\n",
       "<table border=\"1\" class=\"dataframe\">\n",
       "  <thead>\n",
       "    <tr style=\"text-align: right;\">\n",
       "      <th></th>\n",
       "      <th>ethnic</th>\n",
       "      <th>gender</th>\n",
       "      <th>count</th>\n",
       "      <th>fraction_count</th>\n",
       "    </tr>\n",
       "    <tr>\n",
       "      <th>CDS_CODE</th>\n",
       "      <th></th>\n",
       "      <th></th>\n",
       "      <th></th>\n",
       "      <th></th>\n",
       "    </tr>\n",
       "  </thead>\n",
       "  <tbody>\n",
       "    <tr>\n",
       "      <th>6615986003495</th>\n",
       "      <td>5</td>\n",
       "      <td>F</td>\n",
       "      <td>163</td>\n",
       "      <td>0.367117</td>\n",
       "    </tr>\n",
       "    <tr>\n",
       "      <th>6615986003495</th>\n",
       "      <td>1</td>\n",
       "      <td>F</td>\n",
       "      <td>3</td>\n",
       "      <td>0.006757</td>\n",
       "    </tr>\n",
       "    <tr>\n",
       "      <th>6615986003495</th>\n",
       "      <td>9</td>\n",
       "      <td>M</td>\n",
       "      <td>2</td>\n",
       "      <td>0.004505</td>\n",
       "    </tr>\n",
       "    <tr>\n",
       "      <th>6615986003495</th>\n",
       "      <td>7</td>\n",
       "      <td>M</td>\n",
       "      <td>45</td>\n",
       "      <td>0.101351</td>\n",
       "    </tr>\n",
       "    <tr>\n",
       "      <th>6615986003495</th>\n",
       "      <td>5</td>\n",
       "      <td>M</td>\n",
       "      <td>179</td>\n",
       "      <td>0.403153</td>\n",
       "    </tr>\n",
       "  </tbody>\n",
       "</table>\n",
       "</div>"
      ],
      "text/plain": [
       "               ethnic gender  count  fraction_count\n",
       "CDS_CODE                                           \n",
       "6615986003495       5      F    163        0.367117\n",
       "6615986003495       1      F      3        0.006757\n",
       "6615986003495       9      M      2        0.004505\n",
       "6615986003495       7      M     45        0.101351\n",
       "6615986003495       5      M    179        0.403153"
      ]
     },
     "execution_count": 52,
     "metadata": {},
     "output_type": "execute_result"
    }
   ],
   "source": [
    "total_students = pd.DataFrame(dem.groupby('CDS_CODE').sum()['ENR_TOTAL'])\n",
    "total_students.columns = ['count_total']\n",
    "new_table = dem.join(total_students, on='CDS_CODE')\n",
    "new_table['fraction_count'] = new_table['ENR_TOTAL'] / new_table['count_total']\n",
    "new_table = new_table.set_index('CDS_CODE')\n",
    "new_table = new_table.drop('count_total',axis=1)\n",
    "new_table.columns = ['ethnic','gender','count','fraction_count']\n",
    "new_table.head()"
   ]
  },
  {
   "cell_type": "markdown",
   "metadata": {},
   "source": [
    "### Question 7d\n",
    "\n",
    "Let's start by creating a new dataframe called `dem_named`. It should be exactly the same as `dem`, except that it should have the name and average ACT Math Score of every school, as determined by the `sch` dataframe. If a `CDS_CODE` in `dem` does not exist in `sch`, the name and average ACT Math score should be given as NaN. \n",
    "\n",
    "Find the names of five schools with the highest fraction of male, Hispanic students (Ethnic code 5) with more than 10 students falling into the category. Repeat the same exercise with male, Asian students and comment on the differences you observe. Specifically, how do `count` and `fraction_count` columns differ in the two tables?\n",
    "\n",
    "*Hint: Use the merge method to join the `dem` dataframe with the appropriate portion of the `sch` dataframe.*"
   ]
  },
  {
   "cell_type": "code",
   "execution_count": 88,
   "metadata": {},
   "outputs": [
    {
     "data": {
      "text/html": [
       "<div>\n",
       "<style scoped>\n",
       "    .dataframe tbody tr th:only-of-type {\n",
       "        vertical-align: middle;\n",
       "    }\n",
       "\n",
       "    .dataframe tbody tr th {\n",
       "        vertical-align: top;\n",
       "    }\n",
       "\n",
       "    .dataframe thead th {\n",
       "        text-align: right;\n",
       "    }\n",
       "</style>\n",
       "<table border=\"1\" class=\"dataframe\">\n",
       "  <thead>\n",
       "    <tr style=\"text-align: right;\">\n",
       "      <th></th>\n",
       "      <th>ethnic</th>\n",
       "      <th>gender</th>\n",
       "      <th>count</th>\n",
       "      <th>fraction_count</th>\n",
       "      <th>CDSCode</th>\n",
       "      <th>School</th>\n",
       "      <th>AvgScrMath</th>\n",
       "    </tr>\n",
       "  </thead>\n",
       "  <tbody>\n",
       "    <tr>\n",
       "      <th>114696</th>\n",
       "      <td>5</td>\n",
       "      <td>M</td>\n",
       "      <td>31</td>\n",
       "      <td>0.911765</td>\n",
       "      <td>3.066671e+13</td>\n",
       "      <td>REACH Academy</td>\n",
       "      <td>NaN</td>\n",
       "    </tr>\n",
       "    <tr>\n",
       "      <th>126425</th>\n",
       "      <td>5</td>\n",
       "      <td>M</td>\n",
       "      <td>38</td>\n",
       "      <td>0.904762</td>\n",
       "      <td>1.964519e+13</td>\n",
       "      <td>El Monte Union High School Community Day</td>\n",
       "      <td>NaN</td>\n",
       "    </tr>\n",
       "    <tr>\n",
       "      <th>82353</th>\n",
       "      <td>5</td>\n",
       "      <td>M</td>\n",
       "      <td>18</td>\n",
       "      <td>0.900000</td>\n",
       "      <td>1.310132e+13</td>\n",
       "      <td>Imperial County Juvenile Hall/Community</td>\n",
       "      <td>NaN</td>\n",
       "    </tr>\n",
       "    <tr>\n",
       "      <th>97486</th>\n",
       "      <td>5</td>\n",
       "      <td>M</td>\n",
       "      <td>46</td>\n",
       "      <td>0.884615</td>\n",
       "      <td>2.710272e+13</td>\n",
       "      <td>Wellington M. Smith, Jr.</td>\n",
       "      <td>NaN</td>\n",
       "    </tr>\n",
       "    <tr>\n",
       "      <th>52336</th>\n",
       "      <td>5</td>\n",
       "      <td>M</td>\n",
       "      <td>18</td>\n",
       "      <td>0.857143</td>\n",
       "      <td>1.075127e+13</td>\n",
       "      <td>Mendota Continuation High</td>\n",
       "      <td>NaN</td>\n",
       "    </tr>\n",
       "  </tbody>\n",
       "</table>\n",
       "</div>"
      ],
      "text/plain": [
       "        ethnic gender  count  fraction_count       CDSCode  \\\n",
       "114696       5      M     31        0.911765  3.066671e+13   \n",
       "126425       5      M     38        0.904762  1.964519e+13   \n",
       "82353        5      M     18        0.900000  1.310132e+13   \n",
       "97486        5      M     46        0.884615  2.710272e+13   \n",
       "52336        5      M     18        0.857143  1.075127e+13   \n",
       "\n",
       "                                          School AvgScrMath  \n",
       "114696                             REACH Academy        NaN  \n",
       "126425  El Monte Union High School Community Day        NaN  \n",
       "82353    Imperial County Juvenile Hall/Community        NaN  \n",
       "97486                   Wellington M. Smith, Jr.        NaN  \n",
       "52336                  Mendota Continuation High        NaN  "
      ]
     },
     "execution_count": 88,
     "metadata": {},
     "output_type": "execute_result"
    }
   ],
   "source": [
    "new_table_2 = pd.merge(new_table, sch[['CDSCode','School','AvgScrMath']], \\\n",
    "                       left_on='CDS_CODE', right_on='CDSCode', how='left')\n",
    "new_table_2 = new_table_2.loc[(new_table_2['ethnic']==5) & (new_table_2['gender']=='M') & \\\n",
    "                              (new_table_2['count']>10)]\n",
    "new_table_2.sort_values(by='fraction_count', ascending=False).head()"
   ]
  },
  {
   "cell_type": "markdown",
   "metadata": {},
   "source": [
    "Repeating the same exercise for male, Asian students (Ethnic code 2)."
   ]
  },
  {
   "cell_type": "code",
   "execution_count": 89,
   "metadata": {},
   "outputs": [
    {
     "data": {
      "text/html": [
       "<div>\n",
       "<style scoped>\n",
       "    .dataframe tbody tr th:only-of-type {\n",
       "        vertical-align: middle;\n",
       "    }\n",
       "\n",
       "    .dataframe tbody tr th {\n",
       "        vertical-align: top;\n",
       "    }\n",
       "\n",
       "    .dataframe thead th {\n",
       "        text-align: right;\n",
       "    }\n",
       "</style>\n",
       "<table border=\"1\" class=\"dataframe\">\n",
       "  <thead>\n",
       "    <tr style=\"text-align: right;\">\n",
       "      <th></th>\n",
       "      <th>ethnic</th>\n",
       "      <th>gender</th>\n",
       "      <th>count</th>\n",
       "      <th>fraction_count</th>\n",
       "      <th>CDSCode</th>\n",
       "      <th>School</th>\n",
       "      <th>AvgScrMath</th>\n",
       "    </tr>\n",
       "  </thead>\n",
       "  <tbody>\n",
       "    <tr>\n",
       "      <th>85292</th>\n",
       "      <td>2</td>\n",
       "      <td>M</td>\n",
       "      <td>27</td>\n",
       "      <td>0.540000</td>\n",
       "      <td>3.868479e+13</td>\n",
       "      <td>Lee (Edwin and Anita) Newcomer</td>\n",
       "      <td>NaN</td>\n",
       "    </tr>\n",
       "    <tr>\n",
       "      <th>22617</th>\n",
       "      <td>2</td>\n",
       "      <td>M</td>\n",
       "      <td>293</td>\n",
       "      <td>0.514035</td>\n",
       "      <td>4.369420e+13</td>\n",
       "      <td>Murdock-Portal Elementary</td>\n",
       "      <td>NaN</td>\n",
       "    </tr>\n",
       "    <tr>\n",
       "      <th>125129</th>\n",
       "      <td>2</td>\n",
       "      <td>M</td>\n",
       "      <td>367</td>\n",
       "      <td>0.500000</td>\n",
       "      <td>1.611766e+12</td>\n",
       "      <td>Joshua Chadbourne Elementary</td>\n",
       "      <td>NaN</td>\n",
       "    </tr>\n",
       "    <tr>\n",
       "      <th>24438</th>\n",
       "      <td>2</td>\n",
       "      <td>M</td>\n",
       "      <td>344</td>\n",
       "      <td>0.494964</td>\n",
       "      <td>4.369420e+13</td>\n",
       "      <td>William Faria Elementary</td>\n",
       "      <td>NaN</td>\n",
       "    </tr>\n",
       "    <tr>\n",
       "      <th>66729</th>\n",
       "      <td>2</td>\n",
       "      <td>M</td>\n",
       "      <td>416</td>\n",
       "      <td>0.485414</td>\n",
       "      <td>1.611766e+12</td>\n",
       "      <td>James Leitch Elementary</td>\n",
       "      <td>NaN</td>\n",
       "    </tr>\n",
       "  </tbody>\n",
       "</table>\n",
       "</div>"
      ],
      "text/plain": [
       "        ethnic gender  count  fraction_count       CDSCode  \\\n",
       "85292        2      M     27        0.540000  3.868479e+13   \n",
       "22617        2      M    293        0.514035  4.369420e+13   \n",
       "125129       2      M    367        0.500000  1.611766e+12   \n",
       "24438        2      M    344        0.494964  4.369420e+13   \n",
       "66729        2      M    416        0.485414  1.611766e+12   \n",
       "\n",
       "                                School AvgScrMath  \n",
       "85292   Lee (Edwin and Anita) Newcomer        NaN  \n",
       "22617        Murdock-Portal Elementary        NaN  \n",
       "125129    Joshua Chadbourne Elementary        NaN  \n",
       "24438         William Faria Elementary        NaN  \n",
       "66729          James Leitch Elementary        NaN  "
      ]
     },
     "execution_count": 89,
     "metadata": {},
     "output_type": "execute_result"
    }
   ],
   "source": [
    "new_table_2 = pd.merge(new_table, sch[['CDSCode','School','AvgScrMath']], \\\n",
    "                       left_on='CDS_CODE', right_on='CDSCode', how='left')\n",
    "new_table_2 = new_table_2.loc[(new_table_2['ethnic']==2) & (new_table_2['gender']=='M') & \\\n",
    "                             (new_table_2['count']>10)]\n",
    "new_table_2.sort_values(by='fraction_count', ascending=False).head()"
   ]
  },
  {
   "cell_type": "markdown",
   "metadata": {},
   "source": []
  },
  {
   "cell_type": "markdown",
   "metadata": {},
   "source": [
    "---\n",
    "## 8: Relationship Between Demographics and ACT Scores\n",
    "\n",
    "### Question 8a"
   ]
  },
  {
   "cell_type": "code",
   "execution_count": 83,
   "metadata": {},
   "outputs": [
    {
     "data": {
      "text/plain": [
       "<matplotlib.axes._subplots.AxesSubplot at 0x2258f07f860>"
      ]
     },
     "execution_count": 83,
     "metadata": {},
     "output_type": "execute_result"
    },
    {
     "data": {
      "image/png": "[encoded data removed]",
      "text/plain": [
       "<Figure size 432x288 with 1 Axes>"
      ]
     },
     "metadata": {},
     "output_type": "display_data"
    }
   ],
   "source": [
    "hisp = dem.loc[dem['ETHNIC'] == 5].groupby('CDS_CODE').sum()['PERC']\n",
    "merge = pd.merge(act, hisp, left_on='cds', right_on='CDS_CODE')[['PERC', 'AvgScrMath']].dropna().sample(1000)\n",
    "sns.boxplot(merge['AvgScrMath'], merge['PERC'], order=['15','16','17','18','19',\\\n",
    "                                                       '20','21','22','23','24','25',\\\n",
    "                                                       '26','27','28','29','30','31','32'])"
   ]
  },
  {
   "cell_type": "code",
   "execution_count": 85,
   "metadata": {},
   "outputs": [
    {
     "data": {
      "text/plain": [
       "<matplotlib.axes._subplots.AxesSubplot at 0x2258ec6e668>"
      ]
     },
     "execution_count": 85,
     "metadata": {},
     "output_type": "execute_result"
    },
    {
     "data": {
      "image/png": "[encoded data removed]",
      "text/plain": [
       "<Figure size 432x288 with 1 Axes>"
      ]
     },
     "metadata": {},
     "output_type": "display_data"
    }
   ],
   "source": [
    "asian = dem.loc[dem['ETHNIC'] == 2].groupby('CDS_CODE').sum()['PERC']\n",
    "merge = pd.merge(act, asian, left_on='cds', right_on='CDS_CODE')[['PERC', 'AvgScrMath']].dropna().sample(1000)\n",
    "sns.boxplot(merge['AvgScrMath'], merge['PERC'], order=['15','16','17','18','19',\\\n",
    "                                                       '20','21','22','23','24','25',\\\n",
    "                                                       '26','27','28','29','30','31','32'])"
   ]
  }
 ],
 "metadata": {
  "kernelspec": {
   "display_name": "Python 3",
   "language": "python",
   "name": "python3"
  },
  "language_info": {
   "codemirror_mode": {
    "name": "ipython",
    "version": 3
   },
   "file_extension": ".py",
   "mimetype": "text/x-python",
   "name": "python",
   "nbconvert_exporter": "python",
   "pygments_lexer": "ipython3",
   "version": "3.6.5"
  }
 },
 "nbformat": 4,
 "nbformat_minor": 2
}
