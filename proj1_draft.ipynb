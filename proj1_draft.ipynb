{
 "cells": [
  {
   "cell_type": "markdown",
   "metadata": {},
   "source": [
    "# Project 1: Wealth and Education\n",
    "## Cleaning and Exploring Data with Pandas\n",
    "## Due Date: \n",
    "## Collaboration Policy\n",
    "\n",
    "Data science is a collaborative activity. While you may talk with others about\n",
    "the project, we ask that you **write your solutions individually**. If you do\n",
    "discuss the assignments with others please **include their names** at the top\n",
    "of your notebook.\n"
   ]
  },
  {
   "cell_type": "markdown",
   "metadata": {},
   "source": [
    "**Collaborators**: *list collaborators here*"
   ]
  },
  {
   "cell_type": "markdown",
   "metadata": {},
   "source": [
    "\n",
    "## This Assignment\n",
    "\n",
    "<img src=\"Data/03-15_SchoolMeal_Figure2_web.png\" style=\"width:500px\">\n",
    "\n",
    "In recent years, the positively correlated and multifaceted relationship between educational attainment and wealth in the United States has been emphasized as one of the main causes of racial income gap and generational poverty. Nonetheless, despite numerous intervention efforts made by the government and the private sector, the extent of the problem has remained pervasive and convoluted to this day.\n",
    "\n",
    "In this project, you will investigate data regarding student eligibility for free lunch and educational attainment for public schools in the state of California. Above is a map depicting shares of students eligible for Free and Reduced-Price Meal (FRPM) in California. The information have been made available by the California Department of Education. The main goal for this assignment is to understand the relationship between wealth and education. We will walk through various steps of exploratory data analysis to do this, and provide comments and insights along the way to give you a sense of how we arrive at each discovery and what next steps it leads to.\n",
    "\n",
    "As we clean and explore these data, you will gain practice with:\n",
    "* Reading simple csv files\n",
    "* Working with data at different levels of granularity\n",
    "* Identifying the type of data collected, missing values, anomalies, etc.\n",
    "* Applying probability sampling techniques\n",
    "* Exploring characteristics and distributions of individual variables\n",
    "\n",
    "## Score Breakdown\n",
    "Question | Points\n",
    "--- | ---\n",
    "1a | 1\n",
    "Total | 1"
   ]
  },
  {
   "cell_type": "code",
   "execution_count": 2,
   "metadata": {},
   "outputs": [],
   "source": [
    "import pandas as pd\n",
    "import numpy as np\n",
    "import matplotlib.pyplot as plt\n",
    "import seaborn as sns\n",
    "%matplotlib inline\n",
    "sns.set()"
   ]
  },
  {
   "cell_type": "markdown",
   "metadata": {},
   "source": [
    "---\n",
    "## 1: Loading Public Schools Data\n",
    "\n",
    "We have data, but we don't have any specific questions about the data yet, so let's focus on understanding the structure of the data. This involves answering questions such as:\n",
    "\n",
    "* Is the data in a standard format or encoding?\n",
    "* Is the data organized in records?\n",
    "* What are the fields in each record?"
   ]
  },
  {
   "cell_type": "markdown",
   "metadata": {},
   "source": [
    "### Question 1a: Reading in the Files\n",
    "\n",
    "Based on the above information, let's attempt to load `pubschls.csv`, `frpm1819.csv`, and `sat18.csv` into pandas data frames with the following names: `sch`, `frpm`, and `sat` respectively."
   ]
  },
  {
   "cell_type": "code",
   "execution_count": 3,
   "metadata": {},
   "outputs": [],
   "source": [
    "sch = pd.read_csv('Data/pubschls.txt', sep=\"\\t\")\n",
    "sch = sch.loc[sch['StatusType']=='Active']\n",
    "sch = sch.replace('No Data', np.NaN)\n",
    "frpm = pd.read_excel('Data/frpm1819.xlsx', 'FRPM School-Level Data ', header=1)\n",
    "sat = pd.read_excel('Data/sat18.xls')"
   ]
  },
  {
   "cell_type": "markdown",
   "metadata": {},
   "source": [
    "Now that you've read in the files, let's try some `pd.DataFrame` methods ([docs](https://pandas.pydata.org/pandas-docs/version/0.21/generated/pandas.DataFrame.html)).\n",
    "Use the `DataFrame.head` method to show the top few lines of the `sch`, `frpm`, and `sat` dataframes. Use `Dataframe.describe` to learn about the numeric columns."
   ]
  },
  {
   "cell_type": "code",
   "execution_count": 4,
   "metadata": {},
   "outputs": [],
   "source": [
    "# print(sch.head())\n",
    "# print(frpm.head())\n",
    "# print(sat.head())"
   ]
  },
  {
   "cell_type": "markdown",
   "metadata": {},
   "source": [
    "The `DataFrame.describe` method can also be handy for computing summaries of various statistics of our dataframes. Try it out with each of our 3 dataframes."
   ]
  },
  {
   "cell_type": "code",
   "execution_count": 5,
   "metadata": {
    "scrolled": true
   },
   "outputs": [],
   "source": [
    "# print(sch.describe())\n",
    "# print(frpm.describe())\n",
    "# print(sat.describe())"
   ]
  },
  {
   "cell_type": "markdown",
   "metadata": {},
   "source": [
    "### Question 1b: Identifying Issues with the Data\n",
    "\n",
    "Use the `head` command on your three files again. This time, describe at least one potential problem with the data you see. Consider issues with missing values and bad data."
   ]
  },
  {
   "cell_type": "code",
   "execution_count": null,
   "metadata": {},
   "outputs": [],
   "source": []
  },
  {
   "cell_type": "markdown",
   "metadata": {},
   "source": [
    "*Answer Example: There is a potential problem with missing phone numbers and addresses that have not been standardized in the business dataframe.*"
   ]
  },
  {
   "cell_type": "markdown",
   "metadata": {},
   "source": [
    "We will explore each file in turn, including determining its granularity and primary keys and exploring many of the variables individually. Let's begin with the businesses file, which has been read into the `bus` dataframe."
   ]
  },
  {
   "cell_type": "markdown",
   "metadata": {},
   "source": [
    "---\n",
    "## 2: Examining the Public Schools Data\n",
    "\n",
    "From its name alone, we expect the `pubschls.csv` file to contain information about the public schools in the state of California. Let's investigate the granularity of this dataset."
   ]
  },
  {
   "cell_type": "markdown",
   "metadata": {},
   "source": [
    "### Question 2a\n",
    "\n",
    "Examining the entries in `sch`, is the `CDSCode` (this 14-digit code is the official, unique identification of a school within California) unique for each record? Your code should compute the answer, i.e. don't just hard code `True` or `False`.\n",
    "\n",
    "Hint: use `value_counts()` or `unique()` to determine if the `CDSCode` series has any duplicates."
   ]
  },
  {
   "cell_type": "code",
   "execution_count": 6,
   "metadata": {},
   "outputs": [
    {
     "data": {
      "text/plain": [
       "True"
      ]
     },
     "execution_count": 6,
     "metadata": {},
     "output_type": "execute_result"
    }
   ],
   "source": [
    "is_school_id_unique = True not in (sch['CDSCode'].value_counts() != 1)\n",
    "is_school_id_unique"
   ]
  },
  {
   "cell_type": "markdown",
   "metadata": {},
   "source": [
    "### Question 2b\n",
    "\n",
    "With this information, you can address the question of granularity. Answer the questions below.\n",
    "\n",
    "1. What does each record represent?  \n",
    "1. What is the primary key?\n",
    "1. What would you find by grouping by the following columns: `CDSCode`, `Zip`, `State`?\n",
    "\n",
    "Please write your answer in the markdown cell below. You may create new cells below your answer to run code, but **please never add cells between a question cell and the answer cell below it.**"
   ]
  },
  {
   "cell_type": "markdown",
   "metadata": {},
   "source": [
    "*Answer Example*\n",
    "\n",
    "1. *Each record represents an instance of registered public school.*\n",
    "2. *CDSCode*\n",
    "3. *With CDSCode, we would find the same table as the original schools table because it appears that CDSCode is unique to each school. With Zip, we would find instances sharing the same postal code appear together under the same group, though it sounds unlikely that we would find such a case. With State, we would find schools located in the same state.*"
   ]
  },
  {
   "cell_type": "markdown",
   "metadata": {},
   "source": [
    "---\n",
    "## 3: Data Cleaning\n",
    "\n",
    "Next, let's  explore some of the variables in the schools table. We begin by examining the SOC Types (the text description of the type of school).\n",
    "\n",
    "### Question 3a\n",
    "\n",
    "Answer the following questions about the `SOC Type` column in the `sch` data frame?  \n",
    "1. Are SOC Types quantitative or qualitative? If qualitative, is it ordinal or nominal? \n",
    "1. What data type is used to represent a SOC Type?"
   ]
  },
  {
   "cell_type": "markdown",
   "metadata": {},
   "source": [
    "*Answer Example:*\n",
    "\n",
    "1. *SOC Types are qualitative and nominal.*\n",
    "2. *String data type.*"
   ]
  },
  {
   "cell_type": "markdown",
   "metadata": {},
   "source": [
    "### Question 3b\n",
    "\n",
    "How many schools are in each school type? \n",
    "\n",
    "In the cell below, create a series where the index is the school and the value is the number of records with that school type in descending order of count. Elementary Schools (Public) should be on the top with 5664 records."
   ]
  },
  {
   "cell_type": "code",
   "execution_count": 7,
   "metadata": {},
   "outputs": [
    {
     "data": {
      "text/plain": [
       "SOCType\n",
       "Elementary Schools (Public)             5664\n",
       "High Schools (Public)                   1314\n",
       "Intermediate/Middle Schools (Public)    1289\n",
       "Continuation High Schools                438\n",
       "K-12 Schools (Public)                    368\n",
       "dtype: int64"
      ]
     },
     "execution_count": 7,
     "metadata": {},
     "output_type": "execute_result"
    }
   ],
   "source": [
    "type_counts = sch.groupby('SOCType').size().sort_values(ascending=False)\n",
    "type_counts.head()"
   ]
  },
  {
   "cell_type": "markdown",
   "metadata": {},
   "source": [
    "Did you take into account that some schools have missing SOC Types?"
   ]
  },
  {
   "cell_type": "code",
   "execution_count": 8,
   "metadata": {},
   "outputs": [
    {
     "name": "stdout",
     "output_type": "stream",
     "text": [
      "zip_counts describes 10655 records.\n",
      "The original data have 11760 records\n"
     ]
    }
   ],
   "source": [
    "print('zip_counts describes', sum(type_counts), 'records.')\n",
    "print('The original data have', len(sch), 'records')"
   ]
  },
  {
   "cell_type": "markdown",
   "metadata": {},
   "source": [
    "Missing data is extremely common in real-world data science projects. There are several ways to include missing school types in the `type_counts` series above. One approach is to use the `fillna` method of the series, which will replace all null (a.k.a. NaN) values with a string of our choosing. In the example below, we picked \"No Data\". When you run the code below, you should see that there are 1105 schools with no school type information."
   ]
  },
  {
   "cell_type": "code",
   "execution_count": 9,
   "metadata": {},
   "outputs": [
    {
     "data": {
      "text/plain": [
       "SOCType\n",
       "Elementary Schools (Public)                  5664\n",
       "High Schools (Public)                        1314\n",
       "Intermediate/Middle Schools (Public)         1289\n",
       "No Data                                      1105\n",
       "Continuation High Schools                     438\n",
       "K-12 Schools (Public)                         368\n",
       "Adult Education Centers                       297\n",
       "Alternative Schools of Choice                 270\n",
       "Elemen Schools In 1 School Dist. (Public)     229\n",
       "District Community Day Schools                183\n",
       "Special Education Schools (Public)            154\n",
       "Preschool                                     152\n",
       "County Community                               77\n",
       "ROC/ROP                                        69\n",
       "Juvenile Court Schools                         62\n",
       "dtype: int64"
      ]
     },
     "execution_count": 9,
     "metadata": {},
     "output_type": "execute_result"
    }
   ],
   "source": [
    "type_counts = sch.fillna(\"No Data\").groupby(\"SOCType\").size().sort_values(ascending=False)\n",
    "type_counts.head(15)"
   ]
  },
  {
   "cell_type": "markdown",
   "metadata": {},
   "source": [
    "An alternate approach is to use the DataFrame `value_counts` method with the optional argument `dropna=False`, which will ensure that null values are counted. In this case, the index will be `NaN` for the row corresponding to a null postal code."
   ]
  },
  {
   "cell_type": "code",
   "execution_count": 10,
   "metadata": {
    "scrolled": true
   },
   "outputs": [
    {
     "data": {
      "text/plain": [
       "Elementary Schools (Public)                  5664\n",
       "High Schools (Public)                        1314\n",
       "Intermediate/Middle Schools (Public)         1289\n",
       "NaN                                          1105\n",
       "Continuation High Schools                     438\n",
       "K-12 Schools (Public)                         368\n",
       "Adult Education Centers                       297\n",
       "Alternative Schools of Choice                 270\n",
       "Elemen Schools In 1 School Dist. (Public)     229\n",
       "District Community Day Schools                183\n",
       "Special Education Schools (Public)            154\n",
       "Preschool                                     152\n",
       "County Community                               77\n",
       "ROC/ROP                                        69\n",
       "Juvenile Court Schools                         62\n",
       "Name: SOCType, dtype: int64"
      ]
     },
     "execution_count": 10,
     "metadata": {},
     "output_type": "execute_result"
    }
   ],
   "source": [
    "sch[\"SOCType\"].value_counts(dropna=False).sort_values(ascending = False).head(15)"
   ]
  },
  {
   "cell_type": "markdown",
   "metadata": {},
   "source": [
    "### Question 3c : A Closer Look at Missing School Types\n",
    "\n",
    "Let's look more closely at records with missing SOC Types. Describe the pattern among records have missing school types. Pay attention to their school names and the dates of last update.\n",
    "\n",
    "*Hint*: The `isnull` method of a series returns a boolean series which is true only for entries in the original series that were missing."
   ]
  },
  {
   "cell_type": "code",
   "execution_count": 11,
   "metadata": {},
   "outputs": [
    {
     "data": {
      "text/html": [
       "<div>\n",
       "<style scoped>\n",
       "    .dataframe tbody tr th:only-of-type {\n",
       "        vertical-align: middle;\n",
       "    }\n",
       "\n",
       "    .dataframe tbody tr th {\n",
       "        vertical-align: top;\n",
       "    }\n",
       "\n",
       "    .dataframe thead th {\n",
       "        text-align: right;\n",
       "    }\n",
       "</style>\n",
       "<table border=\"1\" class=\"dataframe\">\n",
       "  <thead>\n",
       "    <tr style=\"text-align: right;\">\n",
       "      <th></th>\n",
       "      <th>CDSCode</th>\n",
       "      <th>NCESDist</th>\n",
       "      <th>NCESSchool</th>\n",
       "      <th>StatusType</th>\n",
       "      <th>County</th>\n",
       "      <th>District</th>\n",
       "      <th>School</th>\n",
       "      <th>Street</th>\n",
       "      <th>StreetAbr</th>\n",
       "      <th>City</th>\n",
       "      <th>...</th>\n",
       "      <th>AdmFName1</th>\n",
       "      <th>AdmLName1</th>\n",
       "      <th>AdmEmail1</th>\n",
       "      <th>AdmFName2</th>\n",
       "      <th>AdmLName2</th>\n",
       "      <th>AdmEmail2</th>\n",
       "      <th>AdmFName3</th>\n",
       "      <th>AdmLName3</th>\n",
       "      <th>AdmEmail3</th>\n",
       "      <th>LastUpDate</th>\n",
       "    </tr>\n",
       "  </thead>\n",
       "  <tbody>\n",
       "    <tr>\n",
       "      <th>0</th>\n",
       "      <td>1100170000000</td>\n",
       "      <td>0691051</td>\n",
       "      <td>NaN</td>\n",
       "      <td>Active</td>\n",
       "      <td>Alameda</td>\n",
       "      <td>Alameda County Office of Education</td>\n",
       "      <td>NaN</td>\n",
       "      <td>313 West Winton Avenue</td>\n",
       "      <td>313 West Winton Ave.</td>\n",
       "      <td>Hayward</td>\n",
       "      <td>...</td>\n",
       "      <td>L Karen</td>\n",
       "      <td>Monroe</td>\n",
       "      <td>lkmonroe@acoe.org</td>\n",
       "      <td>NaN</td>\n",
       "      <td>NaN</td>\n",
       "      <td>NaN</td>\n",
       "      <td>NaN</td>\n",
       "      <td>NaN</td>\n",
       "      <td>NaN</td>\n",
       "      <td>05/31/2019</td>\n",
       "    </tr>\n",
       "    <tr>\n",
       "      <th>42</th>\n",
       "      <td>1316090000000</td>\n",
       "      <td>0600002</td>\n",
       "      <td>NaN</td>\n",
       "      <td>Active</td>\n",
       "      <td>Alameda</td>\n",
       "      <td>California School for the Blind (State Special...</td>\n",
       "      <td>NaN</td>\n",
       "      <td>500 Walnut Avenue</td>\n",
       "      <td>500 Walnut Ave.</td>\n",
       "      <td>Fremont</td>\n",
       "      <td>...</td>\n",
       "      <td>Gina</td>\n",
       "      <td>Ouellette</td>\n",
       "      <td>gouellette@csb-cde.ca.gov</td>\n",
       "      <td>NaN</td>\n",
       "      <td>NaN</td>\n",
       "      <td>NaN</td>\n",
       "      <td>NaN</td>\n",
       "      <td>NaN</td>\n",
       "      <td>NaN</td>\n",
       "      <td>04/08/2019</td>\n",
       "    </tr>\n",
       "    <tr>\n",
       "      <th>44</th>\n",
       "      <td>1316170000000</td>\n",
       "      <td>0600003</td>\n",
       "      <td>NaN</td>\n",
       "      <td>Active</td>\n",
       "      <td>Alameda</td>\n",
       "      <td>California School for the Deaf-Fremont (State ...</td>\n",
       "      <td>NaN</td>\n",
       "      <td>39350 Gallaudet Drive</td>\n",
       "      <td>39350 Gallaudet Dr.</td>\n",
       "      <td>Fremont</td>\n",
       "      <td>...</td>\n",
       "      <td>Clark</td>\n",
       "      <td>Brooke</td>\n",
       "      <td>cbrooke@csdf-cde.ca.gov</td>\n",
       "      <td>NaN</td>\n",
       "      <td>NaN</td>\n",
       "      <td>NaN</td>\n",
       "      <td>NaN</td>\n",
       "      <td>NaN</td>\n",
       "      <td>NaN</td>\n",
       "      <td>07/27/2017</td>\n",
       "    </tr>\n",
       "    <tr>\n",
       "      <th>47</th>\n",
       "      <td>1611190000000</td>\n",
       "      <td>0601770</td>\n",
       "      <td>NaN</td>\n",
       "      <td>Active</td>\n",
       "      <td>Alameda</td>\n",
       "      <td>Alameda Unified</td>\n",
       "      <td>NaN</td>\n",
       "      <td>2060 Challenger Dr</td>\n",
       "      <td>2060 Challenger Dr</td>\n",
       "      <td>Alameda</td>\n",
       "      <td>...</td>\n",
       "      <td>Sean</td>\n",
       "      <td>McPhetridge</td>\n",
       "      <td>smcphetridge@alamedaunified.org</td>\n",
       "      <td>NaN</td>\n",
       "      <td>NaN</td>\n",
       "      <td>NaN</td>\n",
       "      <td>NaN</td>\n",
       "      <td>NaN</td>\n",
       "      <td>NaN</td>\n",
       "      <td>09/17/2018</td>\n",
       "    </tr>\n",
       "    <tr>\n",
       "      <th>84</th>\n",
       "      <td>1611270000000</td>\n",
       "      <td>0601860</td>\n",
       "      <td>NaN</td>\n",
       "      <td>Active</td>\n",
       "      <td>Alameda</td>\n",
       "      <td>Albany City Unified</td>\n",
       "      <td>NaN</td>\n",
       "      <td>819 Bancroft Way</td>\n",
       "      <td>819 Bancroft Way</td>\n",
       "      <td>Berkeley</td>\n",
       "      <td>...</td>\n",
       "      <td>Valerie</td>\n",
       "      <td>Williams</td>\n",
       "      <td>vwilliams@ausdk12.org</td>\n",
       "      <td>NaN</td>\n",
       "      <td>NaN</td>\n",
       "      <td>NaN</td>\n",
       "      <td>NaN</td>\n",
       "      <td>NaN</td>\n",
       "      <td>NaN</td>\n",
       "      <td>08/29/2018</td>\n",
       "    </tr>\n",
       "  </tbody>\n",
       "</table>\n",
       "<p>5 rows × 51 columns</p>\n",
       "</div>"
      ],
      "text/plain": [
       "          CDSCode NCESDist NCESSchool StatusType   County  \\\n",
       "0   1100170000000  0691051        NaN     Active  Alameda   \n",
       "42  1316090000000  0600002        NaN     Active  Alameda   \n",
       "44  1316170000000  0600003        NaN     Active  Alameda   \n",
       "47  1611190000000  0601770        NaN     Active  Alameda   \n",
       "84  1611270000000  0601860        NaN     Active  Alameda   \n",
       "\n",
       "                                             District School  \\\n",
       "0                  Alameda County Office of Education    NaN   \n",
       "42  California School for the Blind (State Special...    NaN   \n",
       "44  California School for the Deaf-Fremont (State ...    NaN   \n",
       "47                                    Alameda Unified    NaN   \n",
       "84                                Albany City Unified    NaN   \n",
       "\n",
       "                    Street             StreetAbr      City  ... AdmFName1  \\\n",
       "0   313 West Winton Avenue  313 West Winton Ave.   Hayward  ...   L Karen   \n",
       "42       500 Walnut Avenue       500 Walnut Ave.   Fremont  ...      Gina   \n",
       "44   39350 Gallaudet Drive   39350 Gallaudet Dr.   Fremont  ...     Clark   \n",
       "47      2060 Challenger Dr    2060 Challenger Dr   Alameda  ...      Sean   \n",
       "84        819 Bancroft Way      819 Bancroft Way  Berkeley  ...   Valerie   \n",
       "\n",
       "      AdmLName1                        AdmEmail1 AdmFName2 AdmLName2  \\\n",
       "0        Monroe                lkmonroe@acoe.org       NaN       NaN   \n",
       "42    Ouellette        gouellette@csb-cde.ca.gov       NaN       NaN   \n",
       "44       Brooke          cbrooke@csdf-cde.ca.gov       NaN       NaN   \n",
       "47  McPhetridge  smcphetridge@alamedaunified.org       NaN       NaN   \n",
       "84     Williams            vwilliams@ausdk12.org       NaN       NaN   \n",
       "\n",
       "   AdmEmail2 AdmFName3 AdmLName3 AdmEmail3  LastUpDate  \n",
       "0        NaN       NaN       NaN       NaN  05/31/2019  \n",
       "42       NaN       NaN       NaN       NaN  04/08/2019  \n",
       "44       NaN       NaN       NaN       NaN  07/27/2017  \n",
       "47       NaN       NaN       NaN       NaN  09/17/2018  \n",
       "84       NaN       NaN       NaN       NaN  08/29/2018  \n",
       "\n",
       "[5 rows x 51 columns]"
      ]
     },
     "execution_count": 11,
     "metadata": {},
     "output_type": "execute_result"
    }
   ],
   "source": [
    "sch.loc[sch['SOCType'].isnull()].head()"
   ]
  },
  {
   "cell_type": "markdown",
   "metadata": {},
   "source": [
    "Missing school types aren't our only problem. There are also some records where the postal code is wrong, e.g., there are some extended postal codes that are 9 digits long, rather than the typical 5 digits.\n",
    "\n",
    "Let's clean up the extended zip codes by dropping the digits beyond the first 5. Rather than deleting or replacing the old values in the `Zip` columnm, we'll instead create a new column called `Zip_5`.\n",
    "\n",
    "The reason we're making a new column is that it's typically good practice to keep the original values when we are manipulating data. This makes it easier to recover from mistakes, and also makes it more clear that we are not working with the original raw data."
   ]
  },
  {
   "cell_type": "code",
   "execution_count": 12,
   "metadata": {},
   "outputs": [],
   "source": [
    "sch['Zip_5'] = sch['Zip'].str[:5]"
   ]
  },
  {
   "cell_type": "markdown",
   "metadata": {},
   "source": [
    "---\n",
    "## 4: Sampling from the Schools Data\n",
    "We can now sample from the business data using the cleaned ZIP code data. Make sure to use `Zip_5` instead of `Zip` for all parts of this question."
   ]
  },
  {
   "cell_type": "markdown",
   "metadata": {},
   "source": [
    "### Question 4a\n",
    "\n",
    "First, complete the following function `sample`, which takes as arguments a series, `series`, and a sample size, `n`, and returns a simple random sample (SRS) of size `n` from the series. Recall that in SRS, sampling is performed **without** replacement. The result should be a **list** of the `n` values that are in the sample.\n",
    "\n",
    "*Hint*: Consider using [`np.random.choice`](https://docs.scipy.org/doc/numpy-1.14.1/reference/generated/numpy.random.choice.html)."
   ]
  },
  {
   "cell_type": "code",
   "execution_count": 13,
   "metadata": {},
   "outputs": [],
   "source": [
    "def sample(series, n):\n",
    "    # Do not change the following line of code in any way!\n",
    "    # In case you delete it, it should be \"np.random.seed(40)\"\n",
    "    np.random.seed(40)\n",
    "    \n",
    "    return series.sample(n).tolist()"
   ]
  },
  {
   "cell_type": "markdown",
   "metadata": {},
   "source": [
    "### Question 4b\n",
    "Suppose we take a SRS of 5 schools from the public schools data. What is the probability that the school named *Isador Cohen Elementary* is in the sample?"
   ]
  },
  {
   "cell_type": "code",
   "execution_count": 14,
   "metadata": {},
   "outputs": [],
   "source": [
    "q4b_answer = ..."
   ]
  },
  {
   "cell_type": "markdown",
   "metadata": {},
   "source": [
    "### Question 4c\n",
    "Collect a stratified random sample of school names, where each stratum consists of a postal code. Collect one school name per stratum. Assign `sch_strat_sample` to a series of business names selected by this sampling procedure.\n",
    "\n",
    "Hint: You can use the `sample` function you defined earlier."
   ]
  },
  {
   "cell_type": "code",
   "execution_count": 15,
   "metadata": {},
   "outputs": [],
   "source": [
    "sch_strat_sample = ..."
   ]
  },
  {
   "cell_type": "markdown",
   "metadata": {},
   "source": [
    "### Question 4d\n",
    "\n",
    "What is the probability that *Isador Cohen Elementary* is selected as part of this stratified random sampling procedure?"
   ]
  },
  {
   "cell_type": "code",
   "execution_count": 16,
   "metadata": {},
   "outputs": [],
   "source": [
    "q4d_answer = ..."
   ]
  },
  {
   "cell_type": "markdown",
   "metadata": {},
   "source": [
    "### Question 4e\n",
    "Collect a cluster sample of school codes, where each cluster is a postal code, with 5 clusters in the sample. Assign `sch_cluster_sample` to a series of school codes selected by this sampling procedure.\n",
    "\n",
    "Hint: Consider using [`isin`](https://pandas.pydata.org/pandas-docs/stable/reference/api/pandas.Series.isin.html)."
   ]
  },
  {
   "cell_type": "code",
   "execution_count": 17,
   "metadata": {},
   "outputs": [],
   "source": [
    "sch_cluster_sample = ..."
   ]
  },
  {
   "cell_type": "markdown",
   "metadata": {},
   "source": [
    "### Question 4f\n",
    "What is the probability that *Isador Cohen Elementary* is selected as part of this cluster sampling procedure?"
   ]
  },
  {
   "cell_type": "code",
   "execution_count": 18,
   "metadata": {},
   "outputs": [],
   "source": [
    "q4f_answer = ..."
   ]
  },
  {
   "cell_type": "markdown",
   "metadata": {},
   "source": [
    "### Question 4g\n",
    "In the context of this question, what are the benefit(s) of performing stratified sampling over cluster sampling? Why would you consider performing cluster sampling instead of stratified sampling? Compare the strengths and weaknesses of both sampling techniques."
   ]
  },
  {
   "cell_type": "markdown",
   "metadata": {},
   "source": [
    "*Answer Example: Stratified sampling would offer a more diverse set of locations that better represents the overall business environment of restaurants in San Francisco, while cluster sampling would only give us a sample of certain regions that may or may not represent the overall body. However, stratified sampling would risk under-representing ZIP codes that have more restaurants than others, because only one restaurant is selected from each ZIP code. Cluster sampling, on the other hand, would faithfully represent the size of each selected ZIP code.*"
   ]
  },
  {
   "cell_type": "markdown",
   "metadata": {},
   "source": [
    "### Question 4h\n",
    "Collect a multi-stage sample. First, take a SRS of 5 postal codes. Then, collect an SRS of one business name per selected postal code. Assign `bus_multi_sample` to a series of names selected by this procedure."
   ]
  },
  {
   "cell_type": "code",
   "execution_count": 19,
   "metadata": {},
   "outputs": [],
   "source": [
    "np.random.seed(40) # Do not touch this!\n",
    "\n",
    "bus_multi_sample = ..."
   ]
  },
  {
   "cell_type": "markdown",
   "metadata": {},
   "source": [
    "### Question 4i\n",
    "What is the probability that *Isador Cohen Elementary* is chosen in the multi-stage sample?"
   ]
  },
  {
   "cell_type": "code",
   "execution_count": 20,
   "metadata": {},
   "outputs": [],
   "source": [
    "q4i_answer = ..."
   ]
  },
  {
   "cell_type": "markdown",
   "metadata": {},
   "source": [
    "---\n",
    "## 5: Website Address\n",
    "\n",
    "Let's also consider school website address information and get a sense of how many are missing.\n",
    "\n",
    "### Question 5a\n",
    "\n",
    "How many schools are missing website addresses?\n",
    "\n",
    "*Hint*: Use `isnull`."
   ]
  },
  {
   "cell_type": "code",
   "execution_count": 21,
   "metadata": {
    "scrolled": true
   },
   "outputs": [
    {
     "data": {
      "text/plain": [
       "4361"
      ]
     },
     "execution_count": 21,
     "metadata": {},
     "output_type": "execute_result"
    }
   ],
   "source": [
    "num_missing_web = sch['WebSite'].isnull().sum()\n",
    "num_missing_web"
   ]
  },
  {
   "cell_type": "markdown",
   "metadata": {},
   "source": [
    "## As a somewhat contrived exercise in data manipulation, let's try to identify which ZIP codes are missing the most website addresses.\n",
    "\n",
    "In the cell below, create a series where the index is `Zip_5`, and the value is the number of businesses with missing website addresses in that ZIP code. Your series should be in descending order.\n",
    "\n",
    "*Hint: Create a custom function to compute the number of null entries in a series, and use this function with the `agg` method.*"
   ]
  },
  {
   "cell_type": "code",
   "execution_count": 22,
   "metadata": {
    "scrolled": true
   },
   "outputs": [
    {
     "data": {
      "text/plain": [
       "Zip_5\n",
       "93257    26\n",
       "91744    25\n",
       "91706    22\n",
       "93611    20\n",
       "92691    18\n",
       "Name: WebSite, dtype: int64"
      ]
     },
     "execution_count": 22,
     "metadata": {},
     "output_type": "execute_result"
    }
   ],
   "source": [
    "def null_web_count(series):\n",
    "    return series['WebSite'].isnull().sum()\n",
    "\n",
    "missing_per_zip = sch.set_index('Zip_5').groupby('Zip_5').\\\n",
    "agg(lambda x: null_web_count(x))['WebSite'].sort_values(ascending=False)\n",
    "missing_per_zip.head()"
   ]
  },
  {
   "cell_type": "markdown",
   "metadata": {},
   "source": [
    "### Question 5b\n",
    "\n",
    "In question 5a, we counted the number of null values per ZIP code. Let's now count the proportion of null values.\n",
    "\n",
    "Create a new dataframe of counts of the null and proportion of null values, storing the result in `fraction_missing_df`. It should have an index called `Zip_5` and should also have 3 columns:\n",
    "\n",
    "1. `count null`: The number of missing values for the zip code.\n",
    "2. `count non null`: The number of present values for the zip code.\n",
    "3. `fraction null`: The fraction of values that are null for the zip code.\n",
    "\n",
    "Your data frame should be sorted by the fraction null in descending order.\n",
    "\n",
    "Recommended approach: Build three series with the appropriate names and data and then combine them into a dataframe. This will require some new syntax you may not have seen. You already have code from question 4a that computes the `null count` series.\n",
    "\n",
    "To pursue this recommended approach, you might find these two functions useful:\n",
    "\n",
    "* `rename`: Renames the values of a series.\n",
    "* `pd.concat`: Can be used to combine a list of Series into a dataframe. Example: `pd.concat([s1, s2, s3], axis=1)` will combine series 1, 2, and 3 into a dataframe.\n",
    "\n",
    "*Hint*: You can use the divison operator to compute the ratio of two series.\n",
    "\n",
    "*Hint*: The - operator can invert a boolean array. Or alternately, the `notnull` method can be used to create a boolean array from a series.\n",
    "\n",
    "*Note*: An alternate approach is to create three aggregation functions and pass them in a list to the `agg` function."
   ]
  },
  {
   "cell_type": "code",
   "execution_count": 23,
   "metadata": {},
   "outputs": [
    {
     "data": {
      "text/html": [
       "<div>\n",
       "<style scoped>\n",
       "    .dataframe tbody tr th:only-of-type {\n",
       "        vertical-align: middle;\n",
       "    }\n",
       "\n",
       "    .dataframe tbody tr th {\n",
       "        vertical-align: top;\n",
       "    }\n",
       "\n",
       "    .dataframe thead th {\n",
       "        text-align: right;\n",
       "    }\n",
       "</style>\n",
       "<table border=\"1\" class=\"dataframe\">\n",
       "  <thead>\n",
       "    <tr style=\"text-align: right;\">\n",
       "      <th></th>\n",
       "      <th>count null</th>\n",
       "      <th>count non null</th>\n",
       "      <th>fraction null</th>\n",
       "    </tr>\n",
       "    <tr>\n",
       "      <th>Zip_5</th>\n",
       "      <th></th>\n",
       "      <th></th>\n",
       "      <th></th>\n",
       "    </tr>\n",
       "  </thead>\n",
       "  <tbody>\n",
       "    <tr>\n",
       "      <th>92314</th>\n",
       "      <td>3</td>\n",
       "      <td>0</td>\n",
       "      <td>1.0</td>\n",
       "    </tr>\n",
       "    <tr>\n",
       "      <th>91007</th>\n",
       "      <td>6</td>\n",
       "      <td>0</td>\n",
       "      <td>1.0</td>\n",
       "    </tr>\n",
       "    <tr>\n",
       "      <th>92285</th>\n",
       "      <td>1</td>\n",
       "      <td>0</td>\n",
       "      <td>1.0</td>\n",
       "    </tr>\n",
       "    <tr>\n",
       "      <th>94703</th>\n",
       "      <td>3</td>\n",
       "      <td>0</td>\n",
       "      <td>1.0</td>\n",
       "    </tr>\n",
       "    <tr>\n",
       "      <th>92284</th>\n",
       "      <td>5</td>\n",
       "      <td>0</td>\n",
       "      <td>1.0</td>\n",
       "    </tr>\n",
       "  </tbody>\n",
       "</table>\n",
       "</div>"
      ],
      "text/plain": [
       "       count null  count non null  fraction null\n",
       "Zip_5                                           \n",
       "92314           3               0            1.0\n",
       "91007           6               0            1.0\n",
       "92285           1               0            1.0\n",
       "94703           3               0            1.0\n",
       "92284           5               0            1.0"
      ]
     },
     "execution_count": 23,
     "metadata": {},
     "output_type": "execute_result"
    }
   ],
   "source": [
    "count_null = missing_per_zip\n",
    "\n",
    "def not_null_web_count(series):\n",
    "    return series['WebSite'].notnull().sum()\n",
    "\n",
    "count_non_null = sch.set_index('Zip_5').groupby('Zip_5').\\\n",
    "agg(lambda x: not_null_web_count(x))['WebSite'].sort_values(ascending=False)\n",
    "fraction_null = count_null / (count_null + count_non_null)\n",
    "\n",
    "fraction_missing_df = pd.concat([count_null, count_non_null, fraction_null], axis=1, sort=True)\n",
    "fraction_missing_df.columns = ['count null', 'count non null', 'fraction null']\n",
    "fraction_missing_df.index.name = 'Zip_5'\n",
    "fraction_missing_df = fraction_missing_df.sort_values('fraction null', ascending=False)\n",
    "fraction_missing_df.head()"
   ]
  },
  {
   "cell_type": "markdown",
   "metadata": {},
   "source": [
    "---\n",
    "## 6: Investigate the Demographics and ACT Scores Data\n",
    "\n",
    "https://www.cde.ca.gov/ds/sd/sd/fsenr.asp"
   ]
  },
  {
   "cell_type": "code",
   "execution_count": 70,
   "metadata": {},
   "outputs": [],
   "source": [
    "dem = pd.read_csv('Data/filesenr.txt', sep='\\t')\n",
    "total_students = dem.groupby('CDS_CODE').sum()['ENR_TOTAL']\n",
    "total_students = pd.DataFrame(total_students)\n",
    "total_students.columns = ['TOTAL_STUDENTS']\n",
    "dem = dem.join(total_students, on='CDS_CODE')\n",
    "dem['PERC'] = dem['ENR_TOTAL'] / dem['TOTAL_STUDENTS']\n",
    "hisp = dem.loc[dem['ETHNIC'] == 5].groupby('CDS_CODE').sum()['PERC']"
   ]
  },
  {
   "cell_type": "code",
   "execution_count": 26,
   "metadata": {},
   "outputs": [],
   "source": [
    "act = pd.read_excel('Data/act18.xls')"
   ]
  },
  {
   "cell_type": "code",
   "execution_count": 31,
   "metadata": {},
   "outputs": [
    {
     "data": {
      "text/plain": [
       "Index(['cds', 'Ccode', 'CDcode', 'Scode', 'rtype', 'sname', 'dname', 'cname',\n",
       "       'enroll12', 'NumTstTakr', 'AvgScrEng', 'AvgScrRead', 'AvgScrMath',\n",
       "       'AvgScrSci', 'NumGE21', 'PctGE21', 'year'],\n",
       "      dtype='object')"
      ]
     },
     "execution_count": 31,
     "metadata": {},
     "output_type": "execute_result"
    }
   ],
   "source": [
    "act.columns"
   ]
  },
  {
   "cell_type": "code",
   "execution_count": 65,
   "metadata": {},
   "outputs": [
    {
     "data": {
      "text/plain": [
       "<matplotlib.axes._subplots.AxesSubplot at 0x22589321d68>"
      ]
     },
     "execution_count": 65,
     "metadata": {},
     "output_type": "execute_result"
    },
    {
     "data": {
      "image/png": "[encoded data removed]",
      "text/plain": [
       "<Figure size 432x288 with 1 Axes>"
      ]
     },
     "metadata": {},
     "output_type": "display_data"
    }
   ],
   "source": [
    "merge = pd.merge(act, hisp, left_on='cds', right_on='CDS_CODE')[['PERC', 'AvgScrMath']].dropna().sample(1000)\n",
    "sns.boxplot(merge['AvgScrMath'], merge['PERC'], order=['15','16','17','18','19',\\\n",
    "                                                       '20','21','22','23','24','25',\\\n",
    "                                                       '26','27','28','29','30','31','32'])"
   ]
  },
  {
   "cell_type": "code",
   "execution_count": 66,
   "metadata": {},
   "outputs": [
    {
     "data": {
      "text/plain": [
       "<matplotlib.axes._subplots.AxesSubplot at 0x225894cef28>"
      ]
     },
     "execution_count": 66,
     "metadata": {},
     "output_type": "execute_result"
    },
    {
     "data": {
      "image/png": "[encoded data removed]",
      "text/plain": [
       "<Figure size 432x288 with 1 Axes>"
      ]
     },
     "metadata": {},
     "output_type": "display_data"
    }
   ],
   "source": [
    "merge = pd.merge(act, hisp, left_on='cds', right_on='CDS_CODE')[['PERC', 'AvgScrRead']].dropna().sample(1000)\n",
    "sns.boxplot(merge['AvgScrRead'], merge['PERC'], order=['15','16','17','18','19',\\\n",
    "                                                       '20','21','22','23','24','25',\\\n",
    "                                                       '26','27','28','29','30','31','32'])"
   ]
  },
  {
   "cell_type": "code",
   "execution_count": 67,
   "metadata": {},
   "outputs": [
    {
     "data": {
      "text/plain": [
       "<matplotlib.axes._subplots.AxesSubplot at 0x2258966eda0>"
      ]
     },
     "execution_count": 67,
     "metadata": {},
     "output_type": "execute_result"
    },
    {
     "data": {
      "image/png": "[encoded data removed]",
      "text/plain": [
       "<Figure size 432x288 with 1 Axes>"
      ]
     },
     "metadata": {},
     "output_type": "display_data"
    }
   ],
   "source": [
    "merge = pd.merge(act, hisp, left_on='cds', right_on='CDS_CODE')[['PERC', 'AvgScrSci']].dropna().sample(1000)\n",
    "sns.boxplot(merge['AvgScrSci'], merge['PERC'], order=['15','16','17','18','19',\\\n",
    "                                                       '20','21','22','23','24','25',\\\n",
    "                                                       '26','27','28','29','30','31','32'])"
   ]
  },
  {
   "cell_type": "code",
   "execution_count": 68,
   "metadata": {},
   "outputs": [
    {
     "data": {
      "text/plain": [
       "<matplotlib.axes._subplots.AxesSubplot at 0x22589828320>"
      ]
     },
     "execution_count": 68,
     "metadata": {},
     "output_type": "execute_result"
    },
    {
     "data": {
      "image/png": "[encoded data removed]",
      "text/plain": [
       "<Figure size 432x288 with 1 Axes>"
      ]
     },
     "metadata": {},
     "output_type": "display_data"
    }
   ],
   "source": [
    "merge = pd.merge(act, hisp, left_on='cds', right_on='CDS_CODE')[['PERC', 'AvgScrEng']].dropna().sample(1000)\n",
    "sns.boxplot(merge['AvgScrEng'], merge['PERC'], order=['15','16','17','18','19',\\\n",
    "                                                       '20','21','22','23','24','25',\\\n",
    "                                                       '26','27','28','29','30','31','32'])"
   ]
  }
 ],
 "metadata": {
  "kernelspec": {
   "display_name": "Python 3",
   "language": "python",
   "name": "python3"
  },
  "language_info": {
   "codemirror_mode": {
    "name": "ipython",
    "version": 3
   },
   "file_extension": ".py",
   "mimetype": "text/x-python",
   "name": "python",
   "nbconvert_exporter": "python",
   "pygments_lexer": "ipython3",
   "version": "3.6.5"
  }
 },
 "nbformat": 4,
 "nbformat_minor": 2
}
