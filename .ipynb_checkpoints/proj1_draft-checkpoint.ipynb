{
 "cells": [
  {
   "cell_type": "markdown",
   "metadata": {},
   "source": [
    "# Project 1: Demographics and Education\n",
    "## Cleaning and Exploring Data with Pandas\n",
    "## Due Date: \n",
    "## Collaboration Policy\n",
    "\n",
    "Data science is a collaborative activity. While you may talk with others about\n",
    "the project, we ask that you **write your solutions individually**. If you do\n",
    "discuss the assignments with others please **include their names** at the top\n",
    "of your notebook.\n"
   ]
  },
  {
   "cell_type": "markdown",
   "metadata": {},
   "source": [
    "**Collaborators**: *list collaborators here*"
   ]
  },
  {
   "cell_type": "markdown",
   "metadata": {},
   "source": [
    "\n",
    "## This Assignment\n",
    "\n",
    "<img src=\"Data/dscn3145-e1516139447507.jpg\" style=\"width:600px\">\n",
    "\n",
    "In recent years, the positively correlated and multifaceted relationship between educational attainment and a given person's race in the United States has been emphasized as one of the main causes of racial income gap and generational poverty. Nonetheless, despite numerous intervention efforts made by the government and the private sector, the extent of the problem has remained pervasive and convoluted to this day.\n",
    "\n",
    "In this project, you will investigate data regarding student demographics and educational attainment for public schools in the state of California. The information have been made available by the California Department of Education. The main goal for this assignment is to understand the relationship between demographics and education. We will walk through various steps of exploratory data analysis to do this, and provide comments and insights along the way to give you a sense of how we arrive at each discovery and what next steps it leads to.\n",
    "\n",
    "As we clean and explore these data, you will gain practice with:\n",
    "* Reading simple csv files\n",
    "* Working with data at different levels of granularity\n",
    "* Identifying the type of data collected, missing values, anomalies, etc.\n",
    "* Applying probability sampling techniques\n",
    "* Exploring characteristics and distributions of individual variables\n",
    "\n",
    "## Score Breakdown\n",
    "Question | Points\n",
    "--- | ---\n",
    "Total | 0"
   ]
  },
  {
   "cell_type": "code",
   "execution_count": 3,
   "metadata": {},
   "outputs": [],
   "source": [
    "import pandas as pd\n",
    "import numpy as np\n",
    "import matplotlib.pyplot as plt\n",
    "import seaborn as sns\n",
    "%matplotlib inline\n",
    "sns.set()"
   ]
  },
  {
   "cell_type": "markdown",
   "metadata": {},
   "source": [
    "---\n",
    "## 1: Loading Public Schools Data\n",
    "\n",
    "We have data, but we don't have any specific questions about the data yet, so let's focus on understanding the structure of the data. This involves answering questions such as:\n",
    "\n",
    "* Is the data in a standard format or encoding?\n",
    "* Is the data organized in records?\n",
    "* What are the fields in each record?"
   ]
  },
  {
   "cell_type": "markdown",
   "metadata": {},
   "source": [
    "### Question 1a: Reading in the Files\n",
    "\n",
    "Based on the above information, let's attempt to load `pubschls.txt` and `filesenr.txt` into pandas data frames with the following names: `sch` and `dem`, respectively."
   ]
  },
  {
   "cell_type": "code",
   "execution_count": 4,
   "metadata": {},
   "outputs": [],
   "source": [
    "sch = pd.read_csv('Data/pubschls.txt', sep=\"\\t\")\n",
    "sch = sch.loc[sch['StatusType']=='Active']\n",
    "sch = sch.replace('No Data', np.NaN)\n",
    "sch = sch[['CDSCode','County','District','School','Street','City',\\\n",
    "           'Zip','State','Phone','WebSite','SOC','SOCType']]\n",
    "\n",
    "act = pd.read_excel('Data/act18.xls')\n",
    "act = act[['cds','NumTstTakr','AvgScrEng','AvgScrRead','AvgScrMath','AvgScrSci']]\n",
    "\n",
    "sch = pd.merge(sch, act, left_on='CDSCode', right_on='cds', how='left')\n",
    "sch = sch.replace('*', np.NaN)\n",
    "\n",
    "dem = pd.read_csv('Data/filesenr.txt', sep='\\t')\n",
    "dem = dem[['CDS_CODE','ETHNIC','GENDER','ENR_TOTAL']]"
   ]
  },
  {
   "cell_type": "markdown",
   "metadata": {},
   "source": [
    "Now that you've read in the files, let's try some `pd.DataFrame` methods ([docs](https://pandas.pydata.org/pandas-docs/version/0.21/generated/pandas.DataFrame.html)).\n",
    "Use the `DataFrame.head` method to show the top few lines of the `sch` and `dem` dataframes. Use `Dataframe.describe` to learn about the numeric columns."
   ]
  },
  {
   "cell_type": "code",
   "execution_count": 4,
   "metadata": {},
   "outputs": [
    {
     "name": "stdout",
     "output_type": "stream",
     "text": [
      "         CDSCode   County                            District  \\\n",
      "0  1100170000000  Alameda  Alameda County Office of Education   \n",
      "1  1100170112607  Alameda  Alameda County Office of Education   \n",
      "2  1100170123968  Alameda  Alameda County Office of Education   \n",
      "3  1100170124172  Alameda  Alameda County Office of Education   \n",
      "4  1100170125567  Alameda  Alameda County Office of Education   \n",
      "\n",
      "                                    School                        Street  \\\n",
      "0                                      NaN        313 West Winton Avenue   \n",
      "1   Envision Academy for Arts & Technology           1515 Webster Street   \n",
      "2  Community School for Creative Education  2111 International Boulevard   \n",
      "3                          Yu Ming Charter          1086 Alcatraz Avenue   \n",
      "4                 Urban Montessori Charter             5328 Brann Street   \n",
      "\n",
      "      City         Zip State           Phone  \\\n",
      "0  Hayward  94544-1136    CA  (510) 887-0152   \n",
      "1  Oakland  94612-3355    CA  (510) 596-8901   \n",
      "2  Oakland  94606-4903    CA  (510) 686-4131   \n",
      "3  Oakland  94608-1265    CA  (510) 452-2063   \n",
      "4  Oakland  94619-3312    CA  (510) 842-1181   \n",
      "\n",
      "                                       WebSite  SOC  \\\n",
      "0                                 www.acoe.org  NaN   \n",
      "1                     www.envisionacademy.org/   66   \n",
      "2  www.communityschoolforcreativeeducation.org   60   \n",
      "3                         www.yumingschool.org   60   \n",
      "4                      www.urbanmontessori.org   60   \n",
      "\n",
      "                       SOCType           cds  NumTstTakr AvgScrEng AvgScrRead  \\\n",
      "0                          NaN  1.100170e+12        16.0        20         19   \n",
      "1        High Schools (Public)  1.100170e+12        16.0        20         19   \n",
      "2  Elementary Schools (Public)           NaN         NaN       NaN        NaN   \n",
      "3  Elementary Schools (Public)           NaN         NaN       NaN        NaN   \n",
      "4  Elementary Schools (Public)           NaN         NaN       NaN        NaN   \n",
      "\n",
      "  AvgScrMath AvgScrSci  \n",
      "0         20        20  \n",
      "1         20        20  \n",
      "2        NaN       NaN  \n",
      "3        NaN       NaN  \n",
      "4        NaN       NaN  \n",
      "        CDS_CODE  ETHNIC GENDER  ENR_TOTAL\n",
      "0  6615986003495       5      F        163\n",
      "1  6615986003495       1      F          3\n",
      "2  6615986003495       9      M          2\n",
      "3  6615986003495       7      M         45\n",
      "4  6615986003495       5      M        179\n"
     ]
    }
   ],
   "source": [
    "print(sch.head())\n",
    "print(dem.head())"
   ]
  },
  {
   "cell_type": "markdown",
   "metadata": {},
   "source": [
    "The `DataFrame.describe` method can also be handy for computing summaries of various statistics of our dataframes. Try it out with each of our 3 dataframes."
   ]
  },
  {
   "cell_type": "code",
   "execution_count": 5,
   "metadata": {
    "scrolled": true
   },
   "outputs": [
    {
     "name": "stdout",
     "output_type": "stream",
     "text": [
      "            CDSCode           cds    NumTstTakr\n",
      "count  1.176000e+04  2.114000e+03   2114.000000\n",
      "mean   2.942944e+13  2.919304e+13     94.595080\n",
      "std    1.428559e+13  1.436404e+13    301.218424\n",
      "min    1.100170e+12  1.100170e+12      0.000000\n",
      "25%    1.964733e+13  1.964725e+13      6.000000\n",
      "50%    3.066670e+13  3.066621e+13     40.000000\n",
      "75%    3.868479e+13  3.868478e+13    102.750000\n",
      "max    5.872770e+13  5.872770e+13  11607.000000\n",
      "                cds     NumTstTakr\n",
      "count  2.208000e+03    2208.000000\n",
      "mean   2.915714e+13     181.385417\n",
      "std    1.444040e+13    2256.131657\n",
      "min    0.000000e+00       0.000000\n",
      "25%    1.964725e+13       6.000000\n",
      "50%    3.066597e+13      40.000000\n",
      "75%    3.868478e+13     107.000000\n",
      "max    5.872770e+13  100197.000000\n"
     ]
    }
   ],
   "source": [
    "print(sch.describe())\n",
    "print(act.describe())"
   ]
  },
  {
   "cell_type": "markdown",
   "metadata": {},
   "source": [
    "Now, we perform some sanity checks for you to verify that you loaded the data with the right structure. Run the following cells to load some basic utilities (you do not need to change these at all)\n",
    "\n",
    "First, we check the basic structure of the data frames you created:"
   ]
  },
  {
   "cell_type": "code",
   "execution_count": 10,
   "metadata": {},
   "outputs": [],
   "source": [
    "assert all(sch.columns == ['CDSCode', 'County', 'District', 'School', 'Street', 'City', 'Zip',\n",
    "       'State', 'Phone', 'WebSite', 'SOC', 'SOCType', 'cds', 'NumTstTakr',\n",
    "       'AvgScrEng', 'AvgScrRead', 'AvgScrMath', 'AvgScrSci'])\n",
    "assert 11760 <= len(sch) <= 11760\n",
    "\n",
    "assert all(dem.columns == ['CDS_CODE', 'ETHNIC', 'GENDER', 'ENR_TOTAL'])\n",
    "assert 130220 <= len(dem) <= 130220"
   ]
  },
  {
   "cell_type": "markdown",
   "metadata": {},
   "source": [
    "Next we'll check that the statistics match what we expect. The following are hard-coded statistical summaries of the correct data."
   ]
  },
  {
   "cell_type": "code",
   "execution_count": 15,
   "metadata": {},
   "outputs": [
    {
     "name": "stdout",
     "output_type": "stream",
     "text": [
      "What we expect from your Businesses dataframe:\n"
     ]
    },
    {
     "data": {
      "text/html": [
       "<div>\n",
       "<style scoped>\n",
       "    .dataframe tbody tr th:only-of-type {\n",
       "        vertical-align: middle;\n",
       "    }\n",
       "\n",
       "    .dataframe tbody tr th {\n",
       "        vertical-align: top;\n",
       "    }\n",
       "\n",
       "    .dataframe thead th {\n",
       "        text-align: right;\n",
       "    }\n",
       "</style>\n",
       "<table border=\"1\" class=\"dataframe\">\n",
       "  <thead>\n",
       "    <tr style=\"text-align: right;\">\n",
       "      <th></th>\n",
       "      <th>CDSCode</th>\n",
       "      <th>cds</th>\n",
       "      <th>NumTstTakr</th>\n",
       "    </tr>\n",
       "  </thead>\n",
       "  <tbody>\n",
       "    <tr>\n",
       "      <th>min</th>\n",
       "      <td>1.100170e+12</td>\n",
       "      <td>1.100170e+12</td>\n",
       "      <td>0.0</td>\n",
       "    </tr>\n",
       "    <tr>\n",
       "      <th>50%</th>\n",
       "      <td>3.066670e+13</td>\n",
       "      <td>3.066621e+13</td>\n",
       "      <td>40.0</td>\n",
       "    </tr>\n",
       "    <tr>\n",
       "      <th>max</th>\n",
       "      <td>5.872770e+13</td>\n",
       "      <td>5.872770e+13</td>\n",
       "      <td>11607.0</td>\n",
       "    </tr>\n",
       "  </tbody>\n",
       "</table>\n",
       "</div>"
      ],
      "text/plain": [
       "          CDSCode           cds  NumTstTakr\n",
       "min  1.100170e+12  1.100170e+12         0.0\n",
       "50%  3.066670e+13  3.066621e+13        40.0\n",
       "max  5.872770e+13  5.872770e+13     11607.0"
      ]
     },
     "metadata": {},
     "output_type": "display_data"
    },
    {
     "name": "stdout",
     "output_type": "stream",
     "text": [
      "What we expect from your Inspections dataframe:\n"
     ]
    },
    {
     "data": {
      "text/html": [
       "<div>\n",
       "<style scoped>\n",
       "    .dataframe tbody tr th:only-of-type {\n",
       "        vertical-align: middle;\n",
       "    }\n",
       "\n",
       "    .dataframe tbody tr th {\n",
       "        vertical-align: top;\n",
       "    }\n",
       "\n",
       "    .dataframe thead th {\n",
       "        text-align: right;\n",
       "    }\n",
       "</style>\n",
       "<table border=\"1\" class=\"dataframe\">\n",
       "  <thead>\n",
       "    <tr style=\"text-align: right;\">\n",
       "      <th></th>\n",
       "      <th>CDS_CODE</th>\n",
       "      <th>ETHNIC</th>\n",
       "      <th>ENR_TOTAL</th>\n",
       "    </tr>\n",
       "  </thead>\n",
       "  <tbody>\n",
       "    <tr>\n",
       "      <th>min</th>\n",
       "      <td>1.100170e+12</td>\n",
       "      <td>0.0</td>\n",
       "      <td>0.0</td>\n",
       "    </tr>\n",
       "    <tr>\n",
       "      <th>50%</th>\n",
       "      <td>3.166911e+13</td>\n",
       "      <td>5.0</td>\n",
       "      <td>8.0</td>\n",
       "    </tr>\n",
       "    <tr>\n",
       "      <th>max</th>\n",
       "      <td>5.872770e+13</td>\n",
       "      <td>9.0</td>\n",
       "      <td>2031.0</td>\n",
       "    </tr>\n",
       "  </tbody>\n",
       "</table>\n",
       "</div>"
      ],
      "text/plain": [
       "         CDS_CODE  ETHNIC  ENR_TOTAL\n",
       "min  1.100170e+12     0.0        0.0\n",
       "50%  3.166911e+13     5.0        8.0\n",
       "max  5.872770e+13     9.0     2031.0"
      ]
     },
     "metadata": {},
     "output_type": "display_data"
    }
   ],
   "source": [
    "sch_summary = pd.DataFrame(**{'columns': ['CDSCode', 'cds', 'NumTstTakr'],\n",
    " 'data': {'CDSCode': {'50%': 3.066670e+13, 'max': 5.872770e+13, 'min': 1.100170e+12},\n",
    "  'cds': {'50%': 3.066621e+13, 'max': 5.872770e+13, 'min': 1.100170e+12},\n",
    "  'NumTstTakr': {'50%': 40.000000,\n",
    "   'max': 11607.000000,\n",
    "   'min': 0.000000}},\n",
    " 'index': ['min', '50%', 'max']})\n",
    "\n",
    "dem_summary = pd.DataFrame(**{'columns': ['CDS_CODE', 'ETHNIC', 'ENR_TOTAL'],\n",
    " 'data': {'CDS_CODE': {'50%': 3.166911e+13, 'max':  5.872770e+13, 'min': 1.100170e+12},\n",
    " 'ETHNIC': {'50%': 5.000000, 'max': 9.000000, 'min': 0.000000},\n",
    " 'ENR_TOTAL': {'50%': 8.000000, 'max': 2031.000000, 'min': 0.000000}},\n",
    " 'index': ['min', '50%', 'max']})\n",
    "\n",
    "from IPython.display import display\n",
    "\n",
    "print('What we expect from your Businesses dataframe:')\n",
    "display(sch_summary)\n",
    "print('What we expect from your Inspections dataframe:')\n",
    "display(dem_summary)"
   ]
  },
  {
   "cell_type": "markdown",
   "metadata": {},
   "source": [
    "The code below defines a testing function that we'll use to verify that your data has the same statistics as what we expect. Run these cells to define the function. The df_allclose function has this name because we are verifying that all of the statistics for your dataframe are close to the expected values. Why not df_allequal? It's a bad idea in almost all cases to compare two floating point values like 37.780435, as rounding error can cause spurious failures."
   ]
  },
  {
   "cell_type": "markdown",
   "metadata": {},
   "source": [
    "## Question 1b: Verifying the data\n",
    "\n",
    "Now let's run the automated tests. If your dataframes are correct, then the following cell will seem to do nothing, which is a good thing! However, if your variables don't match the correct answers in the main summary statistics shown above, an exception will be raised."
   ]
  },
  {
   "cell_type": "code",
   "execution_count": 16,
   "metadata": {},
   "outputs": [],
   "source": [
    "\"\"\"Run this cell to load this utility comparison function that we will use in various\n",
    "tests below (both tests you can see and those we run internally for grading).\n",
    "\n",
    "Do not modify the function in any way.\n",
    "\"\"\"\n",
    "\n",
    "\n",
    "def df_allclose(actual, desired, columns=None, rtol=5e-2):\n",
    "    \"\"\"Compare selected columns of two dataframes on a few summary statistics.\n",
    "    \n",
    "    Compute the min, median and max of the two dataframes on the given columns, and compare\n",
    "    that they match numerically to the given relative tolerance.\n",
    "    \n",
    "    If they don't match, an AssertionError is raised (by `numpy.testing`).\n",
    "    \"\"\"    \n",
    "    # summary statistics to compare on\n",
    "    stats = ['min', '50%', 'max']\n",
    "    \n",
    "    # For the desired values, we can provide a full DF with the same structure as\n",
    "    # the actual data, or pre-computed summary statistics.\n",
    "    # We assume a pre-computed summary was provided if columns is None. In that case, \n",
    "    # `desired` *must* have the same structure as the actual's summary\n",
    "    if columns is None:\n",
    "        des = desired\n",
    "        columns = desired.columns\n",
    "    else:\n",
    "        des = desired[columns].describe().loc[stats]\n",
    "\n",
    "    # Extract summary stats from actual DF\n",
    "    act = actual[columns].describe().loc[stats]\n",
    "\n",
    "    return np.allclose(act, des, rtol)"
   ]
  },
  {
   "cell_type": "markdown",
   "metadata": {},
   "source": [
    "### Question 1b: Identifying Issues with the Data\n",
    "\n",
    "Use the `head` command on your three files again. This time, describe at least one potential problem with the data you see. Consider issues with missing values and bad data."
   ]
  },
  {
   "cell_type": "code",
   "execution_count": 17,
   "metadata": {},
   "outputs": [
    {
     "data": {
      "text/html": [
       "<div>\n",
       "<style scoped>\n",
       "    .dataframe tbody tr th:only-of-type {\n",
       "        vertical-align: middle;\n",
       "    }\n",
       "\n",
       "    .dataframe tbody tr th {\n",
       "        vertical-align: top;\n",
       "    }\n",
       "\n",
       "    .dataframe thead th {\n",
       "        text-align: right;\n",
       "    }\n",
       "</style>\n",
       "<table border=\"1\" class=\"dataframe\">\n",
       "  <thead>\n",
       "    <tr style=\"text-align: right;\">\n",
       "      <th></th>\n",
       "      <th>CDSCode</th>\n",
       "      <th>County</th>\n",
       "      <th>District</th>\n",
       "      <th>School</th>\n",
       "      <th>Street</th>\n",
       "      <th>City</th>\n",
       "      <th>Zip</th>\n",
       "      <th>State</th>\n",
       "      <th>Phone</th>\n",
       "      <th>WebSite</th>\n",
       "      <th>SOC</th>\n",
       "      <th>SOCType</th>\n",
       "      <th>cds</th>\n",
       "      <th>NumTstTakr</th>\n",
       "      <th>AvgScrEng</th>\n",
       "      <th>AvgScrRead</th>\n",
       "      <th>AvgScrMath</th>\n",
       "      <th>AvgScrSci</th>\n",
       "    </tr>\n",
       "  </thead>\n",
       "  <tbody>\n",
       "    <tr>\n",
       "      <th>0</th>\n",
       "      <td>1100170000000</td>\n",
       "      <td>Alameda</td>\n",
       "      <td>Alameda County Office of Education</td>\n",
       "      <td>NaN</td>\n",
       "      <td>313 West Winton Avenue</td>\n",
       "      <td>Hayward</td>\n",
       "      <td>94544-1136</td>\n",
       "      <td>CA</td>\n",
       "      <td>(510) 887-0152</td>\n",
       "      <td>www.acoe.org</td>\n",
       "      <td>NaN</td>\n",
       "      <td>NaN</td>\n",
       "      <td>1.100170e+12</td>\n",
       "      <td>16.0</td>\n",
       "      <td>20</td>\n",
       "      <td>19</td>\n",
       "      <td>20</td>\n",
       "      <td>20</td>\n",
       "    </tr>\n",
       "    <tr>\n",
       "      <th>1</th>\n",
       "      <td>1100170112607</td>\n",
       "      <td>Alameda</td>\n",
       "      <td>Alameda County Office of Education</td>\n",
       "      <td>Envision Academy for Arts &amp; Technology</td>\n",
       "      <td>1515 Webster Street</td>\n",
       "      <td>Oakland</td>\n",
       "      <td>94612-3355</td>\n",
       "      <td>CA</td>\n",
       "      <td>(510) 596-8901</td>\n",
       "      <td>www.envisionacademy.org/</td>\n",
       "      <td>66</td>\n",
       "      <td>High Schools (Public)</td>\n",
       "      <td>1.100170e+12</td>\n",
       "      <td>16.0</td>\n",
       "      <td>20</td>\n",
       "      <td>19</td>\n",
       "      <td>20</td>\n",
       "      <td>20</td>\n",
       "    </tr>\n",
       "    <tr>\n",
       "      <th>2</th>\n",
       "      <td>1100170123968</td>\n",
       "      <td>Alameda</td>\n",
       "      <td>Alameda County Office of Education</td>\n",
       "      <td>Community School for Creative Education</td>\n",
       "      <td>2111 International Boulevard</td>\n",
       "      <td>Oakland</td>\n",
       "      <td>94606-4903</td>\n",
       "      <td>CA</td>\n",
       "      <td>(510) 686-4131</td>\n",
       "      <td>www.communityschoolforcreativeeducation.org</td>\n",
       "      <td>60</td>\n",
       "      <td>Elementary Schools (Public)</td>\n",
       "      <td>NaN</td>\n",
       "      <td>NaN</td>\n",
       "      <td>NaN</td>\n",
       "      <td>NaN</td>\n",
       "      <td>NaN</td>\n",
       "      <td>NaN</td>\n",
       "    </tr>\n",
       "    <tr>\n",
       "      <th>3</th>\n",
       "      <td>1100170124172</td>\n",
       "      <td>Alameda</td>\n",
       "      <td>Alameda County Office of Education</td>\n",
       "      <td>Yu Ming Charter</td>\n",
       "      <td>1086 Alcatraz Avenue</td>\n",
       "      <td>Oakland</td>\n",
       "      <td>94608-1265</td>\n",
       "      <td>CA</td>\n",
       "      <td>(510) 452-2063</td>\n",
       "      <td>www.yumingschool.org</td>\n",
       "      <td>60</td>\n",
       "      <td>Elementary Schools (Public)</td>\n",
       "      <td>NaN</td>\n",
       "      <td>NaN</td>\n",
       "      <td>NaN</td>\n",
       "      <td>NaN</td>\n",
       "      <td>NaN</td>\n",
       "      <td>NaN</td>\n",
       "    </tr>\n",
       "    <tr>\n",
       "      <th>4</th>\n",
       "      <td>1100170125567</td>\n",
       "      <td>Alameda</td>\n",
       "      <td>Alameda County Office of Education</td>\n",
       "      <td>Urban Montessori Charter</td>\n",
       "      <td>5328 Brann Street</td>\n",
       "      <td>Oakland</td>\n",
       "      <td>94619-3312</td>\n",
       "      <td>CA</td>\n",
       "      <td>(510) 842-1181</td>\n",
       "      <td>www.urbanmontessori.org</td>\n",
       "      <td>60</td>\n",
       "      <td>Elementary Schools (Public)</td>\n",
       "      <td>NaN</td>\n",
       "      <td>NaN</td>\n",
       "      <td>NaN</td>\n",
       "      <td>NaN</td>\n",
       "      <td>NaN</td>\n",
       "      <td>NaN</td>\n",
       "    </tr>\n",
       "  </tbody>\n",
       "</table>\n",
       "</div>"
      ],
      "text/plain": [
       "         CDSCode   County                            District  \\\n",
       "0  1100170000000  Alameda  Alameda County Office of Education   \n",
       "1  1100170112607  Alameda  Alameda County Office of Education   \n",
       "2  1100170123968  Alameda  Alameda County Office of Education   \n",
       "3  1100170124172  Alameda  Alameda County Office of Education   \n",
       "4  1100170125567  Alameda  Alameda County Office of Education   \n",
       "\n",
       "                                    School                        Street  \\\n",
       "0                                      NaN        313 West Winton Avenue   \n",
       "1   Envision Academy for Arts & Technology           1515 Webster Street   \n",
       "2  Community School for Creative Education  2111 International Boulevard   \n",
       "3                          Yu Ming Charter          1086 Alcatraz Avenue   \n",
       "4                 Urban Montessori Charter             5328 Brann Street   \n",
       "\n",
       "      City         Zip State           Phone  \\\n",
       "0  Hayward  94544-1136    CA  (510) 887-0152   \n",
       "1  Oakland  94612-3355    CA  (510) 596-8901   \n",
       "2  Oakland  94606-4903    CA  (510) 686-4131   \n",
       "3  Oakland  94608-1265    CA  (510) 452-2063   \n",
       "4  Oakland  94619-3312    CA  (510) 842-1181   \n",
       "\n",
       "                                       WebSite  SOC  \\\n",
       "0                                 www.acoe.org  NaN   \n",
       "1                     www.envisionacademy.org/   66   \n",
       "2  www.communityschoolforcreativeeducation.org   60   \n",
       "3                         www.yumingschool.org   60   \n",
       "4                      www.urbanmontessori.org   60   \n",
       "\n",
       "                       SOCType           cds  NumTstTakr AvgScrEng AvgScrRead  \\\n",
       "0                          NaN  1.100170e+12        16.0        20         19   \n",
       "1        High Schools (Public)  1.100170e+12        16.0        20         19   \n",
       "2  Elementary Schools (Public)           NaN         NaN       NaN        NaN   \n",
       "3  Elementary Schools (Public)           NaN         NaN       NaN        NaN   \n",
       "4  Elementary Schools (Public)           NaN         NaN       NaN        NaN   \n",
       "\n",
       "  AvgScrMath AvgScrSci  \n",
       "0         20        20  \n",
       "1         20        20  \n",
       "2        NaN       NaN  \n",
       "3        NaN       NaN  \n",
       "4        NaN       NaN  "
      ]
     },
     "execution_count": 17,
     "metadata": {},
     "output_type": "execute_result"
    }
   ],
   "source": [
    "sch.head()"
   ]
  },
  {
   "cell_type": "markdown",
   "metadata": {},
   "source": [
    "**SOLUTION:**  \n",
    "There appears to be a missing school name for CDS 1100170000000."
   ]
  },
  {
   "cell_type": "markdown",
   "metadata": {},
   "source": [
    "We will explore each file in turn, including determining its granularity and primary keys and exploring many of the variables individually. Let's begin with the pubschls file, which has been read into the `sch` dataframe."
   ]
  },
  {
   "cell_type": "markdown",
   "metadata": {},
   "source": [
    "---\n",
    "## 2: Examining the Public Schools Data\n",
    "\n",
    "From its name alone, we expect the `pubschls.csv` file to contain information about the public schools in the state of California. Let's investigate the granularity of this dataset."
   ]
  },
  {
   "cell_type": "markdown",
   "metadata": {},
   "source": [
    "### Question 2a\n",
    "\n",
    "Examining the entries in `sch`, is the `CDSCode` (this 14-digit code is the official, unique identification of a school within California) unique for each record? Your code should compute the answer, i.e. don't just hard code `True` or `False`.\n",
    "\n",
    "Hint: use `value_counts()` or `unique()` to determine if the `CDSCode` series has any duplicates."
   ]
  },
  {
   "cell_type": "code",
   "execution_count": 6,
   "metadata": {},
   "outputs": [
    {
     "data": {
      "text/plain": [
       "True"
      ]
     },
     "execution_count": 6,
     "metadata": {},
     "output_type": "execute_result"
    }
   ],
   "source": [
    "is_school_id_unique = True not in (sch['CDSCode'].value_counts() != 1)\n",
    "is_school_id_unique"
   ]
  },
  {
   "cell_type": "markdown",
   "metadata": {},
   "source": [
    "### Question 2b\n",
    "\n",
    "With this information, you can address the question of granularity. Answer the questions below.\n",
    "\n",
    "1. What does each record represent?  \n",
    "1. What is the primary key?\n",
    "1. What would you find by grouping by the following columns: `CDSCode`, `Zip`, `State`?\n",
    "\n",
    "Please write your answer in the markdown cell below. You may create new cells below your answer to run code, but **please never add cells between a question cell and the answer cell below it.**"
   ]
  },
  {
   "cell_type": "markdown",
   "metadata": {},
   "source": [
    "**SOLUTION**:  \n",
    "\n",
    "1. *Each record represents an instance of registered public school.*\n",
    "2. *CDSCode*\n",
    "3. *With CDSCode, we would find the same table as the original schools table because it appears that CDSCode is unique to each school. With Zip, we would find instances sharing the same postal code appear together under the same group, though it sounds unlikely that we would find such a case. With State, we would find schools located in the same state.*"
   ]
  },
  {
   "cell_type": "markdown",
   "metadata": {},
   "source": [
    "---\n",
    "## 3: Data Cleaning\n",
    "\n",
    "Next, let's  explore some of the variables in the schools table. We begin by examining the SOC Types (the text description of the type of school).\n",
    "\n",
    "### Question 3a\n",
    "\n",
    "Answer the following questions about the `SOC Type` column in the `sch` data frame?  \n",
    "1. Are SOC Types quantitative or qualitative? If qualitative, is it ordinal or nominal? \n",
    "1. What data type is used to represent a SOC Type?"
   ]
  },
  {
   "cell_type": "markdown",
   "metadata": {},
   "source": [
    "*Answer Example:*\n",
    "\n",
    "1. *SOC Types are qualitative and nominal.*\n",
    "2. *String data type.*"
   ]
  },
  {
   "cell_type": "markdown",
   "metadata": {},
   "source": [
    "### Question 3b\n",
    "\n",
    "How many schools are in each school type? \n",
    "\n",
    "In the cell below, create a series where the index is the school and the value is the number of records with that school type in descending order of count. Elementary Schools (Public) should be on the top with 5664 records."
   ]
  },
  {
   "cell_type": "code",
   "execution_count": 38,
   "metadata": {},
   "outputs": [
    {
     "data": {
      "text/plain": [
       "SOCType\n",
       "High Schools (Public)            1314\n",
       "K-12 Schools (Public)             368\n",
       "Alternative Schools of Choice     270\n",
       "dtype: int64"
      ]
     },
     "execution_count": 38,
     "metadata": {},
     "output_type": "execute_result"
    }
   ],
   "source": [
    "type_counts = sch.groupby('SOCType').size().sort_values(ascending=False)\n",
    "type_counts.head()"
   ]
  },
  {
   "cell_type": "markdown",
   "metadata": {},
   "source": [
    "Did you take into account that some schools have missing SOC Types?"
   ]
  },
  {
   "cell_type": "code",
   "execution_count": 8,
   "metadata": {},
   "outputs": [
    {
     "name": "stdout",
     "output_type": "stream",
     "text": [
      "zip_counts describes 10655 records.\n",
      "The original data have 11760 records\n"
     ]
    }
   ],
   "source": [
    "print('zip_counts describes', sum(type_counts), 'records.')\n",
    "print('The original data have', len(sch), 'records')"
   ]
  },
  {
   "cell_type": "markdown",
   "metadata": {},
   "source": [
    "Missing data is extremely common in real-world data science projects. There are several ways to include missing school types in the `type_counts` series above. One approach is to use the `fillna` method of the series, which will replace all null (a.k.a. NaN) values with a string of our choosing. In the example below, we picked \"No Data\". When you run the code below, you should see that there are 1105 schools with no school type information."
   ]
  },
  {
   "cell_type": "code",
   "execution_count": 9,
   "metadata": {},
   "outputs": [
    {
     "data": {
      "text/plain": [
       "SOCType\n",
       "Elementary Schools (Public)                  5664\n",
       "High Schools (Public)                        1314\n",
       "Intermediate/Middle Schools (Public)         1289\n",
       "No Data                                      1105\n",
       "Continuation High Schools                     438\n",
       "K-12 Schools (Public)                         368\n",
       "Adult Education Centers                       297\n",
       "Alternative Schools of Choice                 270\n",
       "Elemen Schools In 1 School Dist. (Public)     229\n",
       "District Community Day Schools                183\n",
       "Special Education Schools (Public)            154\n",
       "Preschool                                     152\n",
       "County Community                               77\n",
       "ROC/ROP                                        69\n",
       "Juvenile Court Schools                         62\n",
       "dtype: int64"
      ]
     },
     "execution_count": 9,
     "metadata": {},
     "output_type": "execute_result"
    }
   ],
   "source": [
    "type_counts = sch.fillna(\"No Data\").groupby(\"SOCType\").size().sort_values(ascending=False)\n",
    "type_counts.head(15)"
   ]
  },
  {
   "cell_type": "markdown",
   "metadata": {},
   "source": [
    "An alternate approach is to use the DataFrame `value_counts` method with the optional argument `dropna=False`, which will ensure that null values are counted. In this case, the index will be `NaN` for the row corresponding to a null postal code."
   ]
  },
  {
   "cell_type": "code",
   "execution_count": 10,
   "metadata": {
    "scrolled": true
   },
   "outputs": [
    {
     "data": {
      "text/plain": [
       "Elementary Schools (Public)                  5664\n",
       "High Schools (Public)                        1314\n",
       "Intermediate/Middle Schools (Public)         1289\n",
       "NaN                                          1105\n",
       "Continuation High Schools                     438\n",
       "K-12 Schools (Public)                         368\n",
       "Adult Education Centers                       297\n",
       "Alternative Schools of Choice                 270\n",
       "Elemen Schools In 1 School Dist. (Public)     229\n",
       "District Community Day Schools                183\n",
       "Special Education Schools (Public)            154\n",
       "Preschool                                     152\n",
       "County Community                               77\n",
       "ROC/ROP                                        69\n",
       "Juvenile Court Schools                         62\n",
       "Name: SOCType, dtype: int64"
      ]
     },
     "execution_count": 10,
     "metadata": {},
     "output_type": "execute_result"
    }
   ],
   "source": [
    "sch[\"SOCType\"].value_counts(dropna=False).sort_values(ascending = False).head(15)"
   ]
  },
  {
   "cell_type": "markdown",
   "metadata": {},
   "source": [
    "### Question 3c : A Closer Look at Missing School Types\n",
    "\n",
    "Let's look more closely at records with missing SOC Types. Describe the pattern among records have missing school types. Pay attention to their school names and the dates of last update.\n",
    "\n",
    "*Hint*: The `isnull` method of a series returns a boolean series which is true only for entries in the original series that were missing."
   ]
  },
  {
   "cell_type": "code",
   "execution_count": 11,
   "metadata": {
    "scrolled": false
   },
   "outputs": [
    {
     "data": {
      "text/html": [
       "<div>\n",
       "<style scoped>\n",
       "    .dataframe tbody tr th:only-of-type {\n",
       "        vertical-align: middle;\n",
       "    }\n",
       "\n",
       "    .dataframe tbody tr th {\n",
       "        vertical-align: top;\n",
       "    }\n",
       "\n",
       "    .dataframe thead th {\n",
       "        text-align: right;\n",
       "    }\n",
       "</style>\n",
       "<table border=\"1\" class=\"dataframe\">\n",
       "  <thead>\n",
       "    <tr style=\"text-align: right;\">\n",
       "      <th></th>\n",
       "      <th>CDSCode</th>\n",
       "      <th>County</th>\n",
       "      <th>District</th>\n",
       "      <th>School</th>\n",
       "      <th>Street</th>\n",
       "      <th>City</th>\n",
       "      <th>Zip</th>\n",
       "      <th>State</th>\n",
       "      <th>Phone</th>\n",
       "      <th>WebSite</th>\n",
       "      <th>SOC</th>\n",
       "      <th>SOCType</th>\n",
       "      <th>cds</th>\n",
       "      <th>NumTstTakr</th>\n",
       "      <th>AvgScrEng</th>\n",
       "      <th>AvgScrRead</th>\n",
       "      <th>AvgScrMath</th>\n",
       "      <th>AvgScrSci</th>\n",
       "    </tr>\n",
       "  </thead>\n",
       "  <tbody>\n",
       "    <tr>\n",
       "      <th>0</th>\n",
       "      <td>1100170000000</td>\n",
       "      <td>Alameda</td>\n",
       "      <td>Alameda County Office of Education</td>\n",
       "      <td>NaN</td>\n",
       "      <td>313 West Winton Avenue</td>\n",
       "      <td>Hayward</td>\n",
       "      <td>94544-1136</td>\n",
       "      <td>CA</td>\n",
       "      <td>(510) 887-0152</td>\n",
       "      <td>www.acoe.org</td>\n",
       "      <td>NaN</td>\n",
       "      <td>NaN</td>\n",
       "      <td>1.100170e+12</td>\n",
       "      <td>16.0</td>\n",
       "      <td>20</td>\n",
       "      <td>19</td>\n",
       "      <td>20</td>\n",
       "      <td>20</td>\n",
       "    </tr>\n",
       "    <tr>\n",
       "      <th>15</th>\n",
       "      <td>1316090000000</td>\n",
       "      <td>Alameda</td>\n",
       "      <td>California School for the Blind (State Special...</td>\n",
       "      <td>NaN</td>\n",
       "      <td>500 Walnut Avenue</td>\n",
       "      <td>Fremont</td>\n",
       "      <td>94536-4365</td>\n",
       "      <td>CA</td>\n",
       "      <td>(510) 794-3800</td>\n",
       "      <td>www.csb-cde.ca.gov</td>\n",
       "      <td>NaN</td>\n",
       "      <td>NaN</td>\n",
       "      <td>NaN</td>\n",
       "      <td>NaN</td>\n",
       "      <td>NaN</td>\n",
       "      <td>NaN</td>\n",
       "      <td>NaN</td>\n",
       "      <td>NaN</td>\n",
       "    </tr>\n",
       "    <tr>\n",
       "      <th>17</th>\n",
       "      <td>1316170000000</td>\n",
       "      <td>Alameda</td>\n",
       "      <td>California School for the Deaf-Fremont (State ...</td>\n",
       "      <td>NaN</td>\n",
       "      <td>39350 Gallaudet Drive</td>\n",
       "      <td>Fremont</td>\n",
       "      <td>94538-2308</td>\n",
       "      <td>CA</td>\n",
       "      <td>(510) 794-3666</td>\n",
       "      <td>www.csdeagles.com</td>\n",
       "      <td>NaN</td>\n",
       "      <td>NaN</td>\n",
       "      <td>NaN</td>\n",
       "      <td>NaN</td>\n",
       "      <td>NaN</td>\n",
       "      <td>NaN</td>\n",
       "      <td>NaN</td>\n",
       "      <td>NaN</td>\n",
       "    </tr>\n",
       "    <tr>\n",
       "      <th>19</th>\n",
       "      <td>1611190000000</td>\n",
       "      <td>Alameda</td>\n",
       "      <td>Alameda Unified</td>\n",
       "      <td>NaN</td>\n",
       "      <td>2060 Challenger Dr</td>\n",
       "      <td>Alameda</td>\n",
       "      <td>94501-1037</td>\n",
       "      <td>CA</td>\n",
       "      <td>(510) 337-7000</td>\n",
       "      <td>www.alameda.k12.ca.us</td>\n",
       "      <td>NaN</td>\n",
       "      <td>NaN</td>\n",
       "      <td>1.611190e+12</td>\n",
       "      <td>222.0</td>\n",
       "      <td>26</td>\n",
       "      <td>27</td>\n",
       "      <td>25</td>\n",
       "      <td>25</td>\n",
       "    </tr>\n",
       "    <tr>\n",
       "      <th>43</th>\n",
       "      <td>1611270000000</td>\n",
       "      <td>Alameda</td>\n",
       "      <td>Albany City Unified</td>\n",
       "      <td>NaN</td>\n",
       "      <td>819 Bancroft Way</td>\n",
       "      <td>Berkeley</td>\n",
       "      <td>94710-2226</td>\n",
       "      <td>CA</td>\n",
       "      <td>(510) 558-3750</td>\n",
       "      <td>www.ausdk12.org</td>\n",
       "      <td>NaN</td>\n",
       "      <td>NaN</td>\n",
       "      <td>1.611270e+12</td>\n",
       "      <td>91.0</td>\n",
       "      <td>29</td>\n",
       "      <td>29</td>\n",
       "      <td>28</td>\n",
       "      <td>27</td>\n",
       "    </tr>\n",
       "  </tbody>\n",
       "</table>\n",
       "</div>"
      ],
      "text/plain": [
       "          CDSCode   County                                           District  \\\n",
       "0   1100170000000  Alameda                 Alameda County Office of Education   \n",
       "15  1316090000000  Alameda  California School for the Blind (State Special...   \n",
       "17  1316170000000  Alameda  California School for the Deaf-Fremont (State ...   \n",
       "19  1611190000000  Alameda                                    Alameda Unified   \n",
       "43  1611270000000  Alameda                                Albany City Unified   \n",
       "\n",
       "   School                  Street      City         Zip State           Phone  \\\n",
       "0     NaN  313 West Winton Avenue   Hayward  94544-1136    CA  (510) 887-0152   \n",
       "15    NaN       500 Walnut Avenue   Fremont  94536-4365    CA  (510) 794-3800   \n",
       "17    NaN   39350 Gallaudet Drive   Fremont  94538-2308    CA  (510) 794-3666   \n",
       "19    NaN      2060 Challenger Dr   Alameda  94501-1037    CA  (510) 337-7000   \n",
       "43    NaN        819 Bancroft Way  Berkeley  94710-2226    CA  (510) 558-3750   \n",
       "\n",
       "                  WebSite  SOC SOCType           cds  NumTstTakr AvgScrEng  \\\n",
       "0            www.acoe.org  NaN     NaN  1.100170e+12        16.0        20   \n",
       "15     www.csb-cde.ca.gov  NaN     NaN           NaN         NaN       NaN   \n",
       "17      www.csdeagles.com  NaN     NaN           NaN         NaN       NaN   \n",
       "19  www.alameda.k12.ca.us  NaN     NaN  1.611190e+12       222.0        26   \n",
       "43        www.ausdk12.org  NaN     NaN  1.611270e+12        91.0        29   \n",
       "\n",
       "   AvgScrRead AvgScrMath AvgScrSci  \n",
       "0          19         20        20  \n",
       "15        NaN        NaN       NaN  \n",
       "17        NaN        NaN       NaN  \n",
       "19         27         25        25  \n",
       "43         29         28        27  "
      ]
     },
     "execution_count": 11,
     "metadata": {},
     "output_type": "execute_result"
    }
   ],
   "source": [
    "sch.loc[sch['SOCType'].isnull()].head()"
   ]
  },
  {
   "cell_type": "markdown",
   "metadata": {},
   "source": [
    "### Question 3d\n",
    "\n",
    "The aim of the project is to compare school demographics with scores of standardized test administered only to high school students, so let's select only schools that fall into this category from the dataset. While we're at it, we'll also remove the schools that are missing a SOC Code. In the real world, filtering our postal codes in this way may not be ideal. (Fortunately, this is just a course assignment.)\n",
    "\n",
    "Assign `sch` to a new dataframe that has the same columns but only the rows that fall into the high school category."
   ]
  },
  {
   "cell_type": "code",
   "execution_count": 50,
   "metadata": {},
   "outputs": [],
   "source": [
    "HIGHSCHOOL_TYPES = ['High Schools (Public)','Continuation High Schools ',\\\n",
    "                    'K-12 Schools (Public)','Alternative Schools of Choice']\n",
    "\n",
    "sch = sch.loc[(sch['SOCType'].isin(HIGHSCHOOL_TYPES)) & (sch['SOCType']!=np.NaN)]"
   ]
  },
  {
   "cell_type": "markdown",
   "metadata": {},
   "source": [
    "### Question 3e : Zip Codes\n",
    "\n",
    "Missing school types aren't our only problem. There are also some records where the postal code is wrong, e.g., there are some extended postal codes that are 9 digits long, rather than the typical 5 digits.\n",
    "\n",
    "Let's clean up the extended zip codes by dropping the digits beyond the first 5. Rather than deleting or replacing the old values in the `Zip` columnm, we'll instead create a new column called `Zip_5`.\n",
    "\n",
    "The reason we're making a new column is that it's typically good practice to keep the original values when we are manipulating data. This makes it easier to recover from mistakes, and also makes it more clear that we are not working with the original raw data."
   ]
  },
  {
   "cell_type": "code",
   "execution_count": 37,
   "metadata": {},
   "outputs": [],
   "source": [
    "sch['Zip_5'] = sch['Zip'].str[:5]"
   ]
  },
  {
   "cell_type": "markdown",
   "metadata": {},
   "source": [
    "---\n",
    "## 4: Sampling from the Schools Data\n",
    "We can now sample from the business data using the cleaned ZIP code data. Make sure to use `Zip_5` instead of `Zip` for all parts of this question."
   ]
  },
  {
   "cell_type": "markdown",
   "metadata": {},
   "source": [
    "### Question 4a\n",
    "\n",
    "First, complete the following function `sample`, which takes as arguments a series, `series`, and a sample size, `n`, and returns a simple random sample (SRS) of size `n` from the series. Recall that in SRS, sampling is performed **without** replacement. The result should be a **list** of the `n` values that are in the sample.\n",
    "\n",
    "*Hint*: Consider using [`np.random.choice`](https://docs.scipy.org/doc/numpy-1.14.1/reference/generated/numpy.random.choice.html)."
   ]
  },
  {
   "cell_type": "code",
   "execution_count": 13,
   "metadata": {},
   "outputs": [],
   "source": [
    "def sample(series, n):\n",
    "    # Do not change the following line of code in any way!\n",
    "    # In case you delete it, it should be \"np.random.seed(40)\"\n",
    "    np.random.seed(40)\n",
    "    \n",
    "    return series.sample(n).tolist()"
   ]
  },
  {
   "cell_type": "markdown",
   "metadata": {},
   "source": [
    "### Question 4b\n",
    "Suppose we take a SRS of 5 schools from the public schools data. What is the probability that the school named *Sierra Vista High* is in the sample?"
   ]
  },
  {
   "cell_type": "code",
   "execution_count": 41,
   "metadata": {},
   "outputs": [
    {
     "data": {
      "text/plain": [
       "0.0025614754098360892"
      ]
     },
     "execution_count": 41,
     "metadata": {},
     "output_type": "execute_result"
    }
   ],
   "source": [
    "q4b_answer = 1 - ((len(sch)-1)/len(sch) * (len(sch)-2)/(len(sch)-1) * \\\n",
    "                  (len(sch)-3)/(len(sch)-2) * (len(sch)-4)/(len(sch)-3) * \\\n",
    "                  (len(sch)-5)/(len(sch)-4)) # SOLUTION\n",
    "q4b_answer"
   ]
  },
  {
   "cell_type": "markdown",
   "metadata": {},
   "source": [
    "### Question 4c\n",
    "Collect a stratified random sample of school names, where each stratum consists of a postal code. Collect one school name per stratum. Assign `sch_strat_sample` to a series of business names selected by this sampling procedure.\n",
    "\n",
    "Hint: You can use the `sample` function you defined earlier."
   ]
  },
  {
   "cell_type": "code",
   "execution_count": 15,
   "metadata": {},
   "outputs": [
    {
     "data": {
      "text/plain": [
       "Zip_5\n",
       "89447                        Rite of Passage\n",
       "90001                     Russell Elementary\n",
       "90002    Florence Griffith Joyner Elementary\n",
       "90003        Seventy-Fifth Street Elementary\n",
       "90004                Third Street Elementary\n",
       "Name: School, dtype: object"
      ]
     },
     "execution_count": 15,
     "metadata": {},
     "output_type": "execute_result"
    }
   ],
   "source": [
    "sch_strat_sample = sch.groupby('Zip_5')['School'].agg(lambda x: sample(x, 1)[0]) # SOLUTION\n",
    "sch_strat_sample.head()"
   ]
  },
  {
   "cell_type": "markdown",
   "metadata": {},
   "source": [
    "### Question 4d\n",
    "\n",
    "What is the probability that *Sierra Vista High* is selected as part of this stratified random sampling procedure?"
   ]
  },
  {
   "cell_type": "code",
   "execution_count": 16,
   "metadata": {},
   "outputs": [
    {
     "data": {
      "text/plain": [
       "0.1"
      ]
     },
     "execution_count": 16,
     "metadata": {},
     "output_type": "execute_result"
    }
   ],
   "source": [
    "# BEGIN SOLUTION NO PROMPT\n",
    "zip_code = sch.loc[sch['School'] == 'Sierra Vista High', 'Zip_5'].iloc[0] # SOLUTION\n",
    "# END SOLUTION\n",
    "q4d_answer = 1 / len(sch[sch['Zip_5'] == zip_code]) # SOLUTION\n",
    "q4d_answer"
   ]
  },
  {
   "cell_type": "markdown",
   "metadata": {},
   "source": [
    "### Question 4e\n",
    "Collect a cluster sample of school codes, where each cluster is a postal code, with 5 clusters in the sample. Assign `sch_cluster_sample` to a series of school codes selected by this sampling procedure.\n",
    "\n",
    "Hint: Consider using [`isin`](https://pandas.pydata.org/pandas-docs/stable/reference/api/pandas.Series.isin.html)."
   ]
  },
  {
   "cell_type": "code",
   "execution_count": 17,
   "metadata": {},
   "outputs": [
    {
     "data": {
      "text/plain": [
       "4667    20651850000000\n",
       "4669    20651856024087\n",
       "4671    20651856101521\n",
       "4738    20764140000000\n",
       "4739    20764140115527\n",
       "Name: CDSCode, dtype: int64"
      ]
     },
     "execution_count": 17,
     "metadata": {},
     "output_type": "execute_result"
    }
   ],
   "source": [
    "sch_cluster_sample = sch[sch['Zip_5'].isin\\\n",
    "                         (np.random.choice(sch['Zip_5'].unique(),\\\n",
    "                          size=5,replace=False))]['CDSCode'] # SOLUTION\n",
    "sch_cluster_sample.head()"
   ]
  },
  {
   "cell_type": "markdown",
   "metadata": {},
   "source": [
    "### Question 4f\n",
    "What is the probability that *Sierra Vista High* is selected as part of this cluster sampling procedure?"
   ]
  },
  {
   "cell_type": "code",
   "execution_count": 18,
   "metadata": {},
   "outputs": [
    {
     "data": {
      "text/plain": [
       "0.0033156498673740055"
      ]
     },
     "execution_count": 18,
     "metadata": {},
     "output_type": "execute_result"
    }
   ],
   "source": [
    "q4f_answer = 5 / len(sch['Zip_5'].unique()) # SOLUTION\n",
    "q4f_answer"
   ]
  },
  {
   "cell_type": "markdown",
   "metadata": {},
   "source": [
    "### Question 4g\n",
    "In the context of this question, what are the benefit(s) of performing stratified sampling over cluster sampling? Why would you consider performing cluster sampling instead of stratified sampling? Compare the strengths and weaknesses of both sampling techniques."
   ]
  },
  {
   "cell_type": "markdown",
   "metadata": {},
   "source": [
    "**SOLUTION:**  \n",
    "Stratified sampling could help ensure representation by including data from ZIP codes that are less common; however, collecting data from such areas could be costly. Cluster sampling is simpler and it could be cheaper to collect data from all schools in a smaller number of areas. However, estimators from cluster sampling tend to be more variable."
   ]
  },
  {
   "cell_type": "markdown",
   "metadata": {},
   "source": [
    "### Question 4h\n",
    "Collect a multi-stage sample. First, take a SRS of 5 postal codes. Then, collect an SRS of one business name per selected postal code. Assign `bus_multi_sample` to a series of names selected by this procedure."
   ]
  },
  {
   "cell_type": "code",
   "execution_count": 19,
   "metadata": {},
   "outputs": [
    {
     "data": {
      "text/plain": [
       "Zip_5\n",
       "93644    Glacier High School Charter\n",
       "94965                            NaN\n",
       "95039                            NaN\n",
       "95492              Brooks Elementary\n",
       "95603                Forty-Niner ROP\n",
       "Name: School, dtype: object"
      ]
     },
     "execution_count": 19,
     "metadata": {},
     "output_type": "execute_result"
    }
   ],
   "source": [
    "np.random.seed(40) # Do not touch this!\n",
    "\n",
    "sch_multi_sample = sch[sch['Zip_5'].\\\n",
    "                       isin(np.random.choice(sch['Zip_5'].\\\n",
    "                       unique(),size=5,replace=False))].groupby('Zip_5')\\\n",
    "                       ['School'].agg(lambda x: sample(x, 1)[0]) # SOLUTION\n",
    "sch_multi_sample.head()"
   ]
  },
  {
   "cell_type": "markdown",
   "metadata": {},
   "source": [
    "### Question 4i\n",
    "What is the probability that *Sierra Vista High* is chosen in the multi-stage sample?"
   ]
  },
  {
   "cell_type": "code",
   "execution_count": 20,
   "metadata": {},
   "outputs": [
    {
     "data": {
      "text/plain": [
       "0.00033156498673740057"
      ]
     },
     "execution_count": 20,
     "metadata": {},
     "output_type": "execute_result"
    }
   ],
   "source": [
    "q4i_answer = q4d_answer * q4f_answer # SOLUTION\n",
    "q4i_answer"
   ]
  },
  {
   "cell_type": "markdown",
   "metadata": {},
   "source": [
    "---\n",
    "## 5: ACT Scores\n",
    "\n",
    "Let's also consider schools' average ACT Math scores and get a sense of how many are missing.\n",
    "\n",
    "### Question 5a\n",
    "\n",
    "How many schools are missing ACT Math Scores?\n",
    "\n",
    "*Hint*: Use `isnull`."
   ]
  },
  {
   "cell_type": "code",
   "execution_count": 43,
   "metadata": {
    "scrolled": false
   },
   "outputs": [
    {
     "data": {
      "text/plain": [
       "887"
      ]
     },
     "execution_count": 43,
     "metadata": {},
     "output_type": "execute_result"
    }
   ],
   "source": [
    "num_missing_web = sch['AvgScrMath'].isnull().sum()\n",
    "num_missing_web"
   ]
  },
  {
   "cell_type": "markdown",
   "metadata": {},
   "source": [
    "As a somewhat contrived exercise in data manipulation, let's try to identify which ZIP codes have the most average ACT Math score records.\n",
    "\n",
    "In the cell below, create a series where the index is `Zip_5`, and the value is the number of businesses with missing ACT Math Scores in that ZIP code. Your series should be in descending order.\n",
    "\n",
    "*Hint: Create a custom function to compute the number of null entries in a series, and use this function with the `agg` method.*"
   ]
  },
  {
   "cell_type": "code",
   "execution_count": 44,
   "metadata": {
    "scrolled": false
   },
   "outputs": [
    {
     "data": {
      "text/plain": [
       "Zip_5\n",
       "91764    14\n",
       "93065    14\n",
       "93706     6\n",
       "92345     6\n",
       "93510     6\n",
       "Name: AvgScrMath, dtype: int64"
      ]
     },
     "execution_count": 44,
     "metadata": {},
     "output_type": "execute_result"
    }
   ],
   "source": [
    "def null_act_count(series):\n",
    "    return series['AvgScrMath'].isnull().sum()\n",
    "\n",
    "missing_per_zip = sch.set_index('Zip_5').groupby('Zip_5').\\\n",
    "agg(lambda x: null_act_count(x))['AvgScrMath'].sort_values(ascending=False)\n",
    "missing_per_zip.head()"
   ]
  },
  {
   "cell_type": "markdown",
   "metadata": {},
   "source": [
    "### Question 5b\n",
    "\n",
    "Let's look at the distribution of ACT scores. As we saw before when we called `head` on this data frame, average ACT scores appear to be integer values. The discreteness of this variable means that we can use a barplot to visualize the distribution of the ACT score. Make a bar plot of the counts of the number of schools receiving each score. "
   ]
  },
  {
   "cell_type": "code",
   "execution_count": 45,
   "metadata": {
    "scrolled": false
   },
   "outputs": [
    {
     "data": {
      "image/png": "[encoded data removed]",
      "text/plain": [
       "<Figure size 432x288 with 1 Axes>"
      ]
     },
     "metadata": {},
     "output_type": "display_data"
    }
   ],
   "source": [
    "sch_score_count = sch['AvgScrMath'].dropna().astype('int').\\\n",
    "value_counts().sort_values('index')\n",
    "\n",
    "plt.bar(sch_score_count.index, height=sch_score_count)\n",
    "plt.xlabel('Score')\n",
    "plt.ylabel('Count')\n",
    "plt.title('Distribution of ACT Math Scores');"
   ]
  },
  {
   "cell_type": "markdown",
   "metadata": {},
   "source": [
    "### Question 5c\n",
    "\n",
    "Describe the qualities of the distribution of the ACT scores based on your bar plot. Consider the mode(s), symmetry, tails, gaps, and anamolous values. Are there any unusual features of this distribution? What do your observations imply about the scores?"
   ]
  },
  {
   "cell_type": "markdown",
   "metadata": {},
   "source": []
  },
  {
   "cell_type": "markdown",
   "metadata": {},
   "source": [
    "### Question 5d\n",
    "\n",
    "Let's figure out which schools had the highest ACT Math scores. Construct a dataframe of five schools in the dataset that had the highest average ACT Math scores. Include only the school name and the average score and make sure to drop non-numerical records in the `AvgScrMath` column."
   ]
  },
  {
   "cell_type": "code",
   "execution_count": 46,
   "metadata": {},
   "outputs": [
    {
     "data": {
      "text/html": [
       "<div>\n",
       "<style scoped>\n",
       "    .dataframe tbody tr th:only-of-type {\n",
       "        vertical-align: middle;\n",
       "    }\n",
       "\n",
       "    .dataframe tbody tr th {\n",
       "        vertical-align: top;\n",
       "    }\n",
       "\n",
       "    .dataframe thead th {\n",
       "        text-align: right;\n",
       "    }\n",
       "</style>\n",
       "<table border=\"1\" class=\"dataframe\">\n",
       "  <thead>\n",
       "    <tr style=\"text-align: right;\">\n",
       "      <th></th>\n",
       "      <th>School</th>\n",
       "      <th>AvgScrMath</th>\n",
       "    </tr>\n",
       "  </thead>\n",
       "  <tbody>\n",
       "    <tr>\n",
       "      <th>9804</th>\n",
       "      <td>Lynbrook High</td>\n",
       "      <td>32</td>\n",
       "    </tr>\n",
       "    <tr>\n",
       "      <th>102</th>\n",
       "      <td>Mission San Jose High</td>\n",
       "      <td>32</td>\n",
       "    </tr>\n",
       "    <tr>\n",
       "      <th>9805</th>\n",
       "      <td>Monta Vista High</td>\n",
       "      <td>31</td>\n",
       "    </tr>\n",
       "    <tr>\n",
       "      <th>9849</th>\n",
       "      <td>Saratoga High</td>\n",
       "      <td>31</td>\n",
       "    </tr>\n",
       "    <tr>\n",
       "      <th>5625</th>\n",
       "      <td>Troy High</td>\n",
       "      <td>30</td>\n",
       "    </tr>\n",
       "  </tbody>\n",
       "</table>\n",
       "</div>"
      ],
      "text/plain": [
       "                     School AvgScrMath\n",
       "9804          Lynbrook High         32\n",
       "102   Mission San Jose High         32\n",
       "9805       Monta Vista High         31\n",
       "9849          Saratoga High         31\n",
       "5625              Troy High         30"
      ]
     },
     "execution_count": 46,
     "metadata": {},
     "output_type": "execute_result"
    }
   ],
   "source": [
    "sch.sort_values(by='AvgScrMath', ascending=False)[['School','AvgScrMath']].head()"
   ]
  },
  {
   "cell_type": "markdown",
   "metadata": {},
   "source": [
    "Using this data frame, identify the school with the highest average ACT Math score. Look up the school name and copy and paste anything interesting you want to share about the school."
   ]
  },
  {
   "cell_type": "markdown",
   "metadata": {},
   "source": [
    "**SOLUTION:** \n",
    "\n",
    "\"Lynbrook High School is a comprehensive public high school serving approximately 1,820 students, grades 9-12, in suburban West San Jose. Opened in 1965 and named for the neighborhood in which it is located, Lynbrook was the fifth school in the Fremont Union High School District and one of three schools the district established during the 1960s. Beginning in the 1970s (not long after Lynbrook opened its doors), FUHSD graduates were instrumental in developing computer technologies that transformed the region into what we now know as the Silicon Valley. Lynbrook’s history is thus closely connected to some of the most profound social and technological developments of our time.\""
   ]
  },
  {
   "cell_type": "markdown",
   "metadata": {},
   "source": [
    "## Summary of the Schools Data\n",
    "\n",
    "Before we move on to explore the other data, let's take stock of what we have learned and the implications of our findings on future analysis. \n",
    "\n",
    "* We found that the cds code is unique across records and so we may be able to use it as a key in joining tables. \n",
    "* We found that there are some errors with the ZIP codes and school type records. In practive, however, we could take the time to look up the schools online and fix these errors.   \n",
    "* We found that there are a huge number of missing average ACT scores. Fixing would require a lot of work, but could in principle be automated for well-formed data. "
   ]
  },
  {
   "cell_type": "markdown",
   "metadata": {},
   "source": [
    "---\n",
    "## 6: Investigate the Demographics Data\n",
    "\n",
    "Let's now turn to the demographics DataFrame. In this section, we determine the granularity of `dem` and investigate the kinds of information provided for school demographics. Let's start by looking again at the first 5 rows of `dem` to see what we're working with."
   ]
  },
  {
   "cell_type": "code",
   "execution_count": null,
   "metadata": {},
   "outputs": [],
   "source": [
    "dem.head()"
   ]
  },
  {
   "cell_type": "markdown",
   "metadata": {},
   "source": [
    "### Question 6a\n",
    "From calling `head`, we know that each row in this table corresponds to a single gender and race. Let's get a sense of the total number of observations, as well as the total number of unique schools that occur in the dataset."
   ]
  },
  {
   "cell_type": "code",
   "execution_count": 47,
   "metadata": {
    "scrolled": true
   },
   "outputs": [
    {
     "name": "stdout",
     "output_type": "stream",
     "text": [
      "130220\n",
      "10521\n"
     ]
    }
   ],
   "source": [
    "# The number of rows in ins\n",
    "rows_in_table  = dem.shape[0]\n",
    "print(rows_in_table)\n",
    "\n",
    "# The number of unique business IDs in ins.\n",
    "unique_dem_ids = dem['CDS_CODE'].value_counts().shape[0]\n",
    "print(unique_dem_ids)"
   ]
  },
  {
   "cell_type": "markdown",
   "metadata": {},
   "source": [
    "### Question 6b\n",
    "\n",
    "Next, we examine the Series in the `dem` dataframe called `ETHNIC`. From examining the first few rows of `ETHNIC`, we see that `ETHNIC` is a integer column, presumably representing some ethnic category. What values does this column take? How many occurrences of each value is in the DataFrame? What are the implications for further analysis? \n",
    "\n",
    "Refer to https://www.cde.ca.gov/ds/sd/sd/fsenr.asp for explanations on the file structure. For instance, the website specifies ethnicity that corresponds to each integer as below:\n",
    "\n",
    "    Code 0 = Not reported\n",
    "    Code 1 = American Indian or Alaska Native, Not Hispanic\n",
    "    Code 2 = Asian, Not Hispanic\n",
    "    Code 3 = Pacific Islander, Not Hispanic\n",
    "    Code 4 = Filipino, Not Hispanic\n",
    "    Code 5 = Hispanic or Latino\n",
    "    Code 6 = African American, not Hispanic\n",
    "    Code 7 = White, not Hispanic\n",
    "    Code 9 = Two or More Races, Not Hispanic"
   ]
  },
  {
   "cell_type": "code",
   "execution_count": 19,
   "metadata": {},
   "outputs": [
    {
     "data": {
      "text/plain": [
       "5    20416\n",
       "7    19731\n",
       "6    16917\n",
       "2    16069\n",
       "9    15479\n",
       "4    13364\n",
       "1    10277\n",
       "3     9018\n",
       "0     8949\n",
       "Name: ETHNIC, dtype: int64"
      ]
     },
     "execution_count": 19,
     "metadata": {},
     "output_type": "execute_result"
    }
   ],
   "source": [
    "pd.value_counts(dem['ETHNIC'])"
   ]
  },
  {
   "cell_type": "markdown",
   "metadata": {},
   "source": [
    "**SOLUTION:**  \n",
    "The column values range from 0 to 9, each corresponding to a specific ethnic group such as Asian or Filipino. The most common type found is the Hispanic or Latino category, and the least common is the Not Reported category."
   ]
  },
  {
   "cell_type": "markdown",
   "metadata": {},
   "source": [
    "### Question 6c\n",
    "\n",
    "Let's now count the proportion of each ethnic group for every school.\n",
    "\n",
    "Create a new dataframe of counts of the ethnic/gender category and proportion of that group, storing the result in `fraction_ethnic_df`. It should have an index called `CDS_CODE` and should also have 4 columns:\n",
    "\n",
    "1. `ethnic`: The ethnic group of interest.\n",
    "2. `gender`: The gender group of interest.\n",
    "3. `count`: The number of students belonging to the specified ethnic group.\n",
    "4. `fraction_count`: The fraction of students belonging to the specified ethnic group.\n",
    "\n",
    "Your data frame should be sorted by the fraction count in descending order.\n",
    "\n",
    "Recommended approach: Build a new dataframe with total number of students for each school and join the table with elements of the the original `dem` dataframe. From there, you can extend the resulting table to compute the fraction of the given ethnic group. This will require some new syntax you may not have seen.\n",
    "\n",
    "*Hint*: You can use the divison operator to compute the ratio of two series."
   ]
  },
  {
   "cell_type": "code",
   "execution_count": 28,
   "metadata": {},
   "outputs": [
    {
     "data": {
      "text/html": [
       "<div>\n",
       "<style scoped>\n",
       "    .dataframe tbody tr th:only-of-type {\n",
       "        vertical-align: middle;\n",
       "    }\n",
       "\n",
       "    .dataframe tbody tr th {\n",
       "        vertical-align: top;\n",
       "    }\n",
       "\n",
       "    .dataframe thead th {\n",
       "        text-align: right;\n",
       "    }\n",
       "</style>\n",
       "<table border=\"1\" class=\"dataframe\">\n",
       "  <thead>\n",
       "    <tr style=\"text-align: right;\">\n",
       "      <th></th>\n",
       "      <th>ethnic</th>\n",
       "      <th>gender</th>\n",
       "      <th>count</th>\n",
       "      <th>fraction_count</th>\n",
       "    </tr>\n",
       "    <tr>\n",
       "      <th>CDS_CODE</th>\n",
       "      <th></th>\n",
       "      <th></th>\n",
       "      <th></th>\n",
       "      <th></th>\n",
       "    </tr>\n",
       "  </thead>\n",
       "  <tbody>\n",
       "    <tr>\n",
       "      <th>6615986003495</th>\n",
       "      <td>5</td>\n",
       "      <td>F</td>\n",
       "      <td>163</td>\n",
       "      <td>0.367117</td>\n",
       "    </tr>\n",
       "    <tr>\n",
       "      <th>6615986003495</th>\n",
       "      <td>1</td>\n",
       "      <td>F</td>\n",
       "      <td>3</td>\n",
       "      <td>0.006757</td>\n",
       "    </tr>\n",
       "    <tr>\n",
       "      <th>6615986003495</th>\n",
       "      <td>9</td>\n",
       "      <td>M</td>\n",
       "      <td>2</td>\n",
       "      <td>0.004505</td>\n",
       "    </tr>\n",
       "    <tr>\n",
       "      <th>6615986003495</th>\n",
       "      <td>7</td>\n",
       "      <td>M</td>\n",
       "      <td>45</td>\n",
       "      <td>0.101351</td>\n",
       "    </tr>\n",
       "    <tr>\n",
       "      <th>6615986003495</th>\n",
       "      <td>5</td>\n",
       "      <td>M</td>\n",
       "      <td>179</td>\n",
       "      <td>0.403153</td>\n",
       "    </tr>\n",
       "  </tbody>\n",
       "</table>\n",
       "</div>"
      ],
      "text/plain": [
       "               ethnic gender  count  fraction_count\n",
       "CDS_CODE                                           \n",
       "6615986003495       5      F    163        0.367117\n",
       "6615986003495       1      F      3        0.006757\n",
       "6615986003495       9      M      2        0.004505\n",
       "6615986003495       7      M     45        0.101351\n",
       "6615986003495       5      M    179        0.403153"
      ]
     },
     "execution_count": 28,
     "metadata": {},
     "output_type": "execute_result"
    }
   ],
   "source": [
    "total_students = pd.DataFrame(dem.groupby('CDS_CODE').sum()['ENR_TOTAL'])\n",
    "total_students.columns = ['count_total']\n",
    "new_table = dem.join(total_students, on='CDS_CODE')\n",
    "new_table['fraction_count'] = new_table['ENR_TOTAL'] / new_table['count_total']\n",
    "new_table = new_table.set_index('CDS_CODE')\n",
    "new_table = new_table.drop('count_total',axis=1)\n",
    "new_table.columns = ['ethnic','gender','count','fraction_count']\n",
    "new_table.head()"
   ]
  },
  {
   "cell_type": "markdown",
   "metadata": {},
   "source": [
    "### Question 6d\n",
    "\n",
    "Let's start by creating a new dataframe called `dem_named`. It should be exactly the same as `dem`, except that it should have the name and average ACT Math Score of every school, as determined by the `sch` dataframe. If a `CDS_CODE` in `dem` does not exist in `sch`, the name and average ACT Math score should be given as NaN. \n",
    "\n",
    "Find the names of five schools with the highest fraction of male, Hispanic students (Ethnic code 5) with more than 10 students falling into the category. Repeat the same exercise with male, Asian students and comment on the differences you observe. Specifically, how do `count` and `fraction_count` columns differ in the two tables?\n",
    "\n",
    "*Hint: Use the merge method to join the `dem` dataframe with the appropriate portion of the `sch` dataframe.*"
   ]
  },
  {
   "cell_type": "code",
   "execution_count": 34,
   "metadata": {},
   "outputs": [
    {
     "data": {
      "text/html": [
       "<div>\n",
       "<style scoped>\n",
       "    .dataframe tbody tr th:only-of-type {\n",
       "        vertical-align: middle;\n",
       "    }\n",
       "\n",
       "    .dataframe tbody tr th {\n",
       "        vertical-align: top;\n",
       "    }\n",
       "\n",
       "    .dataframe thead th {\n",
       "        text-align: right;\n",
       "    }\n",
       "</style>\n",
       "<table border=\"1\" class=\"dataframe\">\n",
       "  <thead>\n",
       "    <tr style=\"text-align: right;\">\n",
       "      <th></th>\n",
       "      <th>ethnic</th>\n",
       "      <th>gender</th>\n",
       "      <th>count</th>\n",
       "      <th>fraction_count</th>\n",
       "      <th>CDSCode</th>\n",
       "      <th>School</th>\n",
       "      <th>AvgScrMath</th>\n",
       "    </tr>\n",
       "  </thead>\n",
       "  <tbody>\n",
       "    <tr>\n",
       "      <th>33740</th>\n",
       "      <td>5</td>\n",
       "      <td>M</td>\n",
       "      <td>394</td>\n",
       "      <td>0.648026</td>\n",
       "      <td>1.964733e+13</td>\n",
       "      <td>Science, Technology, Engineering, Arts and Mat...</td>\n",
       "      <td>17</td>\n",
       "    </tr>\n",
       "    <tr>\n",
       "      <th>46580</th>\n",
       "      <td>5</td>\n",
       "      <td>M</td>\n",
       "      <td>308</td>\n",
       "      <td>0.620968</td>\n",
       "      <td>1.964733e+13</td>\n",
       "      <td>Communication and Technology at Diego Rivera L...</td>\n",
       "      <td>15</td>\n",
       "    </tr>\n",
       "    <tr>\n",
       "      <th>55991</th>\n",
       "      <td>5</td>\n",
       "      <td>M</td>\n",
       "      <td>224</td>\n",
       "      <td>0.603774</td>\n",
       "      <td>1.964733e+13</td>\n",
       "      <td>Contreras Learning Center-Los Angeles School o...</td>\n",
       "      <td>18</td>\n",
       "    </tr>\n",
       "    <tr>\n",
       "      <th>12659</th>\n",
       "      <td>5</td>\n",
       "      <td>M</td>\n",
       "      <td>170</td>\n",
       "      <td>0.602837</td>\n",
       "      <td>3.667710e+13</td>\n",
       "      <td>Citrus High (Continuation)</td>\n",
       "      <td>14</td>\n",
       "    </tr>\n",
       "    <tr>\n",
       "      <th>96543</th>\n",
       "      <td>5</td>\n",
       "      <td>M</td>\n",
       "      <td>198</td>\n",
       "      <td>0.584071</td>\n",
       "      <td>1.964733e+13</td>\n",
       "      <td>Cesar E. Chavez Learning Academies-Technology ...</td>\n",
       "      <td>16</td>\n",
       "    </tr>\n",
       "  </tbody>\n",
       "</table>\n",
       "</div>"
      ],
      "text/plain": [
       "       ethnic gender  count  fraction_count       CDSCode  \\\n",
       "33740       5      M    394        0.648026  1.964733e+13   \n",
       "46580       5      M    308        0.620968  1.964733e+13   \n",
       "55991       5      M    224        0.603774  1.964733e+13   \n",
       "12659       5      M    170        0.602837  3.667710e+13   \n",
       "96543       5      M    198        0.584071  1.964733e+13   \n",
       "\n",
       "                                                  School AvgScrMath  \n",
       "33740  Science, Technology, Engineering, Arts and Mat...         17  \n",
       "46580  Communication and Technology at Diego Rivera L...         15  \n",
       "55991  Contreras Learning Center-Los Angeles School o...         18  \n",
       "12659                         Citrus High (Continuation)         14  \n",
       "96543  Cesar E. Chavez Learning Academies-Technology ...         16  "
      ]
     },
     "execution_count": 34,
     "metadata": {},
     "output_type": "execute_result"
    }
   ],
   "source": [
    "new_table_2 = pd.merge(new_table, sch[['CDSCode','School','AvgScrMath']], \\\n",
    "                       left_on='CDS_CODE', right_on='CDSCode', how='left')\n",
    "hisp = new_table_2.loc[(new_table_2['ethnic']==5) & (new_table_2['gender']=='M') & \\\n",
    "                              (new_table_2['count']>10)]\n",
    "hisp.sort_values(by='fraction_count', ascending=False).dropna().head()"
   ]
  },
  {
   "cell_type": "markdown",
   "metadata": {},
   "source": [
    "Repeating the same exercise for male, Asian students (Ethnic code 2)."
   ]
  },
  {
   "cell_type": "code",
   "execution_count": 132,
   "metadata": {},
   "outputs": [
    {
     "data": {
      "text/html": [
       "<div>\n",
       "<style scoped>\n",
       "    .dataframe tbody tr th:only-of-type {\n",
       "        vertical-align: middle;\n",
       "    }\n",
       "\n",
       "    .dataframe tbody tr th {\n",
       "        vertical-align: top;\n",
       "    }\n",
       "\n",
       "    .dataframe thead th {\n",
       "        text-align: right;\n",
       "    }\n",
       "</style>\n",
       "<table border=\"1\" class=\"dataframe\">\n",
       "  <thead>\n",
       "    <tr style=\"text-align: right;\">\n",
       "      <th></th>\n",
       "      <th>ethnic</th>\n",
       "      <th>gender</th>\n",
       "      <th>count</th>\n",
       "      <th>fraction_count</th>\n",
       "      <th>CDSCode</th>\n",
       "      <th>School</th>\n",
       "      <th>AvgScrMath</th>\n",
       "    </tr>\n",
       "  </thead>\n",
       "  <tbody>\n",
       "    <tr>\n",
       "      <th>64211</th>\n",
       "      <td>2</td>\n",
       "      <td>M</td>\n",
       "      <td>962</td>\n",
       "      <td>0.470186</td>\n",
       "      <td>1.611760e+12</td>\n",
       "      <td>Mission San Jose High</td>\n",
       "      <td>32</td>\n",
       "    </tr>\n",
       "    <tr>\n",
       "      <th>59929</th>\n",
       "      <td>2</td>\n",
       "      <td>M</td>\n",
       "      <td>810</td>\n",
       "      <td>0.430851</td>\n",
       "      <td>4.369468e+13</td>\n",
       "      <td>Lynbrook High</td>\n",
       "      <td>32</td>\n",
       "    </tr>\n",
       "    <tr>\n",
       "      <th>17715</th>\n",
       "      <td>2</td>\n",
       "      <td>M</td>\n",
       "      <td>894</td>\n",
       "      <td>0.393140</td>\n",
       "      <td>4.369468e+13</td>\n",
       "      <td>Monta Vista High</td>\n",
       "      <td>31</td>\n",
       "    </tr>\n",
       "    <tr>\n",
       "      <th>9030</th>\n",
       "      <td>2</td>\n",
       "      <td>M</td>\n",
       "      <td>837</td>\n",
       "      <td>0.392405</td>\n",
       "      <td>3.066522e+13</td>\n",
       "      <td>La Quinta High</td>\n",
       "      <td>24</td>\n",
       "    </tr>\n",
       "    <tr>\n",
       "      <th>59996</th>\n",
       "      <td>2</td>\n",
       "      <td>M</td>\n",
       "      <td>864</td>\n",
       "      <td>0.374837</td>\n",
       "      <td>4.369468e+13</td>\n",
       "      <td>Cupertino High</td>\n",
       "      <td>30</td>\n",
       "    </tr>\n",
       "  </tbody>\n",
       "</table>\n",
       "</div>"
      ],
      "text/plain": [
       "       ethnic gender  count  fraction_count       CDSCode  \\\n",
       "64211       2      M    962        0.470186  1.611760e+12   \n",
       "59929       2      M    810        0.430851  4.369468e+13   \n",
       "17715       2      M    894        0.393140  4.369468e+13   \n",
       "9030        2      M    837        0.392405  3.066522e+13   \n",
       "59996       2      M    864        0.374837  4.369468e+13   \n",
       "\n",
       "                      School AvgScrMath  \n",
       "64211  Mission San Jose High         32  \n",
       "59929          Lynbrook High         32  \n",
       "17715       Monta Vista High         31  \n",
       "9030          La Quinta High         24  \n",
       "59996         Cupertino High         30  "
      ]
     },
     "execution_count": 132,
     "metadata": {},
     "output_type": "execute_result"
    }
   ],
   "source": [
    "asian = new_table_2.loc[(new_table_2['ethnic']==2) & (new_table_2['gender']=='M') & \\\n",
    "                             (new_table_2['count']>10)]\n",
    "asian.sort_values(by='fraction_count', ascending=False).dropna().head()"
   ]
  },
  {
   "cell_type": "markdown",
   "metadata": {},
   "source": []
  },
  {
   "cell_type": "markdown",
   "metadata": {},
   "source": [
    "---\n",
    "## 7: Relationship Between Demographics and ACT Scores"
   ]
  },
  {
   "cell_type": "code",
   "execution_count": 35,
   "metadata": {},
   "outputs": [
    {
     "data": {
      "text/plain": [
       "Text(0.5, 1.0, 'Hispanic Student % vs. Avg ACT Math Score')"
      ]
     },
     "execution_count": 35,
     "metadata": {},
     "output_type": "execute_result"
    },
    {
     "data": {
      "image/png": "[encoded data removed]",
      "text/plain": [
       "<Figure size 432x288 with 1 Axes>"
      ]
     },
     "metadata": {},
     "output_type": "display_data"
    }
   ],
   "source": [
    "sns.boxplot(hisp['AvgScrMath'], hisp['fraction_count'], order=['15','16','17','18','19',\\\n",
    "                                                       '20','21','22','23','24','25','26',\\\n",
    "                                                       '27','28','29','30','31','32'])\n",
    "plt.title(\"Hispanic Student % vs. Avg ACT Math Score\")"
   ]
  },
  {
   "cell_type": "code",
   "execution_count": 129,
   "metadata": {},
   "outputs": [
    {
     "data": {
      "text/plain": [
       "Text(0.5, 1.0, 'Asian Student % vs. Avg ACT Math Score')"
      ]
     },
     "execution_count": 129,
     "metadata": {},
     "output_type": "execute_result"
    },
    {
     "data": {
      "image/png": "[encoded data removed]",
      "text/plain": [
       "<Figure size 432x288 with 1 Axes>"
      ]
     },
     "metadata": {},
     "output_type": "display_data"
    }
   ],
   "source": [
    "sns.boxplot(asian['AvgScrMath'], asian['fraction_count'], order=['15','16','17','18','19',\\\n",
    "                                                       '20','21','22','23','24','25','26',\\\n",
    "                                                       '27','28','29','30','31','32'])\n",
    "plt.title(\"Asian Student % vs. Avg ACT Math Score\")"
   ]
  },
  {
   "cell_type": "markdown",
   "metadata": {},
   "source": [
    "## Summary of the Demographics Data\n",
    "\n",
    "What we have learned about the demographics data? What might be some next steps in our investigation? \n",
    "\n",
    "* We found that the records are at the gender and ethnicity level and that we have inspections for a single year.   \n",
    "* By joining the schools and demographics data, we identified the name of the school with the highest average ACT Math scores and optionally the names of the schools with the lowest scores.\n",
    "* We also examined the relationship between the ethnicity and standardized test scores. Findings may warrant further investigation. "
   ]
  },
  {
   "cell_type": "markdown",
   "metadata": {},
   "source": [
    "<img src=\"Data/ST_2016.06.27_race-inequality-ch1-03-2.png\" style=\"width:400px\">\n",
    "\n",
    "*\"Americans often forget that as late as the 1960s most African-American, Latino, and Native American students were educated in wholly segregated schools funded at rates many times lower than those serving whites and were excluded from many higher education institutions entirely.\"*\n",
    "\n",
    "*\"Two-thirds of minority students still attend schools that are predominantly minority, most of them located in central cities and funded well below those in neighboring suburban districts... On an intra-state basis, many of the states with the widest disparities in educational expenditures are large industrial states. In these states, many minorities and economically disadvantaged students are located in property-poor urban districts which fare the worst in educational expenditures (or) in rural districts which suffer from fiscal inequity.\"*\n",
    "\n",
    "*\"In fact, the U.S. educational system is one of the most unequal in the industrialized world, and students routinely receive dramatically different learning opportunities based on their social status. In contrast to European and Asian nations that fund schools centrally and equally, the wealthiest 10 percent of U.S. school districts spend nearly 10 times more than the poorest 10 percent, and spending ratios of 3 to 1 are common within states. Despite stark differences in funding, teacher quality, curriculum, and class sizes, the prevailing view is that if students do not achieve, it is their own fault. If we are ever to get beyond the problem of the color line, we must confront and address these inequalities.\" *\n",
    "\n",
    "*Brookings Institute*\n",
    "\n",
    "https://www.brookings.edu/articles/unequal-opportunity-race-and-education/"
   ]
  }
 ],
 "metadata": {
  "kernelspec": {
   "display_name": "Python 3",
   "language": "python",
   "name": "python3"
  },
  "language_info": {
   "codemirror_mode": {
    "name": "ipython",
    "version": 3
   },
   "file_extension": ".py",
   "mimetype": "text/x-python",
   "name": "python",
   "nbconvert_exporter": "python",
   "pygments_lexer": "ipython3",
   "version": "3.6.5"
  }
 },
 "nbformat": 4,
 "nbformat_minor": 2
}
